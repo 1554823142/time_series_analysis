{
 "cells": [
  {
   "cell_type": "markdown",
   "metadata": {},
   "source": [
    "## 2.4 清理数据"
   ]
  },
  {
   "cell_type": "code",
   "execution_count": 64,
   "metadata": {
    "vscode": {
     "languageId": "r"
    }
   },
   "outputs": [],
   "source": [
    "require(zoo)\n",
    "require(data.table)"
   ]
  },
  {
   "cell_type": "code",
   "execution_count": 65,
   "metadata": {
    "vscode": {
     "languageId": "r"
    }
   },
   "outputs": [],
   "source": [
    "unemp <- fread(\"../../demo_code/Ch02/data/UNRATE.csv\")\n",
    "unemp[, DATE := as.Date(DATE, format = \"%Y-%m-%d\")]\n",
    "setkey(unemp, DATE)"
   ]
  },
  {
   "cell_type": "code",
   "execution_count": 66,
   "metadata": {
    "vscode": {
     "languageId": "r"
    }
   },
   "outputs": [
    {
     "data": {
      "text/html": [
       "<table class=\"dataframe\">\n",
       "<caption>A data.table: 844 × 2</caption>\n",
       "<thead>\n",
       "\t<tr><th scope=col>DATE</th><th scope=col>UNRATE</th></tr>\n",
       "\t<tr><th scope=col>&lt;date&gt;</th><th scope=col>&lt;dbl&gt;</th></tr>\n",
       "</thead>\n",
       "<tbody>\n",
       "\t<tr><td>1948-01-01</td><td>3.4</td></tr>\n",
       "\t<tr><td>1948-02-01</td><td>3.8</td></tr>\n",
       "\t<tr><td>1948-03-01</td><td>4.0</td></tr>\n",
       "\t<tr><td>1948-04-01</td><td>3.9</td></tr>\n",
       "\t<tr><td>1948-05-01</td><td>3.5</td></tr>\n",
       "\t<tr><td>1948-06-01</td><td>3.6</td></tr>\n",
       "\t<tr><td>1948-07-01</td><td>3.6</td></tr>\n",
       "\t<tr><td>1948-08-01</td><td>3.9</td></tr>\n",
       "\t<tr><td>1948-09-01</td><td>3.8</td></tr>\n",
       "\t<tr><td>1948-10-01</td><td>3.7</td></tr>\n",
       "\t<tr><td>1948-11-01</td><td>3.8</td></tr>\n",
       "\t<tr><td>1948-12-01</td><td>4.0</td></tr>\n",
       "\t<tr><td>1949-01-01</td><td>4.3</td></tr>\n",
       "\t<tr><td>1949-02-01</td><td>4.7</td></tr>\n",
       "\t<tr><td>1949-03-01</td><td>5.0</td></tr>\n",
       "\t<tr><td>1949-04-01</td><td>5.3</td></tr>\n",
       "\t<tr><td>1949-05-01</td><td>6.1</td></tr>\n",
       "\t<tr><td>1949-06-01</td><td>6.2</td></tr>\n",
       "\t<tr><td>1949-07-01</td><td>6.7</td></tr>\n",
       "\t<tr><td>1949-08-01</td><td>6.8</td></tr>\n",
       "\t<tr><td>1949-09-01</td><td>6.6</td></tr>\n",
       "\t<tr><td>1949-10-01</td><td>7.9</td></tr>\n",
       "\t<tr><td>1949-11-01</td><td>6.4</td></tr>\n",
       "\t<tr><td>1949-12-01</td><td>6.6</td></tr>\n",
       "\t<tr><td>1950-01-01</td><td>6.5</td></tr>\n",
       "\t<tr><td>1950-02-01</td><td>6.4</td></tr>\n",
       "\t<tr><td>1950-03-01</td><td>6.3</td></tr>\n",
       "\t<tr><td>1950-04-01</td><td>5.8</td></tr>\n",
       "\t<tr><td>1950-05-01</td><td>5.5</td></tr>\n",
       "\t<tr><td>1950-06-01</td><td>5.4</td></tr>\n",
       "\t<tr><td>⋮</td><td>⋮</td></tr>\n",
       "\t<tr><td>2015-11-01</td><td>5.0</td></tr>\n",
       "\t<tr><td>2015-12-01</td><td>5.0</td></tr>\n",
       "\t<tr><td>2016-01-01</td><td>4.9</td></tr>\n",
       "\t<tr><td>2016-02-01</td><td>4.9</td></tr>\n",
       "\t<tr><td>2016-03-01</td><td>5.0</td></tr>\n",
       "\t<tr><td>2016-04-01</td><td>5.0</td></tr>\n",
       "\t<tr><td>2016-05-01</td><td>4.7</td></tr>\n",
       "\t<tr><td>2016-06-01</td><td>4.9</td></tr>\n",
       "\t<tr><td>2016-07-01</td><td>4.9</td></tr>\n",
       "\t<tr><td>2016-08-01</td><td>4.9</td></tr>\n",
       "\t<tr><td>2016-09-01</td><td>5.0</td></tr>\n",
       "\t<tr><td>2016-10-01</td><td>4.9</td></tr>\n",
       "\t<tr><td>2016-11-01</td><td>4.6</td></tr>\n",
       "\t<tr><td>2016-12-01</td><td>4.7</td></tr>\n",
       "\t<tr><td>2017-01-01</td><td>4.8</td></tr>\n",
       "\t<tr><td>2017-02-01</td><td>4.7</td></tr>\n",
       "\t<tr><td>2017-03-01</td><td>4.5</td></tr>\n",
       "\t<tr><td>2017-04-01</td><td>4.4</td></tr>\n",
       "\t<tr><td>2017-05-01</td><td>4.3</td></tr>\n",
       "\t<tr><td>2017-06-01</td><td>4.3</td></tr>\n",
       "\t<tr><td>2017-07-01</td><td>4.3</td></tr>\n",
       "\t<tr><td>2017-08-01</td><td>4.4</td></tr>\n",
       "\t<tr><td>2017-09-01</td><td>4.2</td></tr>\n",
       "\t<tr><td>2017-10-01</td><td>4.1</td></tr>\n",
       "\t<tr><td>2017-11-01</td><td>4.1</td></tr>\n",
       "\t<tr><td>2017-12-01</td><td>4.1</td></tr>\n",
       "\t<tr><td>2018-01-01</td><td>4.1</td></tr>\n",
       "\t<tr><td>2018-02-01</td><td>4.1</td></tr>\n",
       "\t<tr><td>2018-03-01</td><td>4.1</td></tr>\n",
       "\t<tr><td>2018-04-01</td><td>3.9</td></tr>\n",
       "</tbody>\n",
       "</table>\n"
      ],
      "text/latex": [
       "A data.table: 844 × 2\n",
       "\\begin{tabular}{ll}\n",
       " DATE & UNRATE\\\\\n",
       " <date> & <dbl>\\\\\n",
       "\\hline\n",
       "\t 1948-01-01 & 3.4\\\\\n",
       "\t 1948-02-01 & 3.8\\\\\n",
       "\t 1948-03-01 & 4.0\\\\\n",
       "\t 1948-04-01 & 3.9\\\\\n",
       "\t 1948-05-01 & 3.5\\\\\n",
       "\t 1948-06-01 & 3.6\\\\\n",
       "\t 1948-07-01 & 3.6\\\\\n",
       "\t 1948-08-01 & 3.9\\\\\n",
       "\t 1948-09-01 & 3.8\\\\\n",
       "\t 1948-10-01 & 3.7\\\\\n",
       "\t 1948-11-01 & 3.8\\\\\n",
       "\t 1948-12-01 & 4.0\\\\\n",
       "\t 1949-01-01 & 4.3\\\\\n",
       "\t 1949-02-01 & 4.7\\\\\n",
       "\t 1949-03-01 & 5.0\\\\\n",
       "\t 1949-04-01 & 5.3\\\\\n",
       "\t 1949-05-01 & 6.1\\\\\n",
       "\t 1949-06-01 & 6.2\\\\\n",
       "\t 1949-07-01 & 6.7\\\\\n",
       "\t 1949-08-01 & 6.8\\\\\n",
       "\t 1949-09-01 & 6.6\\\\\n",
       "\t 1949-10-01 & 7.9\\\\\n",
       "\t 1949-11-01 & 6.4\\\\\n",
       "\t 1949-12-01 & 6.6\\\\\n",
       "\t 1950-01-01 & 6.5\\\\\n",
       "\t 1950-02-01 & 6.4\\\\\n",
       "\t 1950-03-01 & 6.3\\\\\n",
       "\t 1950-04-01 & 5.8\\\\\n",
       "\t 1950-05-01 & 5.5\\\\\n",
       "\t 1950-06-01 & 5.4\\\\\n",
       "\t ⋮ & ⋮\\\\\n",
       "\t 2015-11-01 & 5.0\\\\\n",
       "\t 2015-12-01 & 5.0\\\\\n",
       "\t 2016-01-01 & 4.9\\\\\n",
       "\t 2016-02-01 & 4.9\\\\\n",
       "\t 2016-03-01 & 5.0\\\\\n",
       "\t 2016-04-01 & 5.0\\\\\n",
       "\t 2016-05-01 & 4.7\\\\\n",
       "\t 2016-06-01 & 4.9\\\\\n",
       "\t 2016-07-01 & 4.9\\\\\n",
       "\t 2016-08-01 & 4.9\\\\\n",
       "\t 2016-09-01 & 5.0\\\\\n",
       "\t 2016-10-01 & 4.9\\\\\n",
       "\t 2016-11-01 & 4.6\\\\\n",
       "\t 2016-12-01 & 4.7\\\\\n",
       "\t 2017-01-01 & 4.8\\\\\n",
       "\t 2017-02-01 & 4.7\\\\\n",
       "\t 2017-03-01 & 4.5\\\\\n",
       "\t 2017-04-01 & 4.4\\\\\n",
       "\t 2017-05-01 & 4.3\\\\\n",
       "\t 2017-06-01 & 4.3\\\\\n",
       "\t 2017-07-01 & 4.3\\\\\n",
       "\t 2017-08-01 & 4.4\\\\\n",
       "\t 2017-09-01 & 4.2\\\\\n",
       "\t 2017-10-01 & 4.1\\\\\n",
       "\t 2017-11-01 & 4.1\\\\\n",
       "\t 2017-12-01 & 4.1\\\\\n",
       "\t 2018-01-01 & 4.1\\\\\n",
       "\t 2018-02-01 & 4.1\\\\\n",
       "\t 2018-03-01 & 4.1\\\\\n",
       "\t 2018-04-01 & 3.9\\\\\n",
       "\\end{tabular}\n"
      ],
      "text/markdown": [
       "\n",
       "A data.table: 844 × 2\n",
       "\n",
       "| DATE &lt;date&gt; | UNRATE &lt;dbl&gt; |\n",
       "|---|---|\n",
       "| 1948-01-01 | 3.4 |\n",
       "| 1948-02-01 | 3.8 |\n",
       "| 1948-03-01 | 4.0 |\n",
       "| 1948-04-01 | 3.9 |\n",
       "| 1948-05-01 | 3.5 |\n",
       "| 1948-06-01 | 3.6 |\n",
       "| 1948-07-01 | 3.6 |\n",
       "| 1948-08-01 | 3.9 |\n",
       "| 1948-09-01 | 3.8 |\n",
       "| 1948-10-01 | 3.7 |\n",
       "| 1948-11-01 | 3.8 |\n",
       "| 1948-12-01 | 4.0 |\n",
       "| 1949-01-01 | 4.3 |\n",
       "| 1949-02-01 | 4.7 |\n",
       "| 1949-03-01 | 5.0 |\n",
       "| 1949-04-01 | 5.3 |\n",
       "| 1949-05-01 | 6.1 |\n",
       "| 1949-06-01 | 6.2 |\n",
       "| 1949-07-01 | 6.7 |\n",
       "| 1949-08-01 | 6.8 |\n",
       "| 1949-09-01 | 6.6 |\n",
       "| 1949-10-01 | 7.9 |\n",
       "| 1949-11-01 | 6.4 |\n",
       "| 1949-12-01 | 6.6 |\n",
       "| 1950-01-01 | 6.5 |\n",
       "| 1950-02-01 | 6.4 |\n",
       "| 1950-03-01 | 6.3 |\n",
       "| 1950-04-01 | 5.8 |\n",
       "| 1950-05-01 | 5.5 |\n",
       "| 1950-06-01 | 5.4 |\n",
       "| ⋮ | ⋮ |\n",
       "| 2015-11-01 | 5.0 |\n",
       "| 2015-12-01 | 5.0 |\n",
       "| 2016-01-01 | 4.9 |\n",
       "| 2016-02-01 | 4.9 |\n",
       "| 2016-03-01 | 5.0 |\n",
       "| 2016-04-01 | 5.0 |\n",
       "| 2016-05-01 | 4.7 |\n",
       "| 2016-06-01 | 4.9 |\n",
       "| 2016-07-01 | 4.9 |\n",
       "| 2016-08-01 | 4.9 |\n",
       "| 2016-09-01 | 5.0 |\n",
       "| 2016-10-01 | 4.9 |\n",
       "| 2016-11-01 | 4.6 |\n",
       "| 2016-12-01 | 4.7 |\n",
       "| 2017-01-01 | 4.8 |\n",
       "| 2017-02-01 | 4.7 |\n",
       "| 2017-03-01 | 4.5 |\n",
       "| 2017-04-01 | 4.4 |\n",
       "| 2017-05-01 | 4.3 |\n",
       "| 2017-06-01 | 4.3 |\n",
       "| 2017-07-01 | 4.3 |\n",
       "| 2017-08-01 | 4.4 |\n",
       "| 2017-09-01 | 4.2 |\n",
       "| 2017-10-01 | 4.1 |\n",
       "| 2017-11-01 | 4.1 |\n",
       "| 2017-12-01 | 4.1 |\n",
       "| 2018-01-01 | 4.1 |\n",
       "| 2018-02-01 | 4.1 |\n",
       "| 2018-03-01 | 4.1 |\n",
       "| 2018-04-01 | 3.9 |\n",
       "\n"
      ],
      "text/plain": [
       "    DATE       UNRATE\n",
       "1   1948-01-01 3.4   \n",
       "2   1948-02-01 3.8   \n",
       "3   1948-03-01 4.0   \n",
       "4   1948-04-01 3.9   \n",
       "5   1948-05-01 3.5   \n",
       "6   1948-06-01 3.6   \n",
       "7   1948-07-01 3.6   \n",
       "8   1948-08-01 3.9   \n",
       "9   1948-09-01 3.8   \n",
       "10  1948-10-01 3.7   \n",
       "11  1948-11-01 3.8   \n",
       "12  1948-12-01 4.0   \n",
       "13  1949-01-01 4.3   \n",
       "14  1949-02-01 4.7   \n",
       "15  1949-03-01 5.0   \n",
       "16  1949-04-01 5.3   \n",
       "17  1949-05-01 6.1   \n",
       "18  1949-06-01 6.2   \n",
       "19  1949-07-01 6.7   \n",
       "20  1949-08-01 6.8   \n",
       "21  1949-09-01 6.6   \n",
       "22  1949-10-01 7.9   \n",
       "23  1949-11-01 6.4   \n",
       "24  1949-12-01 6.6   \n",
       "25  1950-01-01 6.5   \n",
       "26  1950-02-01 6.4   \n",
       "27  1950-03-01 6.3   \n",
       "28  1950-04-01 5.8   \n",
       "29  1950-05-01 5.5   \n",
       "30  1950-06-01 5.4   \n",
       "⋮   ⋮          ⋮     \n",
       "815 2015-11-01 5.0   \n",
       "816 2015-12-01 5.0   \n",
       "817 2016-01-01 4.9   \n",
       "818 2016-02-01 4.9   \n",
       "819 2016-03-01 5.0   \n",
       "820 2016-04-01 5.0   \n",
       "821 2016-05-01 4.7   \n",
       "822 2016-06-01 4.9   \n",
       "823 2016-07-01 4.9   \n",
       "824 2016-08-01 4.9   \n",
       "825 2016-09-01 5.0   \n",
       "826 2016-10-01 4.9   \n",
       "827 2016-11-01 4.6   \n",
       "828 2016-12-01 4.7   \n",
       "829 2017-01-01 4.8   \n",
       "830 2017-02-01 4.7   \n",
       "831 2017-03-01 4.5   \n",
       "832 2017-04-01 4.4   \n",
       "833 2017-05-01 4.3   \n",
       "834 2017-06-01 4.3   \n",
       "835 2017-07-01 4.3   \n",
       "836 2017-08-01 4.4   \n",
       "837 2017-09-01 4.2   \n",
       "838 2017-10-01 4.1   \n",
       "839 2017-11-01 4.1   \n",
       "840 2017-12-01 4.1   \n",
       "841 2018-01-01 4.1   \n",
       "842 2018-02-01 4.1   \n",
       "843 2018-03-01 4.1   \n",
       "844 2018-04-01 3.9   "
      ]
     },
     "metadata": {},
     "output_type": "display_data"
    }
   ],
   "source": [
    "unemp"
   ]
  },
  {
   "cell_type": "code",
   "execution_count": 67,
   "metadata": {
    "vscode": {
     "languageId": "r"
    }
   },
   "outputs": [],
   "source": [
    "# 生成一个数据随机缺失的数据集\n",
    "rand.unemp.idx <- sample(1:nrow(unemp), .1*nrow(unemp)) # 10%的数据缺失\n",
    "rand.unemp     <- unemp[-rand.unemp.idx]    # 有随机的缺失, 删除这些随机选中的行"
   ]
  },
  {
   "cell_type": "code",
   "execution_count": 68,
   "metadata": {
    "vscode": {
     "languageId": "r"
    }
   },
   "outputs": [],
   "source": [
    "# 生成一个数据集\n",
    "# 在该数据集中，失业率高的数据更有可能缺失\n",
    "high.unemp.idx <- which(unemp$UNRATE > 8)\n",
    "num.to.select  <- .2 * length(high.unemp.idx)\n",
    "high.unemp.idx <- sample(high.unemp.idx, )\n",
    "bias.unemp     <- unemp[-high.unemp.idx]        # 会缺失失业率高的月份"
   ]
  },
  {
   "cell_type": "markdown",
   "metadata": {},
   "source": [
    "## R: data.table\n",
    "- 具体见[data.table.md](../notes/chap2/R_data_table.md)\n",
    "- 具体见[data.table官方例子](../my_code/data_table.ipynb)\n",
    "  \n",
    "- eg:使用`:=运算符` --- **按引用修改数据**\n",
    "\n",
    "\n",
    "`dt[, new.col := old.col + 7]`: 向data.table添加了一列，且无须将整个data.table复制到一个新对象上，这帮助我们减少了对内存的使用\n",
    "\n",
    "- 对象索引的列表中, 第一个位置是对行进行修改, 第二个位置([, .....])是对列进行修改"
   ]
  },
  {
   "cell_type": "markdown",
   "metadata": {},
   "source": [
    "#### data.table 中的 J(...)\n",
    "\n",
    "- J()：用于精确或近似匹配键值，常用于滚动连接或基于键的操作中。\n",
    "- list()：创建一个列表结构，通常用于组合多个列或返回一组值，广泛应用于聚合操作。\n",
    "- .()：是 data.table 中的简写版本，功能与 list() 相似，用于返回多个列或表达式的结果"
   ]
  },
  {
   "cell_type": "code",
   "execution_count": 69,
   "metadata": {
    "vscode": {
     "languageId": "r"
    }
   },
   "outputs": [],
   "source": [
    "all.dates <- seq(from = unemp$DATE[1], to = tail(unemp$DATE, 1),    # from DATE的开始到结尾\n",
    "                 by = \"months\")\n",
    "# 如果 all.dates 中的日期不存在于原数据表中，它会触发 roll 机制来处理缺失值\n",
    "rand.unemp = rand.unemp[J(all.dates), roll=0]       # J(): 用于进行键匹配的函数\n",
    "bias.unemp = bias.unemp[J(all.dates), roll=0]\n",
    "rand.unemp[, rpt := is.na(UNRATE)]\n",
    "# 我们标记了缺失的数据，以便进行绘制"
   ]
  },
  {
   "cell_type": "markdown",
   "metadata": {
    "vscode": {
     "languageId": "r"
    }
   },
   "source": [
    "### 缺失值的处理方法\n",
    "\n",
    "- 前向填充法\n",
    "- 移动平均法\n",
    "- 插值法\n"
   ]
  },
  {
   "cell_type": "markdown",
   "metadata": {},
   "source": [
    "滑动连接roll参数:\n",
    "\n",
    "- roll = TRUE: 当无法找到精确匹配时，返回最接近的匹配值。如果 donations 中的日期大于 publicity 中的日期，则会选择 publicity 中小于等于当前日期的最大日期进行匹配。\n",
    "- roll = 0: 不进行任何近似匹配。如果无法找到精确匹配，则返回 NA。\n",
    "- roll = Inf 或 roll = -Inf: 分别表示返回向前或向后最接近的匹配值"
   ]
  },
  {
   "cell_type": "code",
   "execution_count": 70,
   "metadata": {
    "vscode": {
     "languageId": "r"
    }
   },
   "outputs": [
    {
     "data": {
      "text/html": [
       "<table class=\"dataframe\">\n",
       "<caption>A data.table: 6 × 3</caption>\n",
       "<thead>\n",
       "\t<tr><th scope=col>identifier</th><th scope=col>dt</th><th scope=col>amt</th></tr>\n",
       "\t<tr><th scope=col>&lt;chr&gt;</th><th scope=col>&lt;date&gt;</th><th scope=col>&lt;dbl&gt;</th></tr>\n",
       "</thead>\n",
       "<tbody>\n",
       "\t<tr><td>q4q42 </td><td>2019-02-27</td><td>  99</td></tr>\n",
       "\t<tr><td>q4q42 </td><td>2019-03-02</td><td> 100</td></tr>\n",
       "\t<tr><td>4299hj</td><td>2019-06-13</td><td>   5</td></tr>\n",
       "\t<tr><td>bbg2  </td><td>2019-08-01</td><td>  15</td></tr>\n",
       "\t<tr><td>bbg2  </td><td>2019-08-31</td><td>  11</td></tr>\n",
       "\t<tr><td>bbg2  </td><td>2019-09-15</td><td>1200</td></tr>\n",
       "</tbody>\n",
       "</table>\n"
      ],
      "text/latex": [
       "A data.table: 6 × 3\n",
       "\\begin{tabular}{lll}\n",
       " identifier & dt & amt\\\\\n",
       " <chr> & <date> & <dbl>\\\\\n",
       "\\hline\n",
       "\t q4q42  & 2019-02-27 &   99\\\\\n",
       "\t q4q42  & 2019-03-02 &  100\\\\\n",
       "\t 4299hj & 2019-06-13 &    5\\\\\n",
       "\t bbg2   & 2019-08-01 &   15\\\\\n",
       "\t bbg2   & 2019-08-31 &   11\\\\\n",
       "\t bbg2   & 2019-09-15 & 1200\\\\\n",
       "\\end{tabular}\n"
      ],
      "text/markdown": [
       "\n",
       "A data.table: 6 × 3\n",
       "\n",
       "| identifier &lt;chr&gt; | dt &lt;date&gt; | amt &lt;dbl&gt; |\n",
       "|---|---|---|\n",
       "| q4q42  | 2019-02-27 |   99 |\n",
       "| q4q42  | 2019-03-02 |  100 |\n",
       "| 4299hj | 2019-06-13 |    5 |\n",
       "| bbg2   | 2019-08-01 |   15 |\n",
       "| bbg2   | 2019-08-31 |   11 |\n",
       "| bbg2   | 2019-09-15 | 1200 |\n",
       "\n"
      ],
      "text/plain": [
       "  identifier dt         amt \n",
       "1 q4q42      2019-02-27   99\n",
       "2 q4q42      2019-03-02  100\n",
       "3 4299hj     2019-06-13    5\n",
       "4 bbg2       2019-08-01   15\n",
       "5 bbg2       2019-08-31   11\n",
       "6 bbg2       2019-09-15 1200"
      ]
     },
     "metadata": {},
     "output_type": "display_data"
    }
   ],
   "source": [
    "# 滑动连接\n",
    "\n",
    "# 滑动连接能够智能地处理时间戳, 尽管表与表之间的时间戳不会精准的匹配\n",
    "\n",
    "donations <- data.table(\n",
    "    amt = c(99, 100, 5, 15, 11, 1200),\n",
    "    dt = as.Date(c(\"2019-2-27\", \"2019-3-2\", \"2019-6-13\",\n",
    "                \"2019-8-1\", \"2019-8-31\", \"2019-9-15\")))\n",
    "# 我们还有每个宣传活动的日期信息\n",
    "publicity <- data.table(\n",
    "        identifier = c(\"q4q42\", \"4299hj\", \"bbg2\"),\n",
    "        dt         = as.Date(c(\"2019-1-1\",\n",
    "             \"2019-4-1\",\n",
    "            \"2019-7-1\")))\n",
    "\n",
    "\n",
    "# 为每个data.table设置主键\n",
    "setkey(publicity, \"dt\")\n",
    "setkey(donations, \"dt\")\n",
    "\n",
    "publicity[donations, roll = TRUE]       # 在匹配时处理 近似匹配"
   ]
  },
  {
   "cell_type": "markdown",
   "metadata": {},
   "source": [
    "#### 向前填充法\n",
    "\n",
    "使用缺失值之前的最后一个已知值进行填充"
   ]
  },
  {
   "cell_type": "code",
   "execution_count": 71,
   "metadata": {
    "vscode": {
     "languageId": "r"
    }
   },
   "outputs": [],
   "source": [
    "# 注意: := 语法用于对现有列进行修改或者创建新列, 而不是直接使用 =\n",
    "rand.unemp[, impute.ff := na.locf(UNRATE, na.rm = FALSE)]\n",
    "bias.unemp[, impute.ff := na.locf(UNRATE, na.rm = FALSE)]"
   ]
  },
  {
   "cell_type": "code",
   "execution_count": 73,
   "metadata": {
    "vscode": {
     "languageId": "r"
    }
   },
   "outputs": [
    {
     "data": {
      "text/plain": [
       "NULL"
      ]
     },
     "metadata": {},
     "output_type": "display_data"
    },
    {
     "data": {
      "text/plain": [
       "NULL"
      ]
     },
     "metadata": {},
     "output_type": "display_data"
    },
    {
     "data": {
      "text/plain": [
       "NULL"
      ]
     },
     "metadata": {},
     "output_type": "display_data"
    },
    {
     "data": {
      "image/png": "[encoded data removed]",
      "text/plain": [
       "plot without title"
      ]
     },
     "metadata": {
      "image/png": {
       "height": 420,
       "width": 420
      }
     },
     "output_type": "display_data"
    }
   ],
   "source": [
    "# 绘制平面示例图\n",
    "unemp[350:400, plot(DATE, UNRATE,\n",
    "    col = 1, lwd = 2, type = 'b')]\n",
    "\n",
    "rand.unemp[350:400, lines(DATE, impute.ff,\n",
    "    col = 2, lwd = 2, lty = 2)]\n",
    "rand.unemp[350:400][rpt == TRUE, points(DATE, impute.ff, \n",
    "    col = 2, pch = 6, cex = 2)]"
   ]
  },
  {
   "cell_type": "code",
   "execution_count": 23,
   "metadata": {
    "vscode": {
     "languageId": "r"
    }
   },
   "outputs": [
    {
     "data": {
      "image/png": "[encoded data removed]",
      "text/plain": [
       "plot without title"
      ]
     },
     "metadata": {
      "image/png": {
       "height": 420,
       "width": 420
      }
     },
     "output_type": "display_data"
    }
   ],
   "source": [
    "plot(rand.unemp$impute.ff, unemp$UNRATE)"
   ]
  },
  {
   "cell_type": "markdown",
   "metadata": {},
   "source": [
    "#### 移动平均法\n",
    "\n",
    "用移动平均数或中位数来估算数据, 与前向填充相似，移动平均法使用过去的值“预测”未来的缺失值\n",
    "\n",
    "不过，对于移动平均法，你使用的是过去的`多次`输入\n",
    "\n",
    "- `frollapply(x, n, FUN, ..., fill=NA, align=c(\"right\", \"left\", \"center\"))`\n",
    "    - x: 构建的窗口, 使用NA 来作为占位符 \n",
    "    - n: 窗口大小 \n"
   ]
  },
  {
   "cell_type": "code",
   "execution_count": 24,
   "metadata": {
    "vscode": {
     "languageId": "r"
    }
   },
   "outputs": [
    {
     "data": {
      "text/html": [
       "<table class=\"dataframe\">\n",
       "<caption>A data.table: 844 × 4</caption>\n",
       "<thead>\n",
       "\t<tr><th scope=col>DATE</th><th scope=col>UNRATE</th><th scope=col>rpt</th><th scope=col>impute.ff</th></tr>\n",
       "\t<tr><th scope=col>&lt;date&gt;</th><th scope=col>&lt;dbl&gt;</th><th scope=col>&lt;lgl&gt;</th><th scope=col>&lt;dbl&gt;</th></tr>\n",
       "</thead>\n",
       "<tbody>\n",
       "\t<tr><td>1948-01-01</td><td> NA</td><td> TRUE</td><td> NA</td></tr>\n",
       "\t<tr><td>1948-02-01</td><td>3.8</td><td>FALSE</td><td>3.8</td></tr>\n",
       "\t<tr><td>1948-03-01</td><td>4.0</td><td>FALSE</td><td>4.0</td></tr>\n",
       "\t<tr><td>1948-04-01</td><td>3.9</td><td>FALSE</td><td>3.9</td></tr>\n",
       "\t<tr><td>1948-05-01</td><td> NA</td><td> TRUE</td><td>3.9</td></tr>\n",
       "\t<tr><td>1948-06-01</td><td>3.6</td><td>FALSE</td><td>3.6</td></tr>\n",
       "\t<tr><td>1948-07-01</td><td>3.6</td><td>FALSE</td><td>3.6</td></tr>\n",
       "\t<tr><td>1948-08-01</td><td> NA</td><td> TRUE</td><td>3.6</td></tr>\n",
       "\t<tr><td>1948-09-01</td><td>3.8</td><td>FALSE</td><td>3.8</td></tr>\n",
       "\t<tr><td>1948-10-01</td><td>3.7</td><td>FALSE</td><td>3.7</td></tr>\n",
       "\t<tr><td>1948-11-01</td><td>3.8</td><td>FALSE</td><td>3.8</td></tr>\n",
       "\t<tr><td>1948-12-01</td><td>4.0</td><td>FALSE</td><td>4.0</td></tr>\n",
       "\t<tr><td>1949-01-01</td><td>4.3</td><td>FALSE</td><td>4.3</td></tr>\n",
       "\t<tr><td>1949-02-01</td><td>4.7</td><td>FALSE</td><td>4.7</td></tr>\n",
       "\t<tr><td>1949-03-01</td><td>5.0</td><td>FALSE</td><td>5.0</td></tr>\n",
       "\t<tr><td>1949-04-01</td><td>5.3</td><td>FALSE</td><td>5.3</td></tr>\n",
       "\t<tr><td>1949-05-01</td><td>6.1</td><td>FALSE</td><td>6.1</td></tr>\n",
       "\t<tr><td>1949-06-01</td><td>6.2</td><td>FALSE</td><td>6.2</td></tr>\n",
       "\t<tr><td>1949-07-01</td><td>6.7</td><td>FALSE</td><td>6.7</td></tr>\n",
       "\t<tr><td>1949-08-01</td><td>6.8</td><td>FALSE</td><td>6.8</td></tr>\n",
       "\t<tr><td>1949-09-01</td><td>6.6</td><td>FALSE</td><td>6.6</td></tr>\n",
       "\t<tr><td>1949-10-01</td><td>7.9</td><td>FALSE</td><td>7.9</td></tr>\n",
       "\t<tr><td>1949-11-01</td><td>6.4</td><td>FALSE</td><td>6.4</td></tr>\n",
       "\t<tr><td>1949-12-01</td><td>6.6</td><td>FALSE</td><td>6.6</td></tr>\n",
       "\t<tr><td>1950-01-01</td><td>6.5</td><td>FALSE</td><td>6.5</td></tr>\n",
       "\t<tr><td>1950-02-01</td><td>6.4</td><td>FALSE</td><td>6.4</td></tr>\n",
       "\t<tr><td>1950-03-01</td><td>6.3</td><td>FALSE</td><td>6.3</td></tr>\n",
       "\t<tr><td>1950-04-01</td><td>5.8</td><td>FALSE</td><td>5.8</td></tr>\n",
       "\t<tr><td>1950-05-01</td><td>5.5</td><td>FALSE</td><td>5.5</td></tr>\n",
       "\t<tr><td>1950-06-01</td><td>5.4</td><td>FALSE</td><td>5.4</td></tr>\n",
       "\t<tr><td>⋮</td><td>⋮</td><td>⋮</td><td>⋮</td></tr>\n",
       "\t<tr><td>2015-11-01</td><td>5.0</td><td>FALSE</td><td>5.0</td></tr>\n",
       "\t<tr><td>2015-12-01</td><td>5.0</td><td>FALSE</td><td>5.0</td></tr>\n",
       "\t<tr><td>2016-01-01</td><td>4.9</td><td>FALSE</td><td>4.9</td></tr>\n",
       "\t<tr><td>2016-02-01</td><td>4.9</td><td>FALSE</td><td>4.9</td></tr>\n",
       "\t<tr><td>2016-03-01</td><td>5.0</td><td>FALSE</td><td>5.0</td></tr>\n",
       "\t<tr><td>2016-04-01</td><td>5.0</td><td>FALSE</td><td>5.0</td></tr>\n",
       "\t<tr><td>2016-05-01</td><td>4.7</td><td>FALSE</td><td>4.7</td></tr>\n",
       "\t<tr><td>2016-06-01</td><td>4.9</td><td>FALSE</td><td>4.9</td></tr>\n",
       "\t<tr><td>2016-07-01</td><td>4.9</td><td>FALSE</td><td>4.9</td></tr>\n",
       "\t<tr><td>2016-08-01</td><td>4.9</td><td>FALSE</td><td>4.9</td></tr>\n",
       "\t<tr><td>2016-09-01</td><td>5.0</td><td>FALSE</td><td>5.0</td></tr>\n",
       "\t<tr><td>2016-10-01</td><td>4.9</td><td>FALSE</td><td>4.9</td></tr>\n",
       "\t<tr><td>2016-11-01</td><td>4.6</td><td>FALSE</td><td>4.6</td></tr>\n",
       "\t<tr><td>2016-12-01</td><td>4.7</td><td>FALSE</td><td>4.7</td></tr>\n",
       "\t<tr><td>2017-01-01</td><td> NA</td><td> TRUE</td><td>4.7</td></tr>\n",
       "\t<tr><td>2017-02-01</td><td>4.7</td><td>FALSE</td><td>4.7</td></tr>\n",
       "\t<tr><td>2017-03-01</td><td>4.5</td><td>FALSE</td><td>4.5</td></tr>\n",
       "\t<tr><td>2017-04-01</td><td>4.4</td><td>FALSE</td><td>4.4</td></tr>\n",
       "\t<tr><td>2017-05-01</td><td>4.3</td><td>FALSE</td><td>4.3</td></tr>\n",
       "\t<tr><td>2017-06-01</td><td>4.3</td><td>FALSE</td><td>4.3</td></tr>\n",
       "\t<tr><td>2017-07-01</td><td>4.3</td><td>FALSE</td><td>4.3</td></tr>\n",
       "\t<tr><td>2017-08-01</td><td>4.4</td><td>FALSE</td><td>4.4</td></tr>\n",
       "\t<tr><td>2017-09-01</td><td>4.2</td><td>FALSE</td><td>4.2</td></tr>\n",
       "\t<tr><td>2017-10-01</td><td>4.1</td><td>FALSE</td><td>4.1</td></tr>\n",
       "\t<tr><td>2017-11-01</td><td>4.1</td><td>FALSE</td><td>4.1</td></tr>\n",
       "\t<tr><td>2017-12-01</td><td>4.1</td><td>FALSE</td><td>4.1</td></tr>\n",
       "\t<tr><td>2018-01-01</td><td>4.1</td><td>FALSE</td><td>4.1</td></tr>\n",
       "\t<tr><td>2018-02-01</td><td>4.1</td><td>FALSE</td><td>4.1</td></tr>\n",
       "\t<tr><td>2018-03-01</td><td>4.1</td><td>FALSE</td><td>4.1</td></tr>\n",
       "\t<tr><td>2018-04-01</td><td>3.9</td><td>FALSE</td><td>3.9</td></tr>\n",
       "</tbody>\n",
       "</table>\n"
      ],
      "text/latex": [
       "A data.table: 844 × 4\n",
       "\\begin{tabular}{llll}\n",
       " DATE & UNRATE & rpt & impute.ff\\\\\n",
       " <date> & <dbl> & <lgl> & <dbl>\\\\\n",
       "\\hline\n",
       "\t 1948-01-01 &  NA &  TRUE &  NA\\\\\n",
       "\t 1948-02-01 & 3.8 & FALSE & 3.8\\\\\n",
       "\t 1948-03-01 & 4.0 & FALSE & 4.0\\\\\n",
       "\t 1948-04-01 & 3.9 & FALSE & 3.9\\\\\n",
       "\t 1948-05-01 &  NA &  TRUE & 3.9\\\\\n",
       "\t 1948-06-01 & 3.6 & FALSE & 3.6\\\\\n",
       "\t 1948-07-01 & 3.6 & FALSE & 3.6\\\\\n",
       "\t 1948-08-01 &  NA &  TRUE & 3.6\\\\\n",
       "\t 1948-09-01 & 3.8 & FALSE & 3.8\\\\\n",
       "\t 1948-10-01 & 3.7 & FALSE & 3.7\\\\\n",
       "\t 1948-11-01 & 3.8 & FALSE & 3.8\\\\\n",
       "\t 1948-12-01 & 4.0 & FALSE & 4.0\\\\\n",
       "\t 1949-01-01 & 4.3 & FALSE & 4.3\\\\\n",
       "\t 1949-02-01 & 4.7 & FALSE & 4.7\\\\\n",
       "\t 1949-03-01 & 5.0 & FALSE & 5.0\\\\\n",
       "\t 1949-04-01 & 5.3 & FALSE & 5.3\\\\\n",
       "\t 1949-05-01 & 6.1 & FALSE & 6.1\\\\\n",
       "\t 1949-06-01 & 6.2 & FALSE & 6.2\\\\\n",
       "\t 1949-07-01 & 6.7 & FALSE & 6.7\\\\\n",
       "\t 1949-08-01 & 6.8 & FALSE & 6.8\\\\\n",
       "\t 1949-09-01 & 6.6 & FALSE & 6.6\\\\\n",
       "\t 1949-10-01 & 7.9 & FALSE & 7.9\\\\\n",
       "\t 1949-11-01 & 6.4 & FALSE & 6.4\\\\\n",
       "\t 1949-12-01 & 6.6 & FALSE & 6.6\\\\\n",
       "\t 1950-01-01 & 6.5 & FALSE & 6.5\\\\\n",
       "\t 1950-02-01 & 6.4 & FALSE & 6.4\\\\\n",
       "\t 1950-03-01 & 6.3 & FALSE & 6.3\\\\\n",
       "\t 1950-04-01 & 5.8 & FALSE & 5.8\\\\\n",
       "\t 1950-05-01 & 5.5 & FALSE & 5.5\\\\\n",
       "\t 1950-06-01 & 5.4 & FALSE & 5.4\\\\\n",
       "\t ⋮ & ⋮ & ⋮ & ⋮\\\\\n",
       "\t 2015-11-01 & 5.0 & FALSE & 5.0\\\\\n",
       "\t 2015-12-01 & 5.0 & FALSE & 5.0\\\\\n",
       "\t 2016-01-01 & 4.9 & FALSE & 4.9\\\\\n",
       "\t 2016-02-01 & 4.9 & FALSE & 4.9\\\\\n",
       "\t 2016-03-01 & 5.0 & FALSE & 5.0\\\\\n",
       "\t 2016-04-01 & 5.0 & FALSE & 5.0\\\\\n",
       "\t 2016-05-01 & 4.7 & FALSE & 4.7\\\\\n",
       "\t 2016-06-01 & 4.9 & FALSE & 4.9\\\\\n",
       "\t 2016-07-01 & 4.9 & FALSE & 4.9\\\\\n",
       "\t 2016-08-01 & 4.9 & FALSE & 4.9\\\\\n",
       "\t 2016-09-01 & 5.0 & FALSE & 5.0\\\\\n",
       "\t 2016-10-01 & 4.9 & FALSE & 4.9\\\\\n",
       "\t 2016-11-01 & 4.6 & FALSE & 4.6\\\\\n",
       "\t 2016-12-01 & 4.7 & FALSE & 4.7\\\\\n",
       "\t 2017-01-01 &  NA &  TRUE & 4.7\\\\\n",
       "\t 2017-02-01 & 4.7 & FALSE & 4.7\\\\\n",
       "\t 2017-03-01 & 4.5 & FALSE & 4.5\\\\\n",
       "\t 2017-04-01 & 4.4 & FALSE & 4.4\\\\\n",
       "\t 2017-05-01 & 4.3 & FALSE & 4.3\\\\\n",
       "\t 2017-06-01 & 4.3 & FALSE & 4.3\\\\\n",
       "\t 2017-07-01 & 4.3 & FALSE & 4.3\\\\\n",
       "\t 2017-08-01 & 4.4 & FALSE & 4.4\\\\\n",
       "\t 2017-09-01 & 4.2 & FALSE & 4.2\\\\\n",
       "\t 2017-10-01 & 4.1 & FALSE & 4.1\\\\\n",
       "\t 2017-11-01 & 4.1 & FALSE & 4.1\\\\\n",
       "\t 2017-12-01 & 4.1 & FALSE & 4.1\\\\\n",
       "\t 2018-01-01 & 4.1 & FALSE & 4.1\\\\\n",
       "\t 2018-02-01 & 4.1 & FALSE & 4.1\\\\\n",
       "\t 2018-03-01 & 4.1 & FALSE & 4.1\\\\\n",
       "\t 2018-04-01 & 3.9 & FALSE & 3.9\\\\\n",
       "\\end{tabular}\n"
      ],
      "text/markdown": [
       "\n",
       "A data.table: 844 × 4\n",
       "\n",
       "| DATE &lt;date&gt; | UNRATE &lt;dbl&gt; | rpt &lt;lgl&gt; | impute.ff &lt;dbl&gt; |\n",
       "|---|---|---|---|\n",
       "| 1948-01-01 |  NA |  TRUE |  NA |\n",
       "| 1948-02-01 | 3.8 | FALSE | 3.8 |\n",
       "| 1948-03-01 | 4.0 | FALSE | 4.0 |\n",
       "| 1948-04-01 | 3.9 | FALSE | 3.9 |\n",
       "| 1948-05-01 |  NA |  TRUE | 3.9 |\n",
       "| 1948-06-01 | 3.6 | FALSE | 3.6 |\n",
       "| 1948-07-01 | 3.6 | FALSE | 3.6 |\n",
       "| 1948-08-01 |  NA |  TRUE | 3.6 |\n",
       "| 1948-09-01 | 3.8 | FALSE | 3.8 |\n",
       "| 1948-10-01 | 3.7 | FALSE | 3.7 |\n",
       "| 1948-11-01 | 3.8 | FALSE | 3.8 |\n",
       "| 1948-12-01 | 4.0 | FALSE | 4.0 |\n",
       "| 1949-01-01 | 4.3 | FALSE | 4.3 |\n",
       "| 1949-02-01 | 4.7 | FALSE | 4.7 |\n",
       "| 1949-03-01 | 5.0 | FALSE | 5.0 |\n",
       "| 1949-04-01 | 5.3 | FALSE | 5.3 |\n",
       "| 1949-05-01 | 6.1 | FALSE | 6.1 |\n",
       "| 1949-06-01 | 6.2 | FALSE | 6.2 |\n",
       "| 1949-07-01 | 6.7 | FALSE | 6.7 |\n",
       "| 1949-08-01 | 6.8 | FALSE | 6.8 |\n",
       "| 1949-09-01 | 6.6 | FALSE | 6.6 |\n",
       "| 1949-10-01 | 7.9 | FALSE | 7.9 |\n",
       "| 1949-11-01 | 6.4 | FALSE | 6.4 |\n",
       "| 1949-12-01 | 6.6 | FALSE | 6.6 |\n",
       "| 1950-01-01 | 6.5 | FALSE | 6.5 |\n",
       "| 1950-02-01 | 6.4 | FALSE | 6.4 |\n",
       "| 1950-03-01 | 6.3 | FALSE | 6.3 |\n",
       "| 1950-04-01 | 5.8 | FALSE | 5.8 |\n",
       "| 1950-05-01 | 5.5 | FALSE | 5.5 |\n",
       "| 1950-06-01 | 5.4 | FALSE | 5.4 |\n",
       "| ⋮ | ⋮ | ⋮ | ⋮ |\n",
       "| 2015-11-01 | 5.0 | FALSE | 5.0 |\n",
       "| 2015-12-01 | 5.0 | FALSE | 5.0 |\n",
       "| 2016-01-01 | 4.9 | FALSE | 4.9 |\n",
       "| 2016-02-01 | 4.9 | FALSE | 4.9 |\n",
       "| 2016-03-01 | 5.0 | FALSE | 5.0 |\n",
       "| 2016-04-01 | 5.0 | FALSE | 5.0 |\n",
       "| 2016-05-01 | 4.7 | FALSE | 4.7 |\n",
       "| 2016-06-01 | 4.9 | FALSE | 4.9 |\n",
       "| 2016-07-01 | 4.9 | FALSE | 4.9 |\n",
       "| 2016-08-01 | 4.9 | FALSE | 4.9 |\n",
       "| 2016-09-01 | 5.0 | FALSE | 5.0 |\n",
       "| 2016-10-01 | 4.9 | FALSE | 4.9 |\n",
       "| 2016-11-01 | 4.6 | FALSE | 4.6 |\n",
       "| 2016-12-01 | 4.7 | FALSE | 4.7 |\n",
       "| 2017-01-01 |  NA |  TRUE | 4.7 |\n",
       "| 2017-02-01 | 4.7 | FALSE | 4.7 |\n",
       "| 2017-03-01 | 4.5 | FALSE | 4.5 |\n",
       "| 2017-04-01 | 4.4 | FALSE | 4.4 |\n",
       "| 2017-05-01 | 4.3 | FALSE | 4.3 |\n",
       "| 2017-06-01 | 4.3 | FALSE | 4.3 |\n",
       "| 2017-07-01 | 4.3 | FALSE | 4.3 |\n",
       "| 2017-08-01 | 4.4 | FALSE | 4.4 |\n",
       "| 2017-09-01 | 4.2 | FALSE | 4.2 |\n",
       "| 2017-10-01 | 4.1 | FALSE | 4.1 |\n",
       "| 2017-11-01 | 4.1 | FALSE | 4.1 |\n",
       "| 2017-12-01 | 4.1 | FALSE | 4.1 |\n",
       "| 2018-01-01 | 4.1 | FALSE | 4.1 |\n",
       "| 2018-02-01 | 4.1 | FALSE | 4.1 |\n",
       "| 2018-03-01 | 4.1 | FALSE | 4.1 |\n",
       "| 2018-04-01 | 3.9 | FALSE | 3.9 |\n",
       "\n"
      ],
      "text/plain": [
       "    DATE       UNRATE rpt   impute.ff\n",
       "1   1948-01-01  NA     TRUE  NA      \n",
       "2   1948-02-01 3.8    FALSE 3.8      \n",
       "3   1948-03-01 4.0    FALSE 4.0      \n",
       "4   1948-04-01 3.9    FALSE 3.9      \n",
       "5   1948-05-01  NA     TRUE 3.9      \n",
       "6   1948-06-01 3.6    FALSE 3.6      \n",
       "7   1948-07-01 3.6    FALSE 3.6      \n",
       "8   1948-08-01  NA     TRUE 3.6      \n",
       "9   1948-09-01 3.8    FALSE 3.8      \n",
       "10  1948-10-01 3.7    FALSE 3.7      \n",
       "11  1948-11-01 3.8    FALSE 3.8      \n",
       "12  1948-12-01 4.0    FALSE 4.0      \n",
       "13  1949-01-01 4.3    FALSE 4.3      \n",
       "14  1949-02-01 4.7    FALSE 4.7      \n",
       "15  1949-03-01 5.0    FALSE 5.0      \n",
       "16  1949-04-01 5.3    FALSE 5.3      \n",
       "17  1949-05-01 6.1    FALSE 6.1      \n",
       "18  1949-06-01 6.2    FALSE 6.2      \n",
       "19  1949-07-01 6.7    FALSE 6.7      \n",
       "20  1949-08-01 6.8    FALSE 6.8      \n",
       "21  1949-09-01 6.6    FALSE 6.6      \n",
       "22  1949-10-01 7.9    FALSE 7.9      \n",
       "23  1949-11-01 6.4    FALSE 6.4      \n",
       "24  1949-12-01 6.6    FALSE 6.6      \n",
       "25  1950-01-01 6.5    FALSE 6.5      \n",
       "26  1950-02-01 6.4    FALSE 6.4      \n",
       "27  1950-03-01 6.3    FALSE 6.3      \n",
       "28  1950-04-01 5.8    FALSE 5.8      \n",
       "29  1950-05-01 5.5    FALSE 5.5      \n",
       "30  1950-06-01 5.4    FALSE 5.4      \n",
       "⋮   ⋮          ⋮      ⋮     ⋮        \n",
       "815 2015-11-01 5.0    FALSE 5.0      \n",
       "816 2015-12-01 5.0    FALSE 5.0      \n",
       "817 2016-01-01 4.9    FALSE 4.9      \n",
       "818 2016-02-01 4.9    FALSE 4.9      \n",
       "819 2016-03-01 5.0    FALSE 5.0      \n",
       "820 2016-04-01 5.0    FALSE 5.0      \n",
       "821 2016-05-01 4.7    FALSE 4.7      \n",
       "822 2016-06-01 4.9    FALSE 4.9      \n",
       "823 2016-07-01 4.9    FALSE 4.9      \n",
       "824 2016-08-01 4.9    FALSE 4.9      \n",
       "825 2016-09-01 5.0    FALSE 5.0      \n",
       "826 2016-10-01 4.9    FALSE 4.9      \n",
       "827 2016-11-01 4.6    FALSE 4.6      \n",
       "828 2016-12-01 4.7    FALSE 4.7      \n",
       "829 2017-01-01  NA     TRUE 4.7      \n",
       "830 2017-02-01 4.7    FALSE 4.7      \n",
       "831 2017-03-01 4.5    FALSE 4.5      \n",
       "832 2017-04-01 4.4    FALSE 4.4      \n",
       "833 2017-05-01 4.3    FALSE 4.3      \n",
       "834 2017-06-01 4.3    FALSE 4.3      \n",
       "835 2017-07-01 4.3    FALSE 4.3      \n",
       "836 2017-08-01 4.4    FALSE 4.4      \n",
       "837 2017-09-01 4.2    FALSE 4.2      \n",
       "838 2017-10-01 4.1    FALSE 4.1      \n",
       "839 2017-11-01 4.1    FALSE 4.1      \n",
       "840 2017-12-01 4.1    FALSE 4.1      \n",
       "841 2018-01-01 4.1    FALSE 4.1      \n",
       "842 2018-02-01 4.1    FALSE 4.1      \n",
       "843 2018-03-01 4.1    FALSE 4.1      \n",
       "844 2018-04-01 3.9    FALSE 3.9      "
      ]
     },
     "metadata": {},
     "output_type": "display_data"
    }
   ],
   "source": [
    "rand.unemp"
   ]
  },
  {
   "cell_type": "code",
   "execution_count": 77,
   "metadata": {
    "vscode": {
     "languageId": "r"
    }
   },
   "outputs": [],
   "source": [
    "# 无前瞻的移动平均\n",
    "\n",
    "# c(NA, NA, UNRATE): 构建滑动窗口, 由于n = 3, 所以前两个用缺失值作为占位符\n",
    "# n = 3: 对于每一行，rollapply 会考虑当前行和前两行的数据来进行计算\n",
    "rand.unemp[, impute.rm.nolookahead := rollapply(c(NA, NA, UNRATE), 3,\n",
    "        function(x) {           # x[3](窗口中的第三个元素) <==> UNRATE     \n",
    "             if(!is.na(x[3])) x[3] else mean(x, na.rm = TRUE)    # 如果为na, 则取前两个已知数的平均值\n",
    "        })]\n",
    "bias.unemp[, impute.rm.nolookahead := rollapply(c(NA, NA, UNRATE), 3,\n",
    "        function(x) {\n",
    "             if(!is.na(x[3])) x[3] else mean(x, na.rm = TRUE)\n",
    "        })]"
   ]
  },
  {
   "cell_type": "code",
   "execution_count": null,
   "metadata": {
    "vscode": {
     "languageId": "r"
    }
   },
   "outputs": [
    {
     "data": {
      "text/html": [
       "<table class=\"dataframe\">\n",
       "<caption>A data.table: 844 × 5</caption>\n",
       "<thead>\n",
       "\t<tr><th scope=col>DATE</th><th scope=col>UNRATE</th><th scope=col>rpt</th><th scope=col>impute.ff</th><th scope=col>impute.rm.nolookahead</th></tr>\n",
       "\t<tr><th scope=col>&lt;date&gt;</th><th scope=col>&lt;dbl&gt;</th><th scope=col>&lt;lgl&gt;</th><th scope=col>&lt;dbl&gt;</th><th scope=col>&lt;dbl&gt;</th></tr>\n",
       "</thead>\n",
       "<tbody>\n",
       "\t<tr><td>1948-01-01</td><td> NA</td><td> TRUE</td><td> NA</td><td> NaN</td></tr>\n",
       "\t<tr><td>1948-02-01</td><td>3.8</td><td>FALSE</td><td>3.8</td><td>3.80</td></tr>\n",
       "\t<tr><td>1948-03-01</td><td>4.0</td><td>FALSE</td><td>4.0</td><td>4.00</td></tr>\n",
       "\t<tr><td>1948-04-01</td><td>3.9</td><td>FALSE</td><td>3.9</td><td>3.90</td></tr>\n",
       "\t<tr><td>1948-05-01</td><td> NA</td><td> TRUE</td><td>3.9</td><td>3.95</td></tr>\n",
       "\t<tr><td>1948-06-01</td><td>3.6</td><td>FALSE</td><td>3.6</td><td>3.60</td></tr>\n",
       "\t<tr><td>1948-07-01</td><td>3.6</td><td>FALSE</td><td>3.6</td><td>3.60</td></tr>\n",
       "\t<tr><td>1948-08-01</td><td> NA</td><td> TRUE</td><td>3.6</td><td>3.60</td></tr>\n",
       "\t<tr><td>1948-09-01</td><td>3.8</td><td>FALSE</td><td>3.8</td><td>3.80</td></tr>\n",
       "\t<tr><td>1948-10-01</td><td>3.7</td><td>FALSE</td><td>3.7</td><td>3.70</td></tr>\n",
       "\t<tr><td>1948-11-01</td><td>3.8</td><td>FALSE</td><td>3.8</td><td>3.80</td></tr>\n",
       "\t<tr><td>1948-12-01</td><td>4.0</td><td>FALSE</td><td>4.0</td><td>4.00</td></tr>\n",
       "\t<tr><td>1949-01-01</td><td>4.3</td><td>FALSE</td><td>4.3</td><td>4.30</td></tr>\n",
       "\t<tr><td>1949-02-01</td><td>4.7</td><td>FALSE</td><td>4.7</td><td>4.70</td></tr>\n",
       "\t<tr><td>1949-03-01</td><td>5.0</td><td>FALSE</td><td>5.0</td><td>5.00</td></tr>\n",
       "\t<tr><td>1949-04-01</td><td>5.3</td><td>FALSE</td><td>5.3</td><td>5.30</td></tr>\n",
       "\t<tr><td>1949-05-01</td><td>6.1</td><td>FALSE</td><td>6.1</td><td>6.10</td></tr>\n",
       "\t<tr><td>1949-06-01</td><td>6.2</td><td>FALSE</td><td>6.2</td><td>6.20</td></tr>\n",
       "\t<tr><td>1949-07-01</td><td>6.7</td><td>FALSE</td><td>6.7</td><td>6.70</td></tr>\n",
       "\t<tr><td>1949-08-01</td><td>6.8</td><td>FALSE</td><td>6.8</td><td>6.80</td></tr>\n",
       "\t<tr><td>1949-09-01</td><td>6.6</td><td>FALSE</td><td>6.6</td><td>6.60</td></tr>\n",
       "\t<tr><td>1949-10-01</td><td>7.9</td><td>FALSE</td><td>7.9</td><td>7.90</td></tr>\n",
       "\t<tr><td>1949-11-01</td><td>6.4</td><td>FALSE</td><td>6.4</td><td>6.40</td></tr>\n",
       "\t<tr><td>1949-12-01</td><td>6.6</td><td>FALSE</td><td>6.6</td><td>6.60</td></tr>\n",
       "\t<tr><td>1950-01-01</td><td>6.5</td><td>FALSE</td><td>6.5</td><td>6.50</td></tr>\n",
       "\t<tr><td>1950-02-01</td><td>6.4</td><td>FALSE</td><td>6.4</td><td>6.40</td></tr>\n",
       "\t<tr><td>1950-03-01</td><td>6.3</td><td>FALSE</td><td>6.3</td><td>6.30</td></tr>\n",
       "\t<tr><td>1950-04-01</td><td>5.8</td><td>FALSE</td><td>5.8</td><td>5.80</td></tr>\n",
       "\t<tr><td>1950-05-01</td><td>5.5</td><td>FALSE</td><td>5.5</td><td>5.50</td></tr>\n",
       "\t<tr><td>1950-06-01</td><td>5.4</td><td>FALSE</td><td>5.4</td><td>5.40</td></tr>\n",
       "\t<tr><td>⋮</td><td>⋮</td><td>⋮</td><td>⋮</td><td>⋮</td></tr>\n",
       "\t<tr><td>2015-11-01</td><td>5.0</td><td>FALSE</td><td>5.0</td><td>5.00</td></tr>\n",
       "\t<tr><td>2015-12-01</td><td>5.0</td><td>FALSE</td><td>5.0</td><td>5.00</td></tr>\n",
       "\t<tr><td>2016-01-01</td><td>4.9</td><td>FALSE</td><td>4.9</td><td>4.90</td></tr>\n",
       "\t<tr><td>2016-02-01</td><td>4.9</td><td>FALSE</td><td>4.9</td><td>4.90</td></tr>\n",
       "\t<tr><td>2016-03-01</td><td>5.0</td><td>FALSE</td><td>5.0</td><td>5.00</td></tr>\n",
       "\t<tr><td>2016-04-01</td><td>5.0</td><td>FALSE</td><td>5.0</td><td>5.00</td></tr>\n",
       "\t<tr><td>2016-05-01</td><td>4.7</td><td>FALSE</td><td>4.7</td><td>4.70</td></tr>\n",
       "\t<tr><td>2016-06-01</td><td>4.9</td><td>FALSE</td><td>4.9</td><td>4.90</td></tr>\n",
       "\t<tr><td>2016-07-01</td><td>4.9</td><td>FALSE</td><td>4.9</td><td>4.90</td></tr>\n",
       "\t<tr><td>2016-08-01</td><td>4.9</td><td>FALSE</td><td>4.9</td><td>4.90</td></tr>\n",
       "\t<tr><td>2016-09-01</td><td>5.0</td><td>FALSE</td><td>5.0</td><td>5.00</td></tr>\n",
       "\t<tr><td>2016-10-01</td><td>4.9</td><td>FALSE</td><td>4.9</td><td>4.90</td></tr>\n",
       "\t<tr><td>2016-11-01</td><td>4.6</td><td>FALSE</td><td>4.6</td><td>4.60</td></tr>\n",
       "\t<tr><td>2016-12-01</td><td>4.7</td><td>FALSE</td><td>4.7</td><td>4.70</td></tr>\n",
       "\t<tr><td>2017-01-01</td><td> NA</td><td> TRUE</td><td>4.7</td><td>4.65</td></tr>\n",
       "\t<tr><td>2017-02-01</td><td>4.7</td><td>FALSE</td><td>4.7</td><td>4.70</td></tr>\n",
       "\t<tr><td>2017-03-01</td><td>4.5</td><td>FALSE</td><td>4.5</td><td>4.50</td></tr>\n",
       "\t<tr><td>2017-04-01</td><td>4.4</td><td>FALSE</td><td>4.4</td><td>4.40</td></tr>\n",
       "\t<tr><td>2017-05-01</td><td>4.3</td><td>FALSE</td><td>4.3</td><td>4.30</td></tr>\n",
       "\t<tr><td>2017-06-01</td><td>4.3</td><td>FALSE</td><td>4.3</td><td>4.30</td></tr>\n",
       "\t<tr><td>2017-07-01</td><td>4.3</td><td>FALSE</td><td>4.3</td><td>4.30</td></tr>\n",
       "\t<tr><td>2017-08-01</td><td>4.4</td><td>FALSE</td><td>4.4</td><td>4.40</td></tr>\n",
       "\t<tr><td>2017-09-01</td><td>4.2</td><td>FALSE</td><td>4.2</td><td>4.20</td></tr>\n",
       "\t<tr><td>2017-10-01</td><td>4.1</td><td>FALSE</td><td>4.1</td><td>4.10</td></tr>\n",
       "\t<tr><td>2017-11-01</td><td>4.1</td><td>FALSE</td><td>4.1</td><td>4.10</td></tr>\n",
       "\t<tr><td>2017-12-01</td><td>4.1</td><td>FALSE</td><td>4.1</td><td>4.10</td></tr>\n",
       "\t<tr><td>2018-01-01</td><td>4.1</td><td>FALSE</td><td>4.1</td><td>4.10</td></tr>\n",
       "\t<tr><td>2018-02-01</td><td>4.1</td><td>FALSE</td><td>4.1</td><td>4.10</td></tr>\n",
       "\t<tr><td>2018-03-01</td><td>4.1</td><td>FALSE</td><td>4.1</td><td>4.10</td></tr>\n",
       "\t<tr><td>2018-04-01</td><td>3.9</td><td>FALSE</td><td>3.9</td><td>3.90</td></tr>\n",
       "</tbody>\n",
       "</table>\n"
      ],
      "text/latex": [
       "A data.table: 844 × 5\n",
       "\\begin{tabular}{lllll}\n",
       " DATE & UNRATE & rpt & impute.ff & impute.rm.nolookahead\\\\\n",
       " <date> & <dbl> & <lgl> & <dbl> & <dbl>\\\\\n",
       "\\hline\n",
       "\t 1948-01-01 &  NA &  TRUE &  NA &  NaN\\\\\n",
       "\t 1948-02-01 & 3.8 & FALSE & 3.8 & 3.80\\\\\n",
       "\t 1948-03-01 & 4.0 & FALSE & 4.0 & 4.00\\\\\n",
       "\t 1948-04-01 & 3.9 & FALSE & 3.9 & 3.90\\\\\n",
       "\t 1948-05-01 &  NA &  TRUE & 3.9 & 3.95\\\\\n",
       "\t 1948-06-01 & 3.6 & FALSE & 3.6 & 3.60\\\\\n",
       "\t 1948-07-01 & 3.6 & FALSE & 3.6 & 3.60\\\\\n",
       "\t 1948-08-01 &  NA &  TRUE & 3.6 & 3.60\\\\\n",
       "\t 1948-09-01 & 3.8 & FALSE & 3.8 & 3.80\\\\\n",
       "\t 1948-10-01 & 3.7 & FALSE & 3.7 & 3.70\\\\\n",
       "\t 1948-11-01 & 3.8 & FALSE & 3.8 & 3.80\\\\\n",
       "\t 1948-12-01 & 4.0 & FALSE & 4.0 & 4.00\\\\\n",
       "\t 1949-01-01 & 4.3 & FALSE & 4.3 & 4.30\\\\\n",
       "\t 1949-02-01 & 4.7 & FALSE & 4.7 & 4.70\\\\\n",
       "\t 1949-03-01 & 5.0 & FALSE & 5.0 & 5.00\\\\\n",
       "\t 1949-04-01 & 5.3 & FALSE & 5.3 & 5.30\\\\\n",
       "\t 1949-05-01 & 6.1 & FALSE & 6.1 & 6.10\\\\\n",
       "\t 1949-06-01 & 6.2 & FALSE & 6.2 & 6.20\\\\\n",
       "\t 1949-07-01 & 6.7 & FALSE & 6.7 & 6.70\\\\\n",
       "\t 1949-08-01 & 6.8 & FALSE & 6.8 & 6.80\\\\\n",
       "\t 1949-09-01 & 6.6 & FALSE & 6.6 & 6.60\\\\\n",
       "\t 1949-10-01 & 7.9 & FALSE & 7.9 & 7.90\\\\\n",
       "\t 1949-11-01 & 6.4 & FALSE & 6.4 & 6.40\\\\\n",
       "\t 1949-12-01 & 6.6 & FALSE & 6.6 & 6.60\\\\\n",
       "\t 1950-01-01 & 6.5 & FALSE & 6.5 & 6.50\\\\\n",
       "\t 1950-02-01 & 6.4 & FALSE & 6.4 & 6.40\\\\\n",
       "\t 1950-03-01 & 6.3 & FALSE & 6.3 & 6.30\\\\\n",
       "\t 1950-04-01 & 5.8 & FALSE & 5.8 & 5.80\\\\\n",
       "\t 1950-05-01 & 5.5 & FALSE & 5.5 & 5.50\\\\\n",
       "\t 1950-06-01 & 5.4 & FALSE & 5.4 & 5.40\\\\\n",
       "\t ⋮ & ⋮ & ⋮ & ⋮ & ⋮\\\\\n",
       "\t 2015-11-01 & 5.0 & FALSE & 5.0 & 5.00\\\\\n",
       "\t 2015-12-01 & 5.0 & FALSE & 5.0 & 5.00\\\\\n",
       "\t 2016-01-01 & 4.9 & FALSE & 4.9 & 4.90\\\\\n",
       "\t 2016-02-01 & 4.9 & FALSE & 4.9 & 4.90\\\\\n",
       "\t 2016-03-01 & 5.0 & FALSE & 5.0 & 5.00\\\\\n",
       "\t 2016-04-01 & 5.0 & FALSE & 5.0 & 5.00\\\\\n",
       "\t 2016-05-01 & 4.7 & FALSE & 4.7 & 4.70\\\\\n",
       "\t 2016-06-01 & 4.9 & FALSE & 4.9 & 4.90\\\\\n",
       "\t 2016-07-01 & 4.9 & FALSE & 4.9 & 4.90\\\\\n",
       "\t 2016-08-01 & 4.9 & FALSE & 4.9 & 4.90\\\\\n",
       "\t 2016-09-01 & 5.0 & FALSE & 5.0 & 5.00\\\\\n",
       "\t 2016-10-01 & 4.9 & FALSE & 4.9 & 4.90\\\\\n",
       "\t 2016-11-01 & 4.6 & FALSE & 4.6 & 4.60\\\\\n",
       "\t 2016-12-01 & 4.7 & FALSE & 4.7 & 4.70\\\\\n",
       "\t 2017-01-01 &  NA &  TRUE & 4.7 & 4.65\\\\\n",
       "\t 2017-02-01 & 4.7 & FALSE & 4.7 & 4.70\\\\\n",
       "\t 2017-03-01 & 4.5 & FALSE & 4.5 & 4.50\\\\\n",
       "\t 2017-04-01 & 4.4 & FALSE & 4.4 & 4.40\\\\\n",
       "\t 2017-05-01 & 4.3 & FALSE & 4.3 & 4.30\\\\\n",
       "\t 2017-06-01 & 4.3 & FALSE & 4.3 & 4.30\\\\\n",
       "\t 2017-07-01 & 4.3 & FALSE & 4.3 & 4.30\\\\\n",
       "\t 2017-08-01 & 4.4 & FALSE & 4.4 & 4.40\\\\\n",
       "\t 2017-09-01 & 4.2 & FALSE & 4.2 & 4.20\\\\\n",
       "\t 2017-10-01 & 4.1 & FALSE & 4.1 & 4.10\\\\\n",
       "\t 2017-11-01 & 4.1 & FALSE & 4.1 & 4.10\\\\\n",
       "\t 2017-12-01 & 4.1 & FALSE & 4.1 & 4.10\\\\\n",
       "\t 2018-01-01 & 4.1 & FALSE & 4.1 & 4.10\\\\\n",
       "\t 2018-02-01 & 4.1 & FALSE & 4.1 & 4.10\\\\\n",
       "\t 2018-03-01 & 4.1 & FALSE & 4.1 & 4.10\\\\\n",
       "\t 2018-04-01 & 3.9 & FALSE & 3.9 & 3.90\\\\\n",
       "\\end{tabular}\n"
      ],
      "text/markdown": [
       "\n",
       "A data.table: 844 × 5\n",
       "\n",
       "| DATE &lt;date&gt; | UNRATE &lt;dbl&gt; | rpt &lt;lgl&gt; | impute.ff &lt;dbl&gt; | impute.rm.nolookahead &lt;dbl&gt; |\n",
       "|---|---|---|---|---|\n",
       "| 1948-01-01 |  NA |  TRUE |  NA |  NaN |\n",
       "| 1948-02-01 | 3.8 | FALSE | 3.8 | 3.80 |\n",
       "| 1948-03-01 | 4.0 | FALSE | 4.0 | 4.00 |\n",
       "| 1948-04-01 | 3.9 | FALSE | 3.9 | 3.90 |\n",
       "| 1948-05-01 |  NA |  TRUE | 3.9 | 3.95 |\n",
       "| 1948-06-01 | 3.6 | FALSE | 3.6 | 3.60 |\n",
       "| 1948-07-01 | 3.6 | FALSE | 3.6 | 3.60 |\n",
       "| 1948-08-01 |  NA |  TRUE | 3.6 | 3.60 |\n",
       "| 1948-09-01 | 3.8 | FALSE | 3.8 | 3.80 |\n",
       "| 1948-10-01 | 3.7 | FALSE | 3.7 | 3.70 |\n",
       "| 1948-11-01 | 3.8 | FALSE | 3.8 | 3.80 |\n",
       "| 1948-12-01 | 4.0 | FALSE | 4.0 | 4.00 |\n",
       "| 1949-01-01 | 4.3 | FALSE | 4.3 | 4.30 |\n",
       "| 1949-02-01 | 4.7 | FALSE | 4.7 | 4.70 |\n",
       "| 1949-03-01 | 5.0 | FALSE | 5.0 | 5.00 |\n",
       "| 1949-04-01 | 5.3 | FALSE | 5.3 | 5.30 |\n",
       "| 1949-05-01 | 6.1 | FALSE | 6.1 | 6.10 |\n",
       "| 1949-06-01 | 6.2 | FALSE | 6.2 | 6.20 |\n",
       "| 1949-07-01 | 6.7 | FALSE | 6.7 | 6.70 |\n",
       "| 1949-08-01 | 6.8 | FALSE | 6.8 | 6.80 |\n",
       "| 1949-09-01 | 6.6 | FALSE | 6.6 | 6.60 |\n",
       "| 1949-10-01 | 7.9 | FALSE | 7.9 | 7.90 |\n",
       "| 1949-11-01 | 6.4 | FALSE | 6.4 | 6.40 |\n",
       "| 1949-12-01 | 6.6 | FALSE | 6.6 | 6.60 |\n",
       "| 1950-01-01 | 6.5 | FALSE | 6.5 | 6.50 |\n",
       "| 1950-02-01 | 6.4 | FALSE | 6.4 | 6.40 |\n",
       "| 1950-03-01 | 6.3 | FALSE | 6.3 | 6.30 |\n",
       "| 1950-04-01 | 5.8 | FALSE | 5.8 | 5.80 |\n",
       "| 1950-05-01 | 5.5 | FALSE | 5.5 | 5.50 |\n",
       "| 1950-06-01 | 5.4 | FALSE | 5.4 | 5.40 |\n",
       "| ⋮ | ⋮ | ⋮ | ⋮ | ⋮ |\n",
       "| 2015-11-01 | 5.0 | FALSE | 5.0 | 5.00 |\n",
       "| 2015-12-01 | 5.0 | FALSE | 5.0 | 5.00 |\n",
       "| 2016-01-01 | 4.9 | FALSE | 4.9 | 4.90 |\n",
       "| 2016-02-01 | 4.9 | FALSE | 4.9 | 4.90 |\n",
       "| 2016-03-01 | 5.0 | FALSE | 5.0 | 5.00 |\n",
       "| 2016-04-01 | 5.0 | FALSE | 5.0 | 5.00 |\n",
       "| 2016-05-01 | 4.7 | FALSE | 4.7 | 4.70 |\n",
       "| 2016-06-01 | 4.9 | FALSE | 4.9 | 4.90 |\n",
       "| 2016-07-01 | 4.9 | FALSE | 4.9 | 4.90 |\n",
       "| 2016-08-01 | 4.9 | FALSE | 4.9 | 4.90 |\n",
       "| 2016-09-01 | 5.0 | FALSE | 5.0 | 5.00 |\n",
       "| 2016-10-01 | 4.9 | FALSE | 4.9 | 4.90 |\n",
       "| 2016-11-01 | 4.6 | FALSE | 4.6 | 4.60 |\n",
       "| 2016-12-01 | 4.7 | FALSE | 4.7 | 4.70 |\n",
       "| 2017-01-01 |  NA |  TRUE | 4.7 | 4.65 |\n",
       "| 2017-02-01 | 4.7 | FALSE | 4.7 | 4.70 |\n",
       "| 2017-03-01 | 4.5 | FALSE | 4.5 | 4.50 |\n",
       "| 2017-04-01 | 4.4 | FALSE | 4.4 | 4.40 |\n",
       "| 2017-05-01 | 4.3 | FALSE | 4.3 | 4.30 |\n",
       "| 2017-06-01 | 4.3 | FALSE | 4.3 | 4.30 |\n",
       "| 2017-07-01 | 4.3 | FALSE | 4.3 | 4.30 |\n",
       "| 2017-08-01 | 4.4 | FALSE | 4.4 | 4.40 |\n",
       "| 2017-09-01 | 4.2 | FALSE | 4.2 | 4.20 |\n",
       "| 2017-10-01 | 4.1 | FALSE | 4.1 | 4.10 |\n",
       "| 2017-11-01 | 4.1 | FALSE | 4.1 | 4.10 |\n",
       "| 2017-12-01 | 4.1 | FALSE | 4.1 | 4.10 |\n",
       "| 2018-01-01 | 4.1 | FALSE | 4.1 | 4.10 |\n",
       "| 2018-02-01 | 4.1 | FALSE | 4.1 | 4.10 |\n",
       "| 2018-03-01 | 4.1 | FALSE | 4.1 | 4.10 |\n",
       "| 2018-04-01 | 3.9 | FALSE | 3.9 | 3.90 |\n",
       "\n"
      ],
      "text/plain": [
       "    DATE       UNRATE rpt   impute.ff impute.rm.nolookahead\n",
       "1   1948-01-01  NA     TRUE  NA        NaN                 \n",
       "2   1948-02-01 3.8    FALSE 3.8       3.80                 \n",
       "3   1948-03-01 4.0    FALSE 4.0       4.00                 \n",
       "4   1948-04-01 3.9    FALSE 3.9       3.90                 \n",
       "5   1948-05-01  NA     TRUE 3.9       3.95                 \n",
       "6   1948-06-01 3.6    FALSE 3.6       3.60                 \n",
       "7   1948-07-01 3.6    FALSE 3.6       3.60                 \n",
       "8   1948-08-01  NA     TRUE 3.6       3.60                 \n",
       "9   1948-09-01 3.8    FALSE 3.8       3.80                 \n",
       "10  1948-10-01 3.7    FALSE 3.7       3.70                 \n",
       "11  1948-11-01 3.8    FALSE 3.8       3.80                 \n",
       "12  1948-12-01 4.0    FALSE 4.0       4.00                 \n",
       "13  1949-01-01 4.3    FALSE 4.3       4.30                 \n",
       "14  1949-02-01 4.7    FALSE 4.7       4.70                 \n",
       "15  1949-03-01 5.0    FALSE 5.0       5.00                 \n",
       "16  1949-04-01 5.3    FALSE 5.3       5.30                 \n",
       "17  1949-05-01 6.1    FALSE 6.1       6.10                 \n",
       "18  1949-06-01 6.2    FALSE 6.2       6.20                 \n",
       "19  1949-07-01 6.7    FALSE 6.7       6.70                 \n",
       "20  1949-08-01 6.8    FALSE 6.8       6.80                 \n",
       "21  1949-09-01 6.6    FALSE 6.6       6.60                 \n",
       "22  1949-10-01 7.9    FALSE 7.9       7.90                 \n",
       "23  1949-11-01 6.4    FALSE 6.4       6.40                 \n",
       "24  1949-12-01 6.6    FALSE 6.6       6.60                 \n",
       "25  1950-01-01 6.5    FALSE 6.5       6.50                 \n",
       "26  1950-02-01 6.4    FALSE 6.4       6.40                 \n",
       "27  1950-03-01 6.3    FALSE 6.3       6.30                 \n",
       "28  1950-04-01 5.8    FALSE 5.8       5.80                 \n",
       "29  1950-05-01 5.5    FALSE 5.5       5.50                 \n",
       "30  1950-06-01 5.4    FALSE 5.4       5.40                 \n",
       "⋮   ⋮          ⋮      ⋮     ⋮         ⋮                    \n",
       "815 2015-11-01 5.0    FALSE 5.0       5.00                 \n",
       "816 2015-12-01 5.0    FALSE 5.0       5.00                 \n",
       "817 2016-01-01 4.9    FALSE 4.9       4.90                 \n",
       "818 2016-02-01 4.9    FALSE 4.9       4.90                 \n",
       "819 2016-03-01 5.0    FALSE 5.0       5.00                 \n",
       "820 2016-04-01 5.0    FALSE 5.0       5.00                 \n",
       "821 2016-05-01 4.7    FALSE 4.7       4.70                 \n",
       "822 2016-06-01 4.9    FALSE 4.9       4.90                 \n",
       "823 2016-07-01 4.9    FALSE 4.9       4.90                 \n",
       "824 2016-08-01 4.9    FALSE 4.9       4.90                 \n",
       "825 2016-09-01 5.0    FALSE 5.0       5.00                 \n",
       "826 2016-10-01 4.9    FALSE 4.9       4.90                 \n",
       "827 2016-11-01 4.6    FALSE 4.6       4.60                 \n",
       "828 2016-12-01 4.7    FALSE 4.7       4.70                 \n",
       "829 2017-01-01  NA     TRUE 4.7       4.65                 \n",
       "830 2017-02-01 4.7    FALSE 4.7       4.70                 \n",
       "831 2017-03-01 4.5    FALSE 4.5       4.50                 \n",
       "832 2017-04-01 4.4    FALSE 4.4       4.40                 \n",
       "833 2017-05-01 4.3    FALSE 4.3       4.30                 \n",
       "834 2017-06-01 4.3    FALSE 4.3       4.30                 \n",
       "835 2017-07-01 4.3    FALSE 4.3       4.30                 \n",
       "836 2017-08-01 4.4    FALSE 4.4       4.40                 \n",
       "837 2017-09-01 4.2    FALSE 4.2       4.20                 \n",
       "838 2017-10-01 4.1    FALSE 4.1       4.10                 \n",
       "839 2017-11-01 4.1    FALSE 4.1       4.10                 \n",
       "840 2017-12-01 4.1    FALSE 4.1       4.10                 \n",
       "841 2018-01-01 4.1    FALSE 4.1       4.10                 \n",
       "842 2018-02-01 4.1    FALSE 4.1       4.10                 \n",
       "843 2018-03-01 4.1    FALSE 4.1       4.10                 \n",
       "844 2018-04-01 3.9    FALSE 3.9       3.90                 "
      ]
     },
     "metadata": {},
     "output_type": "display_data"
    }
   ],
   "source": [
    "rand.unemp"
   ]
  },
  {
   "cell_type": "code",
   "execution_count": 90,
   "metadata": {
    "vscode": {
     "languageId": "r"
    }
   },
   "outputs": [],
   "source": [
    "# 有前瞻的移动平均\n",
    "\n",
    "rand.unemp[, impute.rm.lookahead := rollapply(c(NA, UNRATE, NA), 3,\n",
    "        function(x) {           # x[3](窗口中的第三个元素) <==> UNRATE     \n",
    "             if(!is.na(x[2])) x[2] else mean(x, na.rm = TRUE)    # 如果为na, 则取前两个已知数的平均值\n",
    "        })]\n",
    "bias.unemp[, impute.rm.lookahead := rollapply(c(NA, UNRATE, NA), 3,\n",
    "        function(x) {\n",
    "             if(!is.na(x[2])) x[2] else mean(x, na.rm = TRUE)\n",
    "        })]"
   ]
  },
  {
   "cell_type": "code",
   "execution_count": 92,
   "metadata": {
    "vscode": {
     "languageId": "r"
    }
   },
   "outputs": [
    {
     "data": {
      "text/plain": [
       "NULL"
      ]
     },
     "metadata": {},
     "output_type": "display_data"
    },
    {
     "data": {
      "text/plain": [
       "NULL"
      ]
     },
     "metadata": {},
     "output_type": "display_data"
    },
    {
     "data": {
      "text/plain": [
       "NULL"
      ]
     },
     "metadata": {},
     "output_type": "display_data"
    },
    {
     "data": {
      "text/plain": [
       "NULL"
      ]
     },
     "metadata": {},
     "output_type": "display_data"
    },
    {
     "data": {
      "text/plain": [
       "NULL"
      ]
     },
     "metadata": {},
     "output_type": "display_data"
    },
    {
     "data": {
      "image/png": "[encoded data removed]",
      "text/plain": [
       "plot without title"
      ]
     },
     "metadata": {
      "image/png": {
       "height": 420,
       "width": 420
      }
     },
     "output_type": "display_data"
    }
   ],
   "source": [
    "unemp[100:150, plot(DATE, UNRATE,\n",
    "    col = 1, lwd = 2, type = 'b')]\n",
    "\n",
    "rand.unemp[100:150, lines(DATE, impute.rm.nolookahead,\n",
    "    col = 2, lwd = 2, lty = 2)]\n",
    "rand.unemp[100:150][rpt == TRUE, points(DATE, impute.rm.nolookahead, \n",
    "    col = 2, pch = 6, cex = 2)]\n",
    "\n",
    "rand.unemp[100:150, lines(DATE, impute.rm.lookahead,\n",
    "    col = 3, lwd = 2, lty = 2)]\n",
    "rand.unemp[100:150][rpt == TRUE, points(DATE, impute.rm.lookahead, \n",
    "    col = 3, pch = 22, cex = 2)]"
   ]
  },
  {
   "cell_type": "markdown",
   "metadata": {},
   "source": [
    "#### 差值法\n",
    "\n",
    "线性插值法使缺失数据与已知相邻点线性拟合"
   ]
  },
  {
   "cell_type": "code",
   "execution_count": 85,
   "metadata": {
    "vscode": {
     "languageId": "r"
    }
   },
   "outputs": [],
   "source": [
    "# 线性插值法\n",
    "rand.unemp[, impute.li := na.approx(UNRATE)]\n",
    "bias.unemp[, impute.li := na.approx(UNRATE)]\n",
    "\n",
    "# 样条差值法\n",
    "# Desc: 执行给定数据点的三次（或埃尔米特）样条插值，\n",
    "# 返回插值得到的点的列表，或者返回一个执行插值的函数。\n",
    "rand.unemp[, impute.sp := na.spline(UNRATE)]\n",
    "bias.unemp[, impute.sp := na.spline(UNRATE)]"
   ]
  },
  {
   "cell_type": "code",
   "execution_count": 86,
   "metadata": {
    "vscode": {
     "languageId": "r"
    }
   },
   "outputs": [
    {
     "data": {
      "text/plain": [
       "NULL"
      ]
     },
     "metadata": {},
     "output_type": "display_data"
    },
    {
     "data": {
      "text/plain": [
       "NULL"
      ]
     },
     "metadata": {},
     "output_type": "display_data"
    },
    {
     "data": {
      "text/plain": [
       "NULL"
      ]
     },
     "metadata": {},
     "output_type": "display_data"
    },
    {
     "data": {
      "image/png": "[encoded data removed]",
      "text/plain": [
       "plot without title"
      ]
     },
     "metadata": {
      "image/png": {
       "height": 420,
       "width": 420
      }
     },
     "output_type": "display_data"
    }
   ],
   "source": [
    "use_index = 90:120\n",
    "\n",
    "unemp[use_index, plot(DATE, UNRATE, col = 1, type = 'b')]\n",
    "rand.unemp[use_index, lines(DATE, impute.li, col = 2, lwd = 2, lty = 2)]\n",
    "rand.unemp[use_index, lines(DATE, impute.sp, col = 3, lwd = 2, lty = 3)]"
   ]
  },
  {
   "cell_type": "markdown",
   "metadata": {},
   "source": [
    "#### 集中方法的比较"
   ]
  },
  {
   "cell_type": "code",
   "execution_count": 95,
   "metadata": {
    "vscode": {
     "languageId": "r"
    }
   },
   "outputs": [
    {
     "name": "stdout",
     "output_type": "stream",
     "text": [
      "            impute.li   impute.rm.lookahead             impute.sp \n",
      "          0.001596893           0.001670616           0.002200168 \n",
      "            impute.ff impute.rm.nolookahead \n",
      "          0.004917062           0.006190758 \n"
     ]
    }
   ],
   "source": [
    "# 计算均方误差\n",
    "print(sort(unlist(rand.unemp[, lapply(.SD, function(x) mean((x- unemp$UNRATE)^2, na.rm = TRUE)),\n",
    "                .SDcols = c(\"impute.ff\", \"impute.rm.lookahead\", \"impute.rm.nolookahead\", \"impute.li\",\"impute.sp\")])))"
   ]
  },
  {
   "cell_type": "code",
   "execution_count": null,
   "metadata": {
    "vscode": {
     "languageId": "r"
    }
   },
   "outputs": [],
   "source": []
  }
 ],
 "metadata": {
  "kernelspec": {
   "display_name": "R",
   "language": "R",
   "name": "ir"
  },
  "language_info": {
   "codemirror_mode": "r",
   "file_extension": ".r",
   "mimetype": "text/x-r-source",
   "name": "R",
   "pygments_lexer": "r",
   "version": "4.4.2"
  }
 },
 "nbformat": 4,
 "nbformat_minor": 2
}
