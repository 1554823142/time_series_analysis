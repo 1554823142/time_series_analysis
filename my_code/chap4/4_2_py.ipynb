{
 "cells": [
  {
   "cell_type": "markdown",
   "metadata": {},
   "source": [
    "## 代码模拟"
   ]
  },
  {
   "cell_type": "code",
   "execution_count": 45,
   "metadata": {},
   "outputs": [],
   "source": [
    "import pandas as pd\n",
    "import numpy as np\n",
    "# 会员等级\n",
    "years = ['2014', '2015', '2016', '2017', '2018']\n",
    "memberStatus = ['bronze', 'silver', 'gold', 'inactive']\n",
    "memberYears = np.random.choice(years, 1000, p=[0.1, 0.1, 0.15, 0.30, 0.35])\n",
    "memberStats = np.random.choice(memberStatus, 1000, p=[0.5, 0.3, 0.1, 0.1])\n",
    "yearJoined = pd.DataFrame({'yearJoined': memberYears, 'memberStats': memberStats})\n"
   ]
  },
  {
   "cell_type": "markdown",
   "metadata": {},
   "source": [
    "### 模拟打开邮件"
   ]
  },
  {
   "cell_type": "code",
   "execution_count": 46,
   "metadata": {},
   "outputs": [],
   "source": [
    "NUM_EMAILS_SENT_WEEKLY = 3  # 这个组织每周发送三封电子邮件\n",
    "\n",
    "# 我们为不同的行为模式定义多个函数\n",
    "def never_opens(period_rng):\n",
    "    return []\n",
    "\n",
    "# 每周打开相同数量的电子邮件\n",
    "def constant_open_rate(period_rng):\n",
    "    n, p = NUM_EMAILS_SENT_WEEKLY, np.random.uniform(0, 1)\n",
    "    num_opened = np.random.binomial(n, p, len(period_rng))      # 生成二项分布随机数\n",
    "    return num_opened\n",
    "\n",
    "# 每周打开的电子邮件数量逐渐增多\n",
    "def increasing_open_rate(period_rng):\n",
    "    return open_rate_with_factor_change(period_rng, np.random.uniform(1.01, 1.30))\n",
    "\n",
    "# 每周打开的电子邮件数量逐渐减少\n",
    "def decreasing_open_rate(period_rng):\n",
    "    return open_rate_with_factor_change(period_rng, np.random.uniform(0.5, 0.99))\n",
    "\n",
    "# 模拟在给定时间范围 period_rng 内，邮件打开率随着一个因子 fac 的变化\n",
    "# 确保以相同的方式模拟那些逐渐活跃或逐渐不活跃的会员\n",
    "def open_rate_with_factor_change(period_rng, fac):\n",
    "    if len(period_rng) < 1:\n",
    "        return []\n",
    "    times = np.random.randint(0, len(period_rng), int(0.1 * len(period_rng)))   # 没有打开的邮件时间\n",
    "    num_opened = np.zeros(len(period_rng))      # 初始化为0\n",
    "    for prd in range(0, len(period_rng), 2):\n",
    "        try:\n",
    "            n, p = NUM_EMAILS_SENT_WEEKLY, np.random.uniform(0, 1)  # p:每个邮件被打开的概率\n",
    "            # 在 prd 和 prd+1 时间点的邮件打开次数 每个时间点的邮件打开次数是根据二项分布生成的\n",
    "            num_opened[prd:(prd + 2)] = np.random.binomial(n, p, 2)\n",
    "            p = max(min(1, p * fac), 0) # 在保证p的区间为[0, 1]的同时, 使用fac来决定p是否增加\n",
    "        except:     # 处理索引报错\n",
    "            num_opened[prd] = np.random.binomial(n, p, 1)\n",
    "    for t in range(len(times)):\n",
    "        num_opened[times[t]] = 0    # 这些时间点没有邮件被打开\n",
    "    return num_opened\n"
   ]
  },
  {
   "cell_type": "markdown",
   "metadata": {},
   "source": [
    "### 模拟捐款"
   ]
  },
  {
   "cell_type": "code",
   "execution_count": 47,
   "metadata": {},
   "outputs": [],
   "source": [
    "def random_weekly_time_delta():\n",
    "    days_of_week = [d for d in range(7)]\n",
    "    hours_of_day = [h for h in range(11, 23)]   # 假设只在有限的时间活动\n",
    "    minute_of_hour = [m for m in range(60)]\n",
    "    second_of_minute = [s for s in range(60)]\n",
    "    \n",
    "    return pd.Timedelta(str(np.random.choice(days_of_week)) + \" days\") + \\\n",
    "           pd.Timedelta(str(np.random.choice(hours_of_day)) + \" hours\") + \\\n",
    "           pd.Timedelta(str(np.random.choice(minute_of_hour)) + \" minutes\") + \\\n",
    "           pd.Timedelta(str(np.random.choice(second_of_minute)) + \" seconds\")"
   ]
  },
  {
   "cell_type": "code",
   "execution_count": 48,
   "metadata": {},
   "outputs": [],
   "source": [
    "# 捐款行为\n",
    "def produce_donations(period_rng, member_behavior, num_emails, use_id, member_join_year):\n",
    "    donation_amounts = np.array([0, 25, 50, 75, 100, 250, 500, 1000, 1500, 2000])\n",
    "    member_has = np.random.choice(donation_amounts)\n",
    "    email_fraction = num_emails / (NUM_EMAILS_SENT_WEEKLY * len(period_rng)) # 会员在指定时间段内的邮件频率\n",
    "    member_gives = member_has * email_fraction      # 当前会员的捐款潜力\n",
    "    # np.where(): 返回满足某个条件的元素的索引\n",
    "    # np.where(member_gives >= donation_amounts)生成一个bool数组\n",
    "    # [-1]: 最后一个满足条件的索引\n",
    "    member_gives_idx = np.where(member_gives >= donation_amounts)[0][-1]\n",
    "    member_gives_idx = max(min(member_gives_idx, len(donation_amounts) - 2), 1) # >0 :捐款金额为 0不被记录\n",
    "    # 使用泊松分布 (np.random.poisson(2)) 来模拟会员捐款的次数, 抽取的随机整数\n",
    "    num_times_gave = np.random.poisson(2) * (2018 - member_join_year)   # 会员在其活动年数内预计进行的捐款次数\n",
    "    times = np.random.randint(0, len(period_rng), num_times_gave)       # 随机生成了捐款的时间点索引\n",
    "    \n",
    "    dons = pd.DataFrame({'member': [], 'amount': [], 'timestamp': []})\n",
    "    \n",
    "    for n in range(num_times_gave):\n",
    "        donation = donation_amounts[member_gives_idx + np.random.binomial(1, .3)]\n",
    "        ts = str(period_rng[times[n]].start_time + random_weekly_time_delta())\n",
    "        dons = pd.concat([dons, pd.DataFrame({'member': [use_id], 'amount': [donation], 'timestamp': [ts]})])\n",
    "    \n",
    "    if dons.shape[0] > 0:\n",
    "        dons = dons[dons.amount != 0]  # 我们不会记录捐款金额为0的事件\n",
    "        # 因为在现实世界中，我们不会记录这种数据\n",
    "    \n",
    "    return dons\n"
   ]
  },
  {
   "cell_type": "code",
   "execution_count": 49,
   "metadata": {},
   "outputs": [
    {
     "name": "stderr",
     "output_type": "stream",
     "text": [
      "C:\\Users\\Administrator\\AppData\\Local\\Temp\\ipykernel_9896\\1634564508.py:35: DeprecationWarning: Conversion of an array with ndim > 0 to a scalar is deprecated, and will error in future. Ensure you extract a single element from your array before performing this operation. (Deprecated NumPy 1.25.)\n",
      "  num_opened[prd] = np.random.binomial(n, p, 1)\n"
     ]
    }
   ],
   "source": [
    "# 模拟会员的邮件行为和捐款行为\n",
    "behaviors = [never_opens, constant_open_rate, increasing_open_rate, decreasing_open_rate]\n",
    "member_behaviors = np.random.choice(behaviors, 1000, [0.2, 0.5, 0.1, 0.2])\n",
    "rng = pd.period_range('2015-02-14', '2018-06-01', freq='W')\n",
    "emails = pd.DataFrame({'member': [], 'week': [], 'emailsOpened': []})\n",
    "donations = pd.DataFrame({'member': [], 'amount': [], 'timestamp': []})\n",
    "\n",
    "# 假设 yearJoined 是包含会员入会年份的数据框\n",
    "yearJoined = pd.DataFrame({'yearJoined': np.random.choice([2014, 2015, 2016, 2017], 1000)})\n",
    "\n",
    "# 遍历每个会员，生成邮件打开和捐款行为\n",
    "for idx in range(yearJoined.shape[0]):\n",
    "    # 随机生成会员的入会日期            # iloc: 基于整数索引选择数据\n",
    "    join_date = pd.Timestamp(yearJoined.iloc[idx].yearJoined) + pd.Timedelta(str(np.random.randint(0, 365)) + ' days')\n",
    "    join_date = min(join_date, pd.Timestamp('2018-06-01'))\n",
    "\n",
    "    # 将 join_date 转换为 Period 类型，按周分组\n",
    "    join_date = pd.to_datetime(join_date).to_period('W')\n",
    "    # 会员在入会前不应有操作时间戳\n",
    "    member_rng = rng[rng > join_date]\n",
    "    \n",
    "    # 如果该会员没有有效的活动时间段，跳过\n",
    "    if len(member_rng) < 1:\n",
    "        continue\n",
    "    \n",
    "    # 获取该会员的邮件打开信息\n",
    "    info = member_behaviors[idx](member_rng)\n",
    "    \n",
    "    # 如果邮件打开信息的长度等于活动时间段长度，则记录该会员的行为\n",
    "    if len(info) == len(member_rng):\n",
    "        emails = pd.concat([emails, pd.DataFrame({\n",
    "            'member': [idx] * len(info),\n",
    "            'week': [str(r.start_time) for r in member_rng],\n",
    "            'emailsOpened': info\n",
    "        })])\n",
    "        \n",
    "        # 记录该会员的捐款行为\n",
    "        donations = pd.concat([donations, produce_donations(member_rng, member_behaviors[idx], sum(info), idx, join_date.year)])"
   ]
  },
  {
   "cell_type": "code",
   "execution_count": 50,
   "metadata": {},
   "outputs": [
    {
     "name": "stderr",
     "output_type": "stream",
     "text": [
      "C:\\Users\\Administrator\\AppData\\Local\\Temp\\ipykernel_9896\\3189594236.py:3: FutureWarning: 'M' is deprecated and will be removed in a future version, please use 'ME' instead.\n",
      "  donations.groupby(pd.Grouper(freq='M')).amount.sum().plot()\n"
     ]
    },
    {
     "data": {
      "text/plain": [
       "<Axes: xlabel='timestamp'>"
      ]
     },
     "execution_count": 50,
     "metadata": {},
     "output_type": "execute_result"
    },
    {
     "data": {
      "image/png": "[encoded data removed]",
      "text/plain": [
       "<Figure size 640x480 with 1 Axes>"
      ]
     },
     "metadata": {},
     "output_type": "display_data"
    }
   ],
   "source": [
    "donations.set_index(pd.to_datetime(donations.timestamp), inplace=True)\n",
    "donations.sort_index(inplace=True)\n",
    "donations.groupby(pd.Grouper(freq='M')).amount.sum().plot()\n"
   ]
  }
 ],
 "metadata": {
  "kernelspec": {
   "display_name": "Python 3",
   "language": "python",
   "name": "python3"
  },
  "language_info": {
   "codemirror_mode": {
    "name": "ipython",
    "version": 3
   },
   "file_extension": ".py",
   "mimetype": "text/x-python",
   "name": "python",
   "nbconvert_exporter": "python",
   "pygments_lexer": "ipython3",
   "version": "3.12.5"
  }
 },
 "nbformat": 4,
 "nbformat_minor": 2
}
