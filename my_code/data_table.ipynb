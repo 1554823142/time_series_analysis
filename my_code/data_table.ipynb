{
 "cells": [
  {
   "cell_type": "markdown",
   "metadata": {},
   "source": [
    "## Introduction to data.table\n",
    "\n",
    "- [官方参考](https://cran.r-project.org/web/packages/data.table/vignettes/datatable-intro.html)"
   ]
  },
  {
   "cell_type": "code",
   "execution_count": 2,
   "metadata": {
    "vscode": {
     "languageId": "r"
    }
   },
   "outputs": [
    {
     "name": "stderr",
     "output_type": "stream",
     "text": [
      "\n",
      "Attaching package: 'zoo'\n",
      "\n",
      "\n",
      "The following objects are masked from 'package:data.table':\n",
      "\n",
      "    yearmon, yearqtr\n",
      "\n",
      "\n",
      "The following objects are masked from 'package:base':\n",
      "\n",
      "    as.Date, as.Date.numeric\n",
      "\n",
      "\n"
     ]
    },
    {
     "name": "stdout",
     "output_type": "stream",
     "text": [
      "[1] \"find the file1\"\n"
     ]
    },
    {
     "data": {
      "text/html": [
       "<table class=\"dataframe\">\n",
       "<caption>A data.table: 253316 × 11</caption>\n",
       "<thead>\n",
       "\t<tr><th scope=col>year</th><th scope=col>month</th><th scope=col>day</th><th scope=col>dep_delay</th><th scope=col>arr_delay</th><th scope=col>carrier</th><th scope=col>origin</th><th scope=col>dest</th><th scope=col>air_time</th><th scope=col>distance</th><th scope=col>hour</th></tr>\n",
       "\t<tr><th scope=col>&lt;int&gt;</th><th scope=col>&lt;int&gt;</th><th scope=col>&lt;int&gt;</th><th scope=col>&lt;int&gt;</th><th scope=col>&lt;int&gt;</th><th scope=col>&lt;chr&gt;</th><th scope=col>&lt;chr&gt;</th><th scope=col>&lt;chr&gt;</th><th scope=col>&lt;int&gt;</th><th scope=col>&lt;int&gt;</th><th scope=col>&lt;int&gt;</th></tr>\n",
       "</thead>\n",
       "<tbody>\n",
       "\t<tr><td>2014</td><td>1</td><td>1</td><td> 14</td><td> 13</td><td>AA</td><td>JFK</td><td>LAX</td><td>359</td><td>2475</td><td> 9</td></tr>\n",
       "\t<tr><td>2014</td><td>1</td><td>1</td><td> -3</td><td> 13</td><td>AA</td><td>JFK</td><td>LAX</td><td>363</td><td>2475</td><td>11</td></tr>\n",
       "\t<tr><td>2014</td><td>1</td><td>1</td><td>  2</td><td>  9</td><td>AA</td><td>JFK</td><td>LAX</td><td>351</td><td>2475</td><td>19</td></tr>\n",
       "\t<tr><td>2014</td><td>1</td><td>1</td><td> -8</td><td>-26</td><td>AA</td><td>LGA</td><td>PBI</td><td>157</td><td>1035</td><td> 7</td></tr>\n",
       "\t<tr><td>2014</td><td>1</td><td>1</td><td>  2</td><td>  1</td><td>AA</td><td>JFK</td><td>LAX</td><td>350</td><td>2475</td><td>13</td></tr>\n",
       "\t<tr><td>2014</td><td>1</td><td>1</td><td>  4</td><td>  0</td><td>AA</td><td>EWR</td><td>LAX</td><td>339</td><td>2454</td><td>18</td></tr>\n",
       "\t<tr><td>2014</td><td>1</td><td>1</td><td> -2</td><td>-18</td><td>AA</td><td>JFK</td><td>LAX</td><td>338</td><td>2475</td><td>21</td></tr>\n",
       "\t<tr><td>2014</td><td>1</td><td>1</td><td> -3</td><td>-14</td><td>AA</td><td>JFK</td><td>LAX</td><td>356</td><td>2475</td><td>15</td></tr>\n",
       "\t<tr><td>2014</td><td>1</td><td>1</td><td> -1</td><td>-17</td><td>AA</td><td>JFK</td><td>MIA</td><td>161</td><td>1089</td><td>15</td></tr>\n",
       "\t<tr><td>2014</td><td>1</td><td>1</td><td> -2</td><td>-14</td><td>AA</td><td>JFK</td><td>SEA</td><td>349</td><td>2422</td><td>18</td></tr>\n",
       "\t<tr><td>2014</td><td>1</td><td>1</td><td> -5</td><td>-17</td><td>AA</td><td>EWR</td><td>MIA</td><td>161</td><td>1085</td><td>16</td></tr>\n",
       "\t<tr><td>2014</td><td>1</td><td>1</td><td>  7</td><td> -5</td><td>AA</td><td>JFK</td><td>SFO</td><td>365</td><td>2586</td><td>17</td></tr>\n",
       "\t<tr><td>2014</td><td>1</td><td>1</td><td>  3</td><td>  1</td><td>AA</td><td>JFK</td><td>BOS</td><td> 39</td><td> 187</td><td>12</td></tr>\n",
       "\t<tr><td>2014</td><td>1</td><td>1</td><td>142</td><td>133</td><td>AA</td><td>JFK</td><td>LAX</td><td>345</td><td>2475</td><td>19</td></tr>\n",
       "\t<tr><td>2014</td><td>1</td><td>1</td><td> -5</td><td>-26</td><td>AA</td><td>JFK</td><td>BOS</td><td> 35</td><td> 187</td><td>17</td></tr>\n",
       "\t<tr><td>2014</td><td>1</td><td>1</td><td> 18</td><td> 69</td><td>AA</td><td>JFK</td><td>ORD</td><td>155</td><td> 740</td><td>17</td></tr>\n",
       "\t<tr><td>2014</td><td>1</td><td>1</td><td> 25</td><td> 36</td><td>AA</td><td>JFK</td><td>IAH</td><td>234</td><td>1417</td><td>16</td></tr>\n",
       "\t<tr><td>2014</td><td>1</td><td>1</td><td> -1</td><td>  1</td><td>AA</td><td>JFK</td><td>AUS</td><td>232</td><td>1521</td><td>17</td></tr>\n",
       "\t<tr><td>2014</td><td>1</td><td>1</td><td>191</td><td>185</td><td>AA</td><td>EWR</td><td>DFW</td><td>214</td><td>1372</td><td>16</td></tr>\n",
       "\t<tr><td>2014</td><td>1</td><td>1</td><td> -7</td><td> -6</td><td>AA</td><td>LGA</td><td>ORD</td><td>142</td><td> 733</td><td> 5</td></tr>\n",
       "\t<tr><td>2014</td><td>1</td><td>1</td><td> -7</td><td>  0</td><td>AA</td><td>LGA</td><td>ORD</td><td>143</td><td> 733</td><td> 6</td></tr>\n",
       "\t<tr><td>2014</td><td>1</td><td>1</td><td> -8</td><td>-17</td><td>AA</td><td>LGA</td><td>ORD</td><td>139</td><td> 733</td><td> 6</td></tr>\n",
       "\t<tr><td>2014</td><td>1</td><td>1</td><td> -2</td><td> 15</td><td>AA</td><td>LGA</td><td>ORD</td><td>145</td><td> 733</td><td> 7</td></tr>\n",
       "\t<tr><td>2014</td><td>1</td><td>1</td><td> -3</td><td>  1</td><td>AA</td><td>LGA</td><td>ORD</td><td>139</td><td> 733</td><td> 8</td></tr>\n",
       "\t<tr><td>2014</td><td>1</td><td>1</td><td> 44</td><td> 42</td><td>AA</td><td>LGA</td><td>ORD</td><td>141</td><td> 733</td><td>10</td></tr>\n",
       "\t<tr><td>2014</td><td>1</td><td>1</td><td> -1</td><td> -2</td><td>AA</td><td>EWR</td><td>DFW</td><td>214</td><td>1372</td><td>14</td></tr>\n",
       "\t<tr><td>2014</td><td>1</td><td>1</td><td>  3</td><td> 12</td><td>AA</td><td>LGA</td><td>ORD</td><td>137</td><td> 733</td><td>10</td></tr>\n",
       "\t<tr><td>2014</td><td>1</td><td>1</td><td> -5</td><td> 24</td><td>AA</td><td>LGA</td><td>ORD</td><td>145</td><td> 733</td><td>11</td></tr>\n",
       "\t<tr><td>2014</td><td>1</td><td>1</td><td> 26</td><td> 46</td><td>AA</td><td>LGA</td><td>ORD</td><td>132</td><td> 733</td><td>13</td></tr>\n",
       "\t<tr><td>2014</td><td>1</td><td>1</td><td> 52</td><td> 91</td><td>AA</td><td>LGA</td><td>ORD</td><td>136</td><td> 733</td><td>16</td></tr>\n",
       "\t<tr><td>⋮</td><td>⋮</td><td>⋮</td><td>⋮</td><td>⋮</td><td>⋮</td><td>⋮</td><td>⋮</td><td>⋮</td><td>⋮</td><td>⋮</td></tr>\n",
       "\t<tr><td>2014</td><td>10</td><td>31</td><td>  3</td><td> -7</td><td>UA</td><td>EWR</td><td>TPA</td><td>147</td><td> 997</td><td>15</td></tr>\n",
       "\t<tr><td>2014</td><td>10</td><td>31</td><td>271</td><td>236</td><td>UA</td><td>LGA</td><td>IAH</td><td>195</td><td>1416</td><td>23</td></tr>\n",
       "\t<tr><td>2014</td><td>10</td><td>31</td><td> 10</td><td> -5</td><td>UA</td><td>EWR</td><td>ORD</td><td>110</td><td> 719</td><td> 6</td></tr>\n",
       "\t<tr><td>2014</td><td>10</td><td>31</td><td> 21</td><td>  6</td><td>UA</td><td>EWR</td><td>SFO</td><td>340</td><td>2565</td><td>16</td></tr>\n",
       "\t<tr><td>2014</td><td>10</td><td>31</td><td> -9</td><td>-43</td><td>UA</td><td>EWR</td><td>SFO</td><td>334</td><td>2565</td><td> 8</td></tr>\n",
       "\t<tr><td>2014</td><td>10</td><td>31</td><td> 49</td><td> 48</td><td>UA</td><td>EWR</td><td>SFO</td><td>336</td><td>2565</td><td>14</td></tr>\n",
       "\t<tr><td>2014</td><td>10</td><td>31</td><td>  0</td><td>-10</td><td>UA</td><td>EWR</td><td>RSW</td><td>156</td><td>1068</td><td> 6</td></tr>\n",
       "\t<tr><td>2014</td><td>10</td><td>31</td><td>  9</td><td>  4</td><td>UA</td><td>EWR</td><td>MIA</td><td>160</td><td>1085</td><td>10</td></tr>\n",
       "\t<tr><td>2014</td><td>10</td><td>31</td><td>  3</td><td>-32</td><td>UA</td><td>EWR</td><td>LAX</td><td>320</td><td>2454</td><td>20</td></tr>\n",
       "\t<tr><td>2014</td><td>10</td><td>31</td><td> -6</td><td>-31</td><td>UA</td><td>EWR</td><td>MSY</td><td>161</td><td>1167</td><td> 6</td></tr>\n",
       "\t<tr><td>2014</td><td>10</td><td>31</td><td>  5</td><td>  2</td><td>UA</td><td>EWR</td><td>ORD</td><td>132</td><td> 719</td><td>10</td></tr>\n",
       "\t<tr><td>2014</td><td>10</td><td>31</td><td> 46</td><td> 41</td><td>UA</td><td>EWR</td><td>FLL</td><td>149</td><td>1065</td><td>19</td></tr>\n",
       "\t<tr><td>2014</td><td>10</td><td>31</td><td> -1</td><td>-18</td><td>UA</td><td>EWR</td><td>CLE</td><td> 61</td><td> 404</td><td> 7</td></tr>\n",
       "\t<tr><td>2014</td><td>10</td><td>31</td><td> 14</td><td>-17</td><td>UA</td><td>LGA</td><td>IAH</td><td>200</td><td>1416</td><td>17</td></tr>\n",
       "\t<tr><td>2014</td><td>10</td><td>31</td><td>  7</td><td>-11</td><td>UA</td><td>EWR</td><td>FLL</td><td>151</td><td>1065</td><td>21</td></tr>\n",
       "\t<tr><td>2014</td><td>10</td><td>31</td><td> -4</td><td> -1</td><td>UA</td><td>EWR</td><td>MIA</td><td>155</td><td>1085</td><td>16</td></tr>\n",
       "\t<tr><td>2014</td><td>10</td><td>31</td><td>  1</td><td>-15</td><td>UA</td><td>EWR</td><td>FLL</td><td>151</td><td>1065</td><td> 6</td></tr>\n",
       "\t<tr><td>2014</td><td>10</td><td>31</td><td> -3</td><td>-26</td><td>UA</td><td>EWR</td><td>IAH</td><td>198</td><td>1400</td><td>14</td></tr>\n",
       "\t<tr><td>2014</td><td>10</td><td>31</td><td>  3</td><td>-14</td><td>UA</td><td>EWR</td><td>IAH</td><td>195</td><td>1400</td><td>17</td></tr>\n",
       "\t<tr><td>2014</td><td>10</td><td>31</td><td> 24</td><td> -5</td><td>UA</td><td>LGA</td><td>IAH</td><td>198</td><td>1416</td><td> 6</td></tr>\n",
       "\t<tr><td>2014</td><td>10</td><td>31</td><td> 14</td><td> 11</td><td>UA</td><td>EWR</td><td>MIA</td><td>151</td><td>1085</td><td>19</td></tr>\n",
       "\t<tr><td>2014</td><td>10</td><td>31</td><td> 41</td><td> 19</td><td>UA</td><td>EWR</td><td>SFO</td><td>344</td><td>2565</td><td>12</td></tr>\n",
       "\t<tr><td>2014</td><td>10</td><td>31</td><td>427</td><td>393</td><td>UA</td><td>EWR</td><td>ORD</td><td>100</td><td> 719</td><td>21</td></tr>\n",
       "\t<tr><td>2014</td><td>10</td><td>31</td><td> 10</td><td>-27</td><td>UA</td><td>EWR</td><td>LAX</td><td>326</td><td>2454</td><td>10</td></tr>\n",
       "\t<tr><td>2014</td><td>10</td><td>31</td><td> 18</td><td>-14</td><td>UA</td><td>EWR</td><td>LAS</td><td>291</td><td>2227</td><td>16</td></tr>\n",
       "\t<tr><td>2014</td><td>10</td><td>31</td><td>  1</td><td>-30</td><td>UA</td><td>LGA</td><td>IAH</td><td>201</td><td>1416</td><td>14</td></tr>\n",
       "\t<tr><td>2014</td><td>10</td><td>31</td><td> -5</td><td>-14</td><td>UA</td><td>EWR</td><td>IAH</td><td>189</td><td>1400</td><td> 8</td></tr>\n",
       "\t<tr><td>2014</td><td>10</td><td>31</td><td> -8</td><td> 16</td><td>MQ</td><td>LGA</td><td>RDU</td><td> 83</td><td> 431</td><td>11</td></tr>\n",
       "\t<tr><td>2014</td><td>10</td><td>31</td><td> -4</td><td> 15</td><td>MQ</td><td>LGA</td><td>DTW</td><td> 75</td><td> 502</td><td>11</td></tr>\n",
       "\t<tr><td>2014</td><td>10</td><td>31</td><td> -5</td><td>  1</td><td>MQ</td><td>LGA</td><td>SDF</td><td>110</td><td> 659</td><td> 8</td></tr>\n",
       "</tbody>\n",
       "</table>\n"
      ],
      "text/latex": [
       "A data.table: 253316 × 11\n",
       "\\begin{tabular}{lllllllllll}\n",
       " year & month & day & dep\\_delay & arr\\_delay & carrier & origin & dest & air\\_time & distance & hour\\\\\n",
       " <int> & <int> & <int> & <int> & <int> & <chr> & <chr> & <chr> & <int> & <int> & <int>\\\\\n",
       "\\hline\n",
       "\t 2014 & 1 & 1 &  14 &  13 & AA & JFK & LAX & 359 & 2475 &  9\\\\\n",
       "\t 2014 & 1 & 1 &  -3 &  13 & AA & JFK & LAX & 363 & 2475 & 11\\\\\n",
       "\t 2014 & 1 & 1 &   2 &   9 & AA & JFK & LAX & 351 & 2475 & 19\\\\\n",
       "\t 2014 & 1 & 1 &  -8 & -26 & AA & LGA & PBI & 157 & 1035 &  7\\\\\n",
       "\t 2014 & 1 & 1 &   2 &   1 & AA & JFK & LAX & 350 & 2475 & 13\\\\\n",
       "\t 2014 & 1 & 1 &   4 &   0 & AA & EWR & LAX & 339 & 2454 & 18\\\\\n",
       "\t 2014 & 1 & 1 &  -2 & -18 & AA & JFK & LAX & 338 & 2475 & 21\\\\\n",
       "\t 2014 & 1 & 1 &  -3 & -14 & AA & JFK & LAX & 356 & 2475 & 15\\\\\n",
       "\t 2014 & 1 & 1 &  -1 & -17 & AA & JFK & MIA & 161 & 1089 & 15\\\\\n",
       "\t 2014 & 1 & 1 &  -2 & -14 & AA & JFK & SEA & 349 & 2422 & 18\\\\\n",
       "\t 2014 & 1 & 1 &  -5 & -17 & AA & EWR & MIA & 161 & 1085 & 16\\\\\n",
       "\t 2014 & 1 & 1 &   7 &  -5 & AA & JFK & SFO & 365 & 2586 & 17\\\\\n",
       "\t 2014 & 1 & 1 &   3 &   1 & AA & JFK & BOS &  39 &  187 & 12\\\\\n",
       "\t 2014 & 1 & 1 & 142 & 133 & AA & JFK & LAX & 345 & 2475 & 19\\\\\n",
       "\t 2014 & 1 & 1 &  -5 & -26 & AA & JFK & BOS &  35 &  187 & 17\\\\\n",
       "\t 2014 & 1 & 1 &  18 &  69 & AA & JFK & ORD & 155 &  740 & 17\\\\\n",
       "\t 2014 & 1 & 1 &  25 &  36 & AA & JFK & IAH & 234 & 1417 & 16\\\\\n",
       "\t 2014 & 1 & 1 &  -1 &   1 & AA & JFK & AUS & 232 & 1521 & 17\\\\\n",
       "\t 2014 & 1 & 1 & 191 & 185 & AA & EWR & DFW & 214 & 1372 & 16\\\\\n",
       "\t 2014 & 1 & 1 &  -7 &  -6 & AA & LGA & ORD & 142 &  733 &  5\\\\\n",
       "\t 2014 & 1 & 1 &  -7 &   0 & AA & LGA & ORD & 143 &  733 &  6\\\\\n",
       "\t 2014 & 1 & 1 &  -8 & -17 & AA & LGA & ORD & 139 &  733 &  6\\\\\n",
       "\t 2014 & 1 & 1 &  -2 &  15 & AA & LGA & ORD & 145 &  733 &  7\\\\\n",
       "\t 2014 & 1 & 1 &  -3 &   1 & AA & LGA & ORD & 139 &  733 &  8\\\\\n",
       "\t 2014 & 1 & 1 &  44 &  42 & AA & LGA & ORD & 141 &  733 & 10\\\\\n",
       "\t 2014 & 1 & 1 &  -1 &  -2 & AA & EWR & DFW & 214 & 1372 & 14\\\\\n",
       "\t 2014 & 1 & 1 &   3 &  12 & AA & LGA & ORD & 137 &  733 & 10\\\\\n",
       "\t 2014 & 1 & 1 &  -5 &  24 & AA & LGA & ORD & 145 &  733 & 11\\\\\n",
       "\t 2014 & 1 & 1 &  26 &  46 & AA & LGA & ORD & 132 &  733 & 13\\\\\n",
       "\t 2014 & 1 & 1 &  52 &  91 & AA & LGA & ORD & 136 &  733 & 16\\\\\n",
       "\t ⋮ & ⋮ & ⋮ & ⋮ & ⋮ & ⋮ & ⋮ & ⋮ & ⋮ & ⋮ & ⋮\\\\\n",
       "\t 2014 & 10 & 31 &   3 &  -7 & UA & EWR & TPA & 147 &  997 & 15\\\\\n",
       "\t 2014 & 10 & 31 & 271 & 236 & UA & LGA & IAH & 195 & 1416 & 23\\\\\n",
       "\t 2014 & 10 & 31 &  10 &  -5 & UA & EWR & ORD & 110 &  719 &  6\\\\\n",
       "\t 2014 & 10 & 31 &  21 &   6 & UA & EWR & SFO & 340 & 2565 & 16\\\\\n",
       "\t 2014 & 10 & 31 &  -9 & -43 & UA & EWR & SFO & 334 & 2565 &  8\\\\\n",
       "\t 2014 & 10 & 31 &  49 &  48 & UA & EWR & SFO & 336 & 2565 & 14\\\\\n",
       "\t 2014 & 10 & 31 &   0 & -10 & UA & EWR & RSW & 156 & 1068 &  6\\\\\n",
       "\t 2014 & 10 & 31 &   9 &   4 & UA & EWR & MIA & 160 & 1085 & 10\\\\\n",
       "\t 2014 & 10 & 31 &   3 & -32 & UA & EWR & LAX & 320 & 2454 & 20\\\\\n",
       "\t 2014 & 10 & 31 &  -6 & -31 & UA & EWR & MSY & 161 & 1167 &  6\\\\\n",
       "\t 2014 & 10 & 31 &   5 &   2 & UA & EWR & ORD & 132 &  719 & 10\\\\\n",
       "\t 2014 & 10 & 31 &  46 &  41 & UA & EWR & FLL & 149 & 1065 & 19\\\\\n",
       "\t 2014 & 10 & 31 &  -1 & -18 & UA & EWR & CLE &  61 &  404 &  7\\\\\n",
       "\t 2014 & 10 & 31 &  14 & -17 & UA & LGA & IAH & 200 & 1416 & 17\\\\\n",
       "\t 2014 & 10 & 31 &   7 & -11 & UA & EWR & FLL & 151 & 1065 & 21\\\\\n",
       "\t 2014 & 10 & 31 &  -4 &  -1 & UA & EWR & MIA & 155 & 1085 & 16\\\\\n",
       "\t 2014 & 10 & 31 &   1 & -15 & UA & EWR & FLL & 151 & 1065 &  6\\\\\n",
       "\t 2014 & 10 & 31 &  -3 & -26 & UA & EWR & IAH & 198 & 1400 & 14\\\\\n",
       "\t 2014 & 10 & 31 &   3 & -14 & UA & EWR & IAH & 195 & 1400 & 17\\\\\n",
       "\t 2014 & 10 & 31 &  24 &  -5 & UA & LGA & IAH & 198 & 1416 &  6\\\\\n",
       "\t 2014 & 10 & 31 &  14 &  11 & UA & EWR & MIA & 151 & 1085 & 19\\\\\n",
       "\t 2014 & 10 & 31 &  41 &  19 & UA & EWR & SFO & 344 & 2565 & 12\\\\\n",
       "\t 2014 & 10 & 31 & 427 & 393 & UA & EWR & ORD & 100 &  719 & 21\\\\\n",
       "\t 2014 & 10 & 31 &  10 & -27 & UA & EWR & LAX & 326 & 2454 & 10\\\\\n",
       "\t 2014 & 10 & 31 &  18 & -14 & UA & EWR & LAS & 291 & 2227 & 16\\\\\n",
       "\t 2014 & 10 & 31 &   1 & -30 & UA & LGA & IAH & 201 & 1416 & 14\\\\\n",
       "\t 2014 & 10 & 31 &  -5 & -14 & UA & EWR & IAH & 189 & 1400 &  8\\\\\n",
       "\t 2014 & 10 & 31 &  -8 &  16 & MQ & LGA & RDU &  83 &  431 & 11\\\\\n",
       "\t 2014 & 10 & 31 &  -4 &  15 & MQ & LGA & DTW &  75 &  502 & 11\\\\\n",
       "\t 2014 & 10 & 31 &  -5 &   1 & MQ & LGA & SDF & 110 &  659 &  8\\\\\n",
       "\\end{tabular}\n"
      ],
      "text/markdown": [
       "\n",
       "A data.table: 253316 × 11\n",
       "\n",
       "| year &lt;int&gt; | month &lt;int&gt; | day &lt;int&gt; | dep_delay &lt;int&gt; | arr_delay &lt;int&gt; | carrier &lt;chr&gt; | origin &lt;chr&gt; | dest &lt;chr&gt; | air_time &lt;int&gt; | distance &lt;int&gt; | hour &lt;int&gt; |\n",
       "|---|---|---|---|---|---|---|---|---|---|---|\n",
       "| 2014 | 1 | 1 |  14 |  13 | AA | JFK | LAX | 359 | 2475 |  9 |\n",
       "| 2014 | 1 | 1 |  -3 |  13 | AA | JFK | LAX | 363 | 2475 | 11 |\n",
       "| 2014 | 1 | 1 |   2 |   9 | AA | JFK | LAX | 351 | 2475 | 19 |\n",
       "| 2014 | 1 | 1 |  -8 | -26 | AA | LGA | PBI | 157 | 1035 |  7 |\n",
       "| 2014 | 1 | 1 |   2 |   1 | AA | JFK | LAX | 350 | 2475 | 13 |\n",
       "| 2014 | 1 | 1 |   4 |   0 | AA | EWR | LAX | 339 | 2454 | 18 |\n",
       "| 2014 | 1 | 1 |  -2 | -18 | AA | JFK | LAX | 338 | 2475 | 21 |\n",
       "| 2014 | 1 | 1 |  -3 | -14 | AA | JFK | LAX | 356 | 2475 | 15 |\n",
       "| 2014 | 1 | 1 |  -1 | -17 | AA | JFK | MIA | 161 | 1089 | 15 |\n",
       "| 2014 | 1 | 1 |  -2 | -14 | AA | JFK | SEA | 349 | 2422 | 18 |\n",
       "| 2014 | 1 | 1 |  -5 | -17 | AA | EWR | MIA | 161 | 1085 | 16 |\n",
       "| 2014 | 1 | 1 |   7 |  -5 | AA | JFK | SFO | 365 | 2586 | 17 |\n",
       "| 2014 | 1 | 1 |   3 |   1 | AA | JFK | BOS |  39 |  187 | 12 |\n",
       "| 2014 | 1 | 1 | 142 | 133 | AA | JFK | LAX | 345 | 2475 | 19 |\n",
       "| 2014 | 1 | 1 |  -5 | -26 | AA | JFK | BOS |  35 |  187 | 17 |\n",
       "| 2014 | 1 | 1 |  18 |  69 | AA | JFK | ORD | 155 |  740 | 17 |\n",
       "| 2014 | 1 | 1 |  25 |  36 | AA | JFK | IAH | 234 | 1417 | 16 |\n",
       "| 2014 | 1 | 1 |  -1 |   1 | AA | JFK | AUS | 232 | 1521 | 17 |\n",
       "| 2014 | 1 | 1 | 191 | 185 | AA | EWR | DFW | 214 | 1372 | 16 |\n",
       "| 2014 | 1 | 1 |  -7 |  -6 | AA | LGA | ORD | 142 |  733 |  5 |\n",
       "| 2014 | 1 | 1 |  -7 |   0 | AA | LGA | ORD | 143 |  733 |  6 |\n",
       "| 2014 | 1 | 1 |  -8 | -17 | AA | LGA | ORD | 139 |  733 |  6 |\n",
       "| 2014 | 1 | 1 |  -2 |  15 | AA | LGA | ORD | 145 |  733 |  7 |\n",
       "| 2014 | 1 | 1 |  -3 |   1 | AA | LGA | ORD | 139 |  733 |  8 |\n",
       "| 2014 | 1 | 1 |  44 |  42 | AA | LGA | ORD | 141 |  733 | 10 |\n",
       "| 2014 | 1 | 1 |  -1 |  -2 | AA | EWR | DFW | 214 | 1372 | 14 |\n",
       "| 2014 | 1 | 1 |   3 |  12 | AA | LGA | ORD | 137 |  733 | 10 |\n",
       "| 2014 | 1 | 1 |  -5 |  24 | AA | LGA | ORD | 145 |  733 | 11 |\n",
       "| 2014 | 1 | 1 |  26 |  46 | AA | LGA | ORD | 132 |  733 | 13 |\n",
       "| 2014 | 1 | 1 |  52 |  91 | AA | LGA | ORD | 136 |  733 | 16 |\n",
       "| ⋮ | ⋮ | ⋮ | ⋮ | ⋮ | ⋮ | ⋮ | ⋮ | ⋮ | ⋮ | ⋮ |\n",
       "| 2014 | 10 | 31 |   3 |  -7 | UA | EWR | TPA | 147 |  997 | 15 |\n",
       "| 2014 | 10 | 31 | 271 | 236 | UA | LGA | IAH | 195 | 1416 | 23 |\n",
       "| 2014 | 10 | 31 |  10 |  -5 | UA | EWR | ORD | 110 |  719 |  6 |\n",
       "| 2014 | 10 | 31 |  21 |   6 | UA | EWR | SFO | 340 | 2565 | 16 |\n",
       "| 2014 | 10 | 31 |  -9 | -43 | UA | EWR | SFO | 334 | 2565 |  8 |\n",
       "| 2014 | 10 | 31 |  49 |  48 | UA | EWR | SFO | 336 | 2565 | 14 |\n",
       "| 2014 | 10 | 31 |   0 | -10 | UA | EWR | RSW | 156 | 1068 |  6 |\n",
       "| 2014 | 10 | 31 |   9 |   4 | UA | EWR | MIA | 160 | 1085 | 10 |\n",
       "| 2014 | 10 | 31 |   3 | -32 | UA | EWR | LAX | 320 | 2454 | 20 |\n",
       "| 2014 | 10 | 31 |  -6 | -31 | UA | EWR | MSY | 161 | 1167 |  6 |\n",
       "| 2014 | 10 | 31 |   5 |   2 | UA | EWR | ORD | 132 |  719 | 10 |\n",
       "| 2014 | 10 | 31 |  46 |  41 | UA | EWR | FLL | 149 | 1065 | 19 |\n",
       "| 2014 | 10 | 31 |  -1 | -18 | UA | EWR | CLE |  61 |  404 |  7 |\n",
       "| 2014 | 10 | 31 |  14 | -17 | UA | LGA | IAH | 200 | 1416 | 17 |\n",
       "| 2014 | 10 | 31 |   7 | -11 | UA | EWR | FLL | 151 | 1065 | 21 |\n",
       "| 2014 | 10 | 31 |  -4 |  -1 | UA | EWR | MIA | 155 | 1085 | 16 |\n",
       "| 2014 | 10 | 31 |   1 | -15 | UA | EWR | FLL | 151 | 1065 |  6 |\n",
       "| 2014 | 10 | 31 |  -3 | -26 | UA | EWR | IAH | 198 | 1400 | 14 |\n",
       "| 2014 | 10 | 31 |   3 | -14 | UA | EWR | IAH | 195 | 1400 | 17 |\n",
       "| 2014 | 10 | 31 |  24 |  -5 | UA | LGA | IAH | 198 | 1416 |  6 |\n",
       "| 2014 | 10 | 31 |  14 |  11 | UA | EWR | MIA | 151 | 1085 | 19 |\n",
       "| 2014 | 10 | 31 |  41 |  19 | UA | EWR | SFO | 344 | 2565 | 12 |\n",
       "| 2014 | 10 | 31 | 427 | 393 | UA | EWR | ORD | 100 |  719 | 21 |\n",
       "| 2014 | 10 | 31 |  10 | -27 | UA | EWR | LAX | 326 | 2454 | 10 |\n",
       "| 2014 | 10 | 31 |  18 | -14 | UA | EWR | LAS | 291 | 2227 | 16 |\n",
       "| 2014 | 10 | 31 |   1 | -30 | UA | LGA | IAH | 201 | 1416 | 14 |\n",
       "| 2014 | 10 | 31 |  -5 | -14 | UA | EWR | IAH | 189 | 1400 |  8 |\n",
       "| 2014 | 10 | 31 |  -8 |  16 | MQ | LGA | RDU |  83 |  431 | 11 |\n",
       "| 2014 | 10 | 31 |  -4 |  15 | MQ | LGA | DTW |  75 |  502 | 11 |\n",
       "| 2014 | 10 | 31 |  -5 |   1 | MQ | LGA | SDF | 110 |  659 |  8 |\n",
       "\n"
      ],
      "text/plain": [
       "       year month day dep_delay arr_delay carrier origin dest air_time distance\n",
       "1      2014 1     1    14        13       AA      JFK    LAX  359      2475    \n",
       "2      2014 1     1    -3        13       AA      JFK    LAX  363      2475    \n",
       "3      2014 1     1     2         9       AA      JFK    LAX  351      2475    \n",
       "4      2014 1     1    -8       -26       AA      LGA    PBI  157      1035    \n",
       "5      2014 1     1     2         1       AA      JFK    LAX  350      2475    \n",
       "6      2014 1     1     4         0       AA      EWR    LAX  339      2454    \n",
       "7      2014 1     1    -2       -18       AA      JFK    LAX  338      2475    \n",
       "8      2014 1     1    -3       -14       AA      JFK    LAX  356      2475    \n",
       "9      2014 1     1    -1       -17       AA      JFK    MIA  161      1089    \n",
       "10     2014 1     1    -2       -14       AA      JFK    SEA  349      2422    \n",
       "11     2014 1     1    -5       -17       AA      EWR    MIA  161      1085    \n",
       "12     2014 1     1     7        -5       AA      JFK    SFO  365      2586    \n",
       "13     2014 1     1     3         1       AA      JFK    BOS   39       187    \n",
       "14     2014 1     1   142       133       AA      JFK    LAX  345      2475    \n",
       "15     2014 1     1    -5       -26       AA      JFK    BOS   35       187    \n",
       "16     2014 1     1    18        69       AA      JFK    ORD  155       740    \n",
       "17     2014 1     1    25        36       AA      JFK    IAH  234      1417    \n",
       "18     2014 1     1    -1         1       AA      JFK    AUS  232      1521    \n",
       "19     2014 1     1   191       185       AA      EWR    DFW  214      1372    \n",
       "20     2014 1     1    -7        -6       AA      LGA    ORD  142       733    \n",
       "21     2014 1     1    -7         0       AA      LGA    ORD  143       733    \n",
       "22     2014 1     1    -8       -17       AA      LGA    ORD  139       733    \n",
       "23     2014 1     1    -2        15       AA      LGA    ORD  145       733    \n",
       "24     2014 1     1    -3         1       AA      LGA    ORD  139       733    \n",
       "25     2014 1     1    44        42       AA      LGA    ORD  141       733    \n",
       "26     2014 1     1    -1        -2       AA      EWR    DFW  214      1372    \n",
       "27     2014 1     1     3        12       AA      LGA    ORD  137       733    \n",
       "28     2014 1     1    -5        24       AA      LGA    ORD  145       733    \n",
       "29     2014 1     1    26        46       AA      LGA    ORD  132       733    \n",
       "30     2014 1     1    52        91       AA      LGA    ORD  136       733    \n",
       "⋮      ⋮    ⋮     ⋮   ⋮         ⋮         ⋮       ⋮      ⋮    ⋮        ⋮       \n",
       "253287 2014 10    31    3        -7       UA      EWR    TPA  147       997    \n",
       "253288 2014 10    31  271       236       UA      LGA    IAH  195      1416    \n",
       "253289 2014 10    31   10        -5       UA      EWR    ORD  110       719    \n",
       "253290 2014 10    31   21         6       UA      EWR    SFO  340      2565    \n",
       "253291 2014 10    31   -9       -43       UA      EWR    SFO  334      2565    \n",
       "253292 2014 10    31   49        48       UA      EWR    SFO  336      2565    \n",
       "253293 2014 10    31    0       -10       UA      EWR    RSW  156      1068    \n",
       "253294 2014 10    31    9         4       UA      EWR    MIA  160      1085    \n",
       "253295 2014 10    31    3       -32       UA      EWR    LAX  320      2454    \n",
       "253296 2014 10    31   -6       -31       UA      EWR    MSY  161      1167    \n",
       "253297 2014 10    31    5         2       UA      EWR    ORD  132       719    \n",
       "253298 2014 10    31   46        41       UA      EWR    FLL  149      1065    \n",
       "253299 2014 10    31   -1       -18       UA      EWR    CLE   61       404    \n",
       "253300 2014 10    31   14       -17       UA      LGA    IAH  200      1416    \n",
       "253301 2014 10    31    7       -11       UA      EWR    FLL  151      1065    \n",
       "253302 2014 10    31   -4        -1       UA      EWR    MIA  155      1085    \n",
       "253303 2014 10    31    1       -15       UA      EWR    FLL  151      1065    \n",
       "253304 2014 10    31   -3       -26       UA      EWR    IAH  198      1400    \n",
       "253305 2014 10    31    3       -14       UA      EWR    IAH  195      1400    \n",
       "253306 2014 10    31   24        -5       UA      LGA    IAH  198      1416    \n",
       "253307 2014 10    31   14        11       UA      EWR    MIA  151      1085    \n",
       "253308 2014 10    31   41        19       UA      EWR    SFO  344      2565    \n",
       "253309 2014 10    31  427       393       UA      EWR    ORD  100       719    \n",
       "253310 2014 10    31   10       -27       UA      EWR    LAX  326      2454    \n",
       "253311 2014 10    31   18       -14       UA      EWR    LAS  291      2227    \n",
       "253312 2014 10    31    1       -30       UA      LGA    IAH  201      1416    \n",
       "253313 2014 10    31   -5       -14       UA      EWR    IAH  189      1400    \n",
       "253314 2014 10    31   -8        16       MQ      LGA    RDU   83       431    \n",
       "253315 2014 10    31   -4        15       MQ      LGA    DTW   75       502    \n",
       "253316 2014 10    31   -5         1       MQ      LGA    SDF  110       659    \n",
       "       hour\n",
       "1       9  \n",
       "2      11  \n",
       "3      19  \n",
       "4       7  \n",
       "5      13  \n",
       "6      18  \n",
       "7      21  \n",
       "8      15  \n",
       "9      15  \n",
       "10     18  \n",
       "11     16  \n",
       "12     17  \n",
       "13     12  \n",
       "14     19  \n",
       "15     17  \n",
       "16     17  \n",
       "17     16  \n",
       "18     17  \n",
       "19     16  \n",
       "20      5  \n",
       "21      6  \n",
       "22      6  \n",
       "23      7  \n",
       "24      8  \n",
       "25     10  \n",
       "26     14  \n",
       "27     10  \n",
       "28     11  \n",
       "29     13  \n",
       "30     16  \n",
       "⋮      ⋮   \n",
       "253287 15  \n",
       "253288 23  \n",
       "253289  6  \n",
       "253290 16  \n",
       "253291  8  \n",
       "253292 14  \n",
       "253293  6  \n",
       "253294 10  \n",
       "253295 20  \n",
       "253296  6  \n",
       "253297 10  \n",
       "253298 19  \n",
       "253299  7  \n",
       "253300 17  \n",
       "253301 21  \n",
       "253302 16  \n",
       "253303  6  \n",
       "253304 14  \n",
       "253305 17  \n",
       "253306  6  \n",
       "253307 19  \n",
       "253308 12  \n",
       "253309 21  \n",
       "253310 10  \n",
       "253311 16  \n",
       "253312 14  \n",
       "253313  8  \n",
       "253314 11  \n",
       "253315 11  \n",
       "253316  8  "
      ]
     },
     "metadata": {},
     "output_type": "display_data"
    }
   ],
   "source": [
    "library(data.table)\n",
    "library(zoo)\n",
    "\n",
    "input <- if (file.exists(\"../data/my_data/flights14.csv\")) {\n",
    "    print(\"find the file1\")\n",
    "   \"../data/my_data/flights14.csv\"\n",
    "} else {\n",
    "  \"https://raw.githubusercontent.com/Rdatatable/data.table/master/vignettes/flights14.csv\"\n",
    "}\n",
    "# 使用fread创建data.table\n",
    "flights <- fread(input)     # ps: fread accepts http and https URLs directly\n",
    "flights"
   ]
  },
  {
   "cell_type": "markdown",
   "metadata": {},
   "source": [
    "还可以使用`setDT()` （对于data.frame和list结构）或`as.data.table()` （对于其他结构）将现有对象转换为data.table"
   ]
  },
  {
   "cell_type": "code",
   "execution_count": 3,
   "metadata": {
    "vscode": {
     "languageId": "r"
    }
   },
   "outputs": [
    {
     "data": {
      "text/html": [
       "<table class=\"dataframe\">\n",
       "<caption>A data.table: 6 × 4</caption>\n",
       "<thead>\n",
       "\t<tr><th scope=col>ID</th><th scope=col>a</th><th scope=col>b</th><th scope=col>c</th></tr>\n",
       "\t<tr><th scope=col>&lt;chr&gt;</th><th scope=col>&lt;int&gt;</th><th scope=col>&lt;int&gt;</th><th scope=col>&lt;int&gt;</th></tr>\n",
       "</thead>\n",
       "<tbody>\n",
       "\t<tr><td>b</td><td>1</td><td> 7</td><td>13</td></tr>\n",
       "\t<tr><td>b</td><td>2</td><td> 8</td><td>14</td></tr>\n",
       "\t<tr><td>b</td><td>3</td><td> 9</td><td>15</td></tr>\n",
       "\t<tr><td>a</td><td>4</td><td>10</td><td>16</td></tr>\n",
       "\t<tr><td>a</td><td>5</td><td>11</td><td>17</td></tr>\n",
       "\t<tr><td>c</td><td>6</td><td>12</td><td>18</td></tr>\n",
       "</tbody>\n",
       "</table>\n"
      ],
      "text/latex": [
       "A data.table: 6 × 4\n",
       "\\begin{tabular}{llll}\n",
       " ID & a & b & c\\\\\n",
       " <chr> & <int> & <int> & <int>\\\\\n",
       "\\hline\n",
       "\t b & 1 &  7 & 13\\\\\n",
       "\t b & 2 &  8 & 14\\\\\n",
       "\t b & 3 &  9 & 15\\\\\n",
       "\t a & 4 & 10 & 16\\\\\n",
       "\t a & 5 & 11 & 17\\\\\n",
       "\t c & 6 & 12 & 18\\\\\n",
       "\\end{tabular}\n"
      ],
      "text/markdown": [
       "\n",
       "A data.table: 6 × 4\n",
       "\n",
       "| ID &lt;chr&gt; | a &lt;int&gt; | b &lt;int&gt; | c &lt;int&gt; |\n",
       "|---|---|---|---|\n",
       "| b | 1 |  7 | 13 |\n",
       "| b | 2 |  8 | 14 |\n",
       "| b | 3 |  9 | 15 |\n",
       "| a | 4 | 10 | 16 |\n",
       "| a | 5 | 11 | 17 |\n",
       "| c | 6 | 12 | 18 |\n",
       "\n"
      ],
      "text/plain": [
       "  ID a b  c \n",
       "1 b  1  7 13\n",
       "2 b  2  8 14\n",
       "3 b  3  9 15\n",
       "4 a  4 10 16\n",
       "5 a  5 11 17\n",
       "6 c  6 12 18"
      ]
     },
     "metadata": {},
     "output_type": "display_data"
    }
   ],
   "source": [
    "# 使用data.table函数创建data.table\n",
    "DT = data.table(\n",
    "  ID = c(\"b\",\"b\",\"b\",\"a\",\"a\",\"c\"),\n",
    "  a = 1:6,\n",
    "  b = 7:12,\n",
    "  c = 13:18\n",
    ")\n",
    "DT"
   ]
  },
  {
   "cell_type": "markdown",
   "metadata": {},
   "source": [
    "#### 使用[i, j, by]来进行数据的操作\n",
    "\n",
    "- SQL与R的对比\n",
    "  \n",
    "    ```R\n",
    "    DT[i, j, by]\n",
    "    ##   R:                 i                 j        by\n",
    "    ## SQL:  where | order by   select | update  group by\n",
    "    ```\n",
    "- 思路:\n",
    "\n",
    "Take DT, subset/reorder rows using `i`, then calculate `j`, grouped by `by`"
   ]
  },
  {
   "cell_type": "markdown",
   "metadata": {},
   "source": [
    "### 选择行"
   ]
  },
  {
   "cell_type": "code",
   "execution_count": 4,
   "metadata": {
    "vscode": {
     "languageId": "r"
    }
   },
   "outputs": [
    {
     "data": {
      "text/html": [
       "<table class=\"dataframe\">\n",
       "<caption>A data.table: 6 × 11</caption>\n",
       "<thead>\n",
       "\t<tr><th scope=col>year</th><th scope=col>month</th><th scope=col>day</th><th scope=col>dep_delay</th><th scope=col>arr_delay</th><th scope=col>carrier</th><th scope=col>origin</th><th scope=col>dest</th><th scope=col>air_time</th><th scope=col>distance</th><th scope=col>hour</th></tr>\n",
       "\t<tr><th scope=col>&lt;int&gt;</th><th scope=col>&lt;int&gt;</th><th scope=col>&lt;int&gt;</th><th scope=col>&lt;int&gt;</th><th scope=col>&lt;int&gt;</th><th scope=col>&lt;chr&gt;</th><th scope=col>&lt;chr&gt;</th><th scope=col>&lt;chr&gt;</th><th scope=col>&lt;int&gt;</th><th scope=col>&lt;int&gt;</th><th scope=col>&lt;int&gt;</th></tr>\n",
       "</thead>\n",
       "<tbody>\n",
       "\t<tr><td>2014</td><td>6</td><td>1</td><td> -9</td><td> -5</td><td>AA</td><td>JFK</td><td>LAX</td><td>324</td><td>2475</td><td> 8</td></tr>\n",
       "\t<tr><td>2014</td><td>6</td><td>1</td><td>-10</td><td>-13</td><td>AA</td><td>JFK</td><td>LAX</td><td>329</td><td>2475</td><td>12</td></tr>\n",
       "\t<tr><td>2014</td><td>6</td><td>1</td><td> 18</td><td> -1</td><td>AA</td><td>JFK</td><td>LAX</td><td>326</td><td>2475</td><td> 7</td></tr>\n",
       "\t<tr><td>2014</td><td>6</td><td>1</td><td> -6</td><td>-16</td><td>AA</td><td>JFK</td><td>LAX</td><td>320</td><td>2475</td><td>10</td></tr>\n",
       "\t<tr><td>2014</td><td>6</td><td>1</td><td> -4</td><td>-45</td><td>AA</td><td>JFK</td><td>LAX</td><td>326</td><td>2475</td><td>18</td></tr>\n",
       "\t<tr><td>2014</td><td>6</td><td>1</td><td> -6</td><td>-23</td><td>AA</td><td>JFK</td><td>LAX</td><td>329</td><td>2475</td><td>14</td></tr>\n",
       "</tbody>\n",
       "</table>\n"
      ],
      "text/latex": [
       "A data.table: 6 × 11\n",
       "\\begin{tabular}{lllllllllll}\n",
       " year & month & day & dep\\_delay & arr\\_delay & carrier & origin & dest & air\\_time & distance & hour\\\\\n",
       " <int> & <int> & <int> & <int> & <int> & <chr> & <chr> & <chr> & <int> & <int> & <int>\\\\\n",
       "\\hline\n",
       "\t 2014 & 6 & 1 &  -9 &  -5 & AA & JFK & LAX & 324 & 2475 &  8\\\\\n",
       "\t 2014 & 6 & 1 & -10 & -13 & AA & JFK & LAX & 329 & 2475 & 12\\\\\n",
       "\t 2014 & 6 & 1 &  18 &  -1 & AA & JFK & LAX & 326 & 2475 &  7\\\\\n",
       "\t 2014 & 6 & 1 &  -6 & -16 & AA & JFK & LAX & 320 & 2475 & 10\\\\\n",
       "\t 2014 & 6 & 1 &  -4 & -45 & AA & JFK & LAX & 326 & 2475 & 18\\\\\n",
       "\t 2014 & 6 & 1 &  -6 & -23 & AA & JFK & LAX & 329 & 2475 & 14\\\\\n",
       "\\end{tabular}\n"
      ],
      "text/markdown": [
       "\n",
       "A data.table: 6 × 11\n",
       "\n",
       "| year &lt;int&gt; | month &lt;int&gt; | day &lt;int&gt; | dep_delay &lt;int&gt; | arr_delay &lt;int&gt; | carrier &lt;chr&gt; | origin &lt;chr&gt; | dest &lt;chr&gt; | air_time &lt;int&gt; | distance &lt;int&gt; | hour &lt;int&gt; |\n",
       "|---|---|---|---|---|---|---|---|---|---|---|\n",
       "| 2014 | 6 | 1 |  -9 |  -5 | AA | JFK | LAX | 324 | 2475 |  8 |\n",
       "| 2014 | 6 | 1 | -10 | -13 | AA | JFK | LAX | 329 | 2475 | 12 |\n",
       "| 2014 | 6 | 1 |  18 |  -1 | AA | JFK | LAX | 326 | 2475 |  7 |\n",
       "| 2014 | 6 | 1 |  -6 | -16 | AA | JFK | LAX | 320 | 2475 | 10 |\n",
       "| 2014 | 6 | 1 |  -4 | -45 | AA | JFK | LAX | 326 | 2475 | 18 |\n",
       "| 2014 | 6 | 1 |  -6 | -23 | AA | JFK | LAX | 329 | 2475 | 14 |\n",
       "\n"
      ],
      "text/plain": [
       "  year month day dep_delay arr_delay carrier origin dest air_time distance hour\n",
       "1 2014 6     1    -9        -5       AA      JFK    LAX  324      2475      8  \n",
       "2 2014 6     1   -10       -13       AA      JFK    LAX  329      2475     12  \n",
       "3 2014 6     1    18        -1       AA      JFK    LAX  326      2475      7  \n",
       "4 2014 6     1    -6       -16       AA      JFK    LAX  320      2475     10  \n",
       "5 2014 6     1    -4       -45       AA      JFK    LAX  326      2475     18  \n",
       "6 2014 6     1    -6       -23       AA      JFK    LAX  329      2475     14  "
      ]
     },
     "metadata": {},
     "output_type": "display_data"
    }
   ],
   "source": [
    "# 筛选条件\n",
    "ans <- flights[origin == \"JFK\" & month == 6L, ]\n",
    "head(ans)"
   ]
  },
  {
   "cell_type": "code",
   "execution_count": 5,
   "metadata": {
    "vscode": {
     "languageId": "r"
    }
   },
   "outputs": [
    {
     "data": {
      "text/html": [
       "<table class=\"dataframe\">\n",
       "<caption>A data.table: 6 × 11</caption>\n",
       "<thead>\n",
       "\t<tr><th scope=col>year</th><th scope=col>month</th><th scope=col>day</th><th scope=col>dep_delay</th><th scope=col>arr_delay</th><th scope=col>carrier</th><th scope=col>origin</th><th scope=col>dest</th><th scope=col>air_time</th><th scope=col>distance</th><th scope=col>hour</th></tr>\n",
       "\t<tr><th scope=col>&lt;int&gt;</th><th scope=col>&lt;int&gt;</th><th scope=col>&lt;int&gt;</th><th scope=col>&lt;int&gt;</th><th scope=col>&lt;int&gt;</th><th scope=col>&lt;chr&gt;</th><th scope=col>&lt;chr&gt;</th><th scope=col>&lt;chr&gt;</th><th scope=col>&lt;int&gt;</th><th scope=col>&lt;int&gt;</th><th scope=col>&lt;int&gt;</th></tr>\n",
       "</thead>\n",
       "<tbody>\n",
       "\t<tr><td>2014</td><td>1</td><td> 5</td><td> 6</td><td> 49</td><td>EV</td><td>EWR</td><td>XNA</td><td>195</td><td>1131</td><td>8</td></tr>\n",
       "\t<tr><td>2014</td><td>1</td><td> 6</td><td> 7</td><td> 13</td><td>EV</td><td>EWR</td><td>XNA</td><td>190</td><td>1131</td><td>8</td></tr>\n",
       "\t<tr><td>2014</td><td>1</td><td> 7</td><td>-6</td><td>-13</td><td>EV</td><td>EWR</td><td>XNA</td><td>179</td><td>1131</td><td>8</td></tr>\n",
       "\t<tr><td>2014</td><td>1</td><td> 8</td><td>-7</td><td>-12</td><td>EV</td><td>EWR</td><td>XNA</td><td>184</td><td>1131</td><td>8</td></tr>\n",
       "\t<tr><td>2014</td><td>1</td><td> 9</td><td>16</td><td>  7</td><td>EV</td><td>EWR</td><td>XNA</td><td>181</td><td>1131</td><td>8</td></tr>\n",
       "\t<tr><td>2014</td><td>1</td><td>13</td><td>66</td><td> 66</td><td>EV</td><td>EWR</td><td>XNA</td><td>188</td><td>1131</td><td>9</td></tr>\n",
       "</tbody>\n",
       "</table>\n"
      ],
      "text/latex": [
       "A data.table: 6 × 11\n",
       "\\begin{tabular}{lllllllllll}\n",
       " year & month & day & dep\\_delay & arr\\_delay & carrier & origin & dest & air\\_time & distance & hour\\\\\n",
       " <int> & <int> & <int> & <int> & <int> & <chr> & <chr> & <chr> & <int> & <int> & <int>\\\\\n",
       "\\hline\n",
       "\t 2014 & 1 &  5 &  6 &  49 & EV & EWR & XNA & 195 & 1131 & 8\\\\\n",
       "\t 2014 & 1 &  6 &  7 &  13 & EV & EWR & XNA & 190 & 1131 & 8\\\\\n",
       "\t 2014 & 1 &  7 & -6 & -13 & EV & EWR & XNA & 179 & 1131 & 8\\\\\n",
       "\t 2014 & 1 &  8 & -7 & -12 & EV & EWR & XNA & 184 & 1131 & 8\\\\\n",
       "\t 2014 & 1 &  9 & 16 &   7 & EV & EWR & XNA & 181 & 1131 & 8\\\\\n",
       "\t 2014 & 1 & 13 & 66 &  66 & EV & EWR & XNA & 188 & 1131 & 9\\\\\n",
       "\\end{tabular}\n"
      ],
      "text/markdown": [
       "\n",
       "A data.table: 6 × 11\n",
       "\n",
       "| year &lt;int&gt; | month &lt;int&gt; | day &lt;int&gt; | dep_delay &lt;int&gt; | arr_delay &lt;int&gt; | carrier &lt;chr&gt; | origin &lt;chr&gt; | dest &lt;chr&gt; | air_time &lt;int&gt; | distance &lt;int&gt; | hour &lt;int&gt; |\n",
       "|---|---|---|---|---|---|---|---|---|---|---|\n",
       "| 2014 | 1 |  5 |  6 |  49 | EV | EWR | XNA | 195 | 1131 | 8 |\n",
       "| 2014 | 1 |  6 |  7 |  13 | EV | EWR | XNA | 190 | 1131 | 8 |\n",
       "| 2014 | 1 |  7 | -6 | -13 | EV | EWR | XNA | 179 | 1131 | 8 |\n",
       "| 2014 | 1 |  8 | -7 | -12 | EV | EWR | XNA | 184 | 1131 | 8 |\n",
       "| 2014 | 1 |  9 | 16 |   7 | EV | EWR | XNA | 181 | 1131 | 8 |\n",
       "| 2014 | 1 | 13 | 66 |  66 | EV | EWR | XNA | 188 | 1131 | 9 |\n",
       "\n"
      ],
      "text/plain": [
       "  year month day dep_delay arr_delay carrier origin dest air_time distance hour\n",
       "1 2014 1      5   6         49       EV      EWR    XNA  195      1131     8   \n",
       "2 2014 1      6   7         13       EV      EWR    XNA  190      1131     8   \n",
       "3 2014 1      7  -6        -13       EV      EWR    XNA  179      1131     8   \n",
       "4 2014 1      8  -7        -12       EV      EWR    XNA  184      1131     8   \n",
       "5 2014 1      9  16          7       EV      EWR    XNA  181      1131     8   \n",
       "6 2014 1     13  66         66       EV      EWR    XNA  188      1131     9   "
      ]
     },
     "metadata": {},
     "output_type": "display_data"
    }
   ],
   "source": [
    "# 首先按origin地列升序对flights进行排序，然后按dest列降序排列：\n",
    "ans <- flights[order(origin, -dest)]\n",
    "head(ans)"
   ]
  },
  {
   "cell_type": "markdown",
   "metadata": {},
   "source": [
    "### 选择列"
   ]
  },
  {
   "cell_type": "code",
   "execution_count": 6,
   "metadata": {
    "vscode": {
     "languageId": "r"
    }
   },
   "outputs": [
    {
     "data": {
      "text/html": [
       "<style>\n",
       ".list-inline {list-style: none; margin:0; padding: 0}\n",
       ".list-inline>li {display: inline-block}\n",
       ".list-inline>li:not(:last-child)::after {content: \"\\00b7\"; padding: 0 .5ex}\n",
       "</style>\n",
       "<ol class=list-inline><li>13</li><li>13</li><li>9</li><li>-26</li><li>1</li><li>0</li></ol>\n"
      ],
      "text/latex": [
       "\\begin{enumerate*}\n",
       "\\item 13\n",
       "\\item 13\n",
       "\\item 9\n",
       "\\item -26\n",
       "\\item 1\n",
       "\\item 0\n",
       "\\end{enumerate*}\n"
      ],
      "text/markdown": [
       "1. 13\n",
       "2. 13\n",
       "3. 9\n",
       "4. -26\n",
       "5. 1\n",
       "6. 0\n",
       "\n",
       "\n"
      ],
      "text/plain": [
       "[1]  13  13   9 -26   1   0"
      ]
     },
     "metadata": {},
     "output_type": "display_data"
    }
   ],
   "source": [
    "# 将列视为data.table框架内的变量来引用，因此我们直接引用要子集化的变量\n",
    "# 作为 vector 返回\n",
    "ans <- flights[, arr_delay]\n",
    "head(ans)"
   ]
  },
  {
   "cell_type": "code",
   "execution_count": 7,
   "metadata": {
    "vscode": {
     "languageId": "r"
    }
   },
   "outputs": [
    {
     "data": {
      "text/html": [
       "<table class=\"dataframe\">\n",
       "<caption>A data.table: 6 × 1</caption>\n",
       "<thead>\n",
       "\t<tr><th scope=col>arr_delay</th></tr>\n",
       "\t<tr><th scope=col>&lt;int&gt;</th></tr>\n",
       "</thead>\n",
       "<tbody>\n",
       "\t<tr><td> 13</td></tr>\n",
       "\t<tr><td> 13</td></tr>\n",
       "\t<tr><td>  9</td></tr>\n",
       "\t<tr><td>-26</td></tr>\n",
       "\t<tr><td>  1</td></tr>\n",
       "\t<tr><td>  0</td></tr>\n",
       "</tbody>\n",
       "</table>\n"
      ],
      "text/latex": [
       "A data.table: 6 × 1\n",
       "\\begin{tabular}{l}\n",
       " arr\\_delay\\\\\n",
       " <int>\\\\\n",
       "\\hline\n",
       "\t  13\\\\\n",
       "\t  13\\\\\n",
       "\t   9\\\\\n",
       "\t -26\\\\\n",
       "\t   1\\\\\n",
       "\t   0\\\\\n",
       "\\end{tabular}\n"
      ],
      "text/markdown": [
       "\n",
       "A data.table: 6 × 1\n",
       "\n",
       "| arr_delay &lt;int&gt; |\n",
       "|---|\n",
       "|  13 |\n",
       "|  13 |\n",
       "|   9 |\n",
       "| -26 |\n",
       "|   1 |\n",
       "|   0 |\n",
       "\n"
      ],
      "text/plain": [
       "  arr_delay\n",
       "1  13      \n",
       "2  13      \n",
       "3   9      \n",
       "4 -26      \n",
       "5   1      \n",
       "6   0      "
      ]
     },
     "metadata": {},
     "output_type": "display_data"
    }
   ],
   "source": [
    "# 返回为data.table\n",
    "ans <- flights[, list(arr_delay)]\n",
    "head(ans)"
   ]
  },
  {
   "cell_type": "markdown",
   "metadata": {},
   "source": [
    "允许使用`.()`而不是list()包装列。它是`list()`的别名"
   ]
  },
  {
   "cell_type": "code",
   "execution_count": 8,
   "metadata": {
    "vscode": {
     "languageId": "r"
    }
   },
   "outputs": [
    {
     "data": {
      "text/html": [
       "<table class=\"dataframe\">\n",
       "<caption>A data.table: 6 × 2</caption>\n",
       "<thead>\n",
       "\t<tr><th scope=col>arr_delay</th><th scope=col>dep_delay</th></tr>\n",
       "\t<tr><th scope=col>&lt;int&gt;</th><th scope=col>&lt;int&gt;</th></tr>\n",
       "</thead>\n",
       "<tbody>\n",
       "\t<tr><td> 13</td><td>14</td></tr>\n",
       "\t<tr><td> 13</td><td>-3</td></tr>\n",
       "\t<tr><td>  9</td><td> 2</td></tr>\n",
       "\t<tr><td>-26</td><td>-8</td></tr>\n",
       "\t<tr><td>  1</td><td> 2</td></tr>\n",
       "\t<tr><td>  0</td><td> 4</td></tr>\n",
       "</tbody>\n",
       "</table>\n"
      ],
      "text/latex": [
       "A data.table: 6 × 2\n",
       "\\begin{tabular}{ll}\n",
       " arr\\_delay & dep\\_delay\\\\\n",
       " <int> & <int>\\\\\n",
       "\\hline\n",
       "\t  13 & 14\\\\\n",
       "\t  13 & -3\\\\\n",
       "\t   9 &  2\\\\\n",
       "\t -26 & -8\\\\\n",
       "\t   1 &  2\\\\\n",
       "\t   0 &  4\\\\\n",
       "\\end{tabular}\n"
      ],
      "text/markdown": [
       "\n",
       "A data.table: 6 × 2\n",
       "\n",
       "| arr_delay &lt;int&gt; | dep_delay &lt;int&gt; |\n",
       "|---|---|\n",
       "|  13 | 14 |\n",
       "|  13 | -3 |\n",
       "|   9 |  2 |\n",
       "| -26 | -8 |\n",
       "|   1 |  2 |\n",
       "|   0 |  4 |\n",
       "\n"
      ],
      "text/plain": [
       "  arr_delay dep_delay\n",
       "1  13       14       \n",
       "2  13       -3       \n",
       "3   9        2       \n",
       "4 -26       -8       \n",
       "5   1        2       \n",
       "6   0        4       "
      ]
     },
     "metadata": {},
     "output_type": "display_data"
    }
   ],
   "source": [
    "ans <- flights[, .(arr_delay, dep_delay)]\n",
    "\n",
    "## alternatively\n",
    "# ans <- flights[, list(arr_delay, dep_delay)]\n",
    "head(ans)"
   ]
  },
  {
   "cell_type": "code",
   "execution_count": 9,
   "metadata": {
    "vscode": {
     "languageId": "r"
    }
   },
   "outputs": [
    {
     "data": {
      "text/html": [
       "<table class=\"dataframe\">\n",
       "<caption>A data.table: 6 × 2</caption>\n",
       "<thead>\n",
       "\t<tr><th scope=col>delay_arr</th><th scope=col>delay_dep</th></tr>\n",
       "\t<tr><th scope=col>&lt;int&gt;</th><th scope=col>&lt;int&gt;</th></tr>\n",
       "</thead>\n",
       "<tbody>\n",
       "\t<tr><td> 13</td><td>14</td></tr>\n",
       "\t<tr><td> 13</td><td>-3</td></tr>\n",
       "\t<tr><td>  9</td><td> 2</td></tr>\n",
       "\t<tr><td>-26</td><td>-8</td></tr>\n",
       "\t<tr><td>  1</td><td> 2</td></tr>\n",
       "\t<tr><td>  0</td><td> 4</td></tr>\n",
       "</tbody>\n",
       "</table>\n"
      ],
      "text/latex": [
       "A data.table: 6 × 2\n",
       "\\begin{tabular}{ll}\n",
       " delay\\_arr & delay\\_dep\\\\\n",
       " <int> & <int>\\\\\n",
       "\\hline\n",
       "\t  13 & 14\\\\\n",
       "\t  13 & -3\\\\\n",
       "\t   9 &  2\\\\\n",
       "\t -26 & -8\\\\\n",
       "\t   1 &  2\\\\\n",
       "\t   0 &  4\\\\\n",
       "\\end{tabular}\n"
      ],
      "text/markdown": [
       "\n",
       "A data.table: 6 × 2\n",
       "\n",
       "| delay_arr &lt;int&gt; | delay_dep &lt;int&gt; |\n",
       "|---|---|\n",
       "|  13 | 14 |\n",
       "|  13 | -3 |\n",
       "|   9 |  2 |\n",
       "| -26 | -8 |\n",
       "|   1 |  2 |\n",
       "|   0 |  4 |\n",
       "\n"
      ],
      "text/plain": [
       "  delay_arr delay_dep\n",
       "1  13       14       \n",
       "2  13       -3       \n",
       "3   9        2       \n",
       "4 -26       -8       \n",
       "5   1        2       \n",
       "6   0        4       "
      ]
     },
     "metadata": {},
     "output_type": "display_data"
    }
   ],
   "source": [
    "# 重命名\n",
    "ans <- flights[, .(delay_arr = arr_delay, delay_dep = dep_delay)]\n",
    "head(ans)"
   ]
  },
  {
   "cell_type": "markdown",
   "metadata": {},
   "source": [
    "#### Compute or do in j"
   ]
  },
  {
   "cell_type": "code",
   "execution_count": 10,
   "metadata": {
    "vscode": {
     "languageId": "r"
    }
   },
   "outputs": [
    {
     "data": {
      "text/html": [
       "141814"
      ],
      "text/latex": [
       "141814"
      ],
      "text/markdown": [
       "141814"
      ],
      "text/plain": [
       "[1] 141814"
      ]
     },
     "metadata": {},
     "output_type": "display_data"
    }
   ],
   "source": [
    "ans <- flights[, sum((arr_delay + dep_delay) < 0)]  # j 可以处理表达式\n",
    "ans"
   ]
  },
  {
   "cell_type": "code",
   "execution_count": 11,
   "metadata": {
    "vscode": {
     "languageId": "r"
    }
   },
   "outputs": [
    {
     "data": {
      "text/html": [
       "<table class=\"dataframe\">\n",
       "<caption>A data.table: 1 × 2</caption>\n",
       "<thead>\n",
       "\t<tr><th scope=col>V1</th><th scope=col>V2</th></tr>\n",
       "\t<tr><th scope=col>&lt;dbl&gt;</th><th scope=col>&lt;dbl&gt;</th></tr>\n",
       "</thead>\n",
       "<tbody>\n",
       "\t<tr><td>5.839349</td><td>9.807884</td></tr>\n",
       "</tbody>\n",
       "</table>\n"
      ],
      "text/latex": [
       "A data.table: 1 × 2\n",
       "\\begin{tabular}{ll}\n",
       " V1 & V2\\\\\n",
       " <dbl> & <dbl>\\\\\n",
       "\\hline\n",
       "\t 5.839349 & 9.807884\\\\\n",
       "\\end{tabular}\n"
      ],
      "text/markdown": [
       "\n",
       "A data.table: 1 × 2\n",
       "\n",
       "| V1 &lt;dbl&gt; | V2 &lt;dbl&gt; |\n",
       "|---|---|\n",
       "| 5.839349 | 9.807884 |\n",
       "\n"
      ],
      "text/plain": [
       "  V1       V2      \n",
       "1 5.839349 9.807884"
      ]
     },
     "metadata": {},
     "output_type": "display_data"
    }
   ],
   "source": [
    "# eg: 计算6月份所有以“JFK”为始发机场的航班的平均到达和出发延误时间\n",
    "\n",
    "ans <- flights[origin == \"JFK\" & month == 6L,       # 筛选\n",
    "        .(mean(arr_delay), mean(dep_delay))]        # 计算\n",
    "ans"
   ]
  },
  {
   "cell_type": "code",
   "execution_count": 12,
   "metadata": {
    "vscode": {
     "languageId": "r"
    }
   },
   "outputs": [
    {
     "data": {
      "text/html": [
       "8422"
      ],
      "text/latex": [
       "8422"
      ],
      "text/markdown": [
       "8422"
      ],
      "text/plain": [
       "[1] 8422"
      ]
     },
     "metadata": {},
     "output_type": "display_data"
    }
   ],
   "source": [
    "# 计算筛选条件的行数                                        .N: 保存当前组中的观测值数量\n",
    "ans <- flights[origin == \"JFK\" & month == 6L, .N]       # .N <--> length(dest)\n",
    "ans   # 整个子集并未具体化。我们只是返回子集中的行数（这只是行索引的长度）\n",
    "# 注意: 我们没有用list()或.()包装.N 。因此，返回一个**向量**"
   ]
  },
  {
   "cell_type": "markdown",
   "metadata": {},
   "source": [
    "#### 处理i中不存在的元素"
   ]
  },
  {
   "cell_type": "code",
   "execution_count": 13,
   "metadata": {
    "vscode": {
     "languageId": "r"
    }
   },
   "outputs": [],
   "source": [
    "#### Handle non-existing elements in i\n",
    "\n",
    "# 使用setkeyv时，表按指定键排序并创建内部索引，从而启用二分搜索以实现高效的子集设置\n",
    "setkeyv(flights, \"origin\")"
   ]
  },
  {
   "cell_type": "code",
   "execution_count": 14,
   "metadata": {
    "vscode": {
     "languageId": "r"
    }
   },
   "outputs": [
    {
     "data": {
      "text/html": [
       "<table class=\"dataframe\">\n",
       "<caption>A data.table: 1 × 11</caption>\n",
       "<thead>\n",
       "\t<tr><th scope=col>year</th><th scope=col>month</th><th scope=col>day</th><th scope=col>dep_delay</th><th scope=col>arr_delay</th><th scope=col>carrier</th><th scope=col>origin</th><th scope=col>dest</th><th scope=col>air_time</th><th scope=col>distance</th><th scope=col>hour</th></tr>\n",
       "\t<tr><th scope=col>&lt;int&gt;</th><th scope=col>&lt;int&gt;</th><th scope=col>&lt;int&gt;</th><th scope=col>&lt;int&gt;</th><th scope=col>&lt;int&gt;</th><th scope=col>&lt;chr&gt;</th><th scope=col>&lt;chr&gt;</th><th scope=col>&lt;chr&gt;</th><th scope=col>&lt;int&gt;</th><th scope=col>&lt;int&gt;</th><th scope=col>&lt;int&gt;</th></tr>\n",
       "</thead>\n",
       "<tbody>\n",
       "\t<tr><td>NA</td><td>NA</td><td>NA</td><td>NA</td><td>NA</td><td>NA</td><td>XYZ</td><td>NA</td><td>NA</td><td>NA</td><td>NA</td></tr>\n",
       "</tbody>\n",
       "</table>\n"
      ],
      "text/latex": [
       "A data.table: 1 × 11\n",
       "\\begin{tabular}{lllllllllll}\n",
       " year & month & day & dep\\_delay & arr\\_delay & carrier & origin & dest & air\\_time & distance & hour\\\\\n",
       " <int> & <int> & <int> & <int> & <int> & <chr> & <chr> & <chr> & <int> & <int> & <int>\\\\\n",
       "\\hline\n",
       "\t NA & NA & NA & NA & NA & NA & XYZ & NA & NA & NA & NA\\\\\n",
       "\\end{tabular}\n"
      ],
      "text/markdown": [
       "\n",
       "A data.table: 1 × 11\n",
       "\n",
       "| year &lt;int&gt; | month &lt;int&gt; | day &lt;int&gt; | dep_delay &lt;int&gt; | arr_delay &lt;int&gt; | carrier &lt;chr&gt; | origin &lt;chr&gt; | dest &lt;chr&gt; | air_time &lt;int&gt; | distance &lt;int&gt; | hour &lt;int&gt; |\n",
       "|---|---|---|---|---|---|---|---|---|---|---|\n",
       "| NA | NA | NA | NA | NA | NA | XYZ | NA | NA | NA | NA |\n",
       "\n"
      ],
      "text/plain": [
       "  year month day dep_delay arr_delay carrier origin dest air_time distance hour\n",
       "1 NA   NA    NA  NA        NA        NA      XYZ    NA   NA       NA       NA  "
      ]
     },
     "metadata": {},
     "output_type": "display_data"
    }
   ],
   "source": [
    "flights[\"XYZ\"]  # 基于键的子集"
   ]
  },
  {
   "cell_type": "code",
   "execution_count": 15,
   "metadata": {
    "vscode": {
     "languageId": "r"
    }
   },
   "outputs": [
    {
     "data": {
      "text/html": [
       "<table class=\"dataframe\">\n",
       "<caption>A data.table: 0 × 11</caption>\n",
       "<thead>\n",
       "\t<tr><th scope=col>year</th><th scope=col>month</th><th scope=col>day</th><th scope=col>dep_delay</th><th scope=col>arr_delay</th><th scope=col>carrier</th><th scope=col>origin</th><th scope=col>dest</th><th scope=col>air_time</th><th scope=col>distance</th><th scope=col>hour</th></tr>\n",
       "\t<tr><th scope=col>&lt;int&gt;</th><th scope=col>&lt;int&gt;</th><th scope=col>&lt;int&gt;</th><th scope=col>&lt;int&gt;</th><th scope=col>&lt;int&gt;</th><th scope=col>&lt;chr&gt;</th><th scope=col>&lt;chr&gt;</th><th scope=col>&lt;chr&gt;</th><th scope=col>&lt;int&gt;</th><th scope=col>&lt;int&gt;</th><th scope=col>&lt;int&gt;</th></tr>\n",
       "</thead>\n",
       "<tbody>\n",
       "</tbody>\n",
       "</table>\n"
      ],
      "text/latex": [
       "A data.table: 0 × 11\n",
       "\\begin{tabular}{lllllllllll}\n",
       " year & month & day & dep\\_delay & arr\\_delay & carrier & origin & dest & air\\_time & distance & hour\\\\\n",
       " <int> & <int> & <int> & <int> & <int> & <chr> & <chr> & <chr> & <int> & <int> & <int>\\\\\n",
       "\\hline\n",
       "\\end{tabular}\n"
      ],
      "text/markdown": [
       "\n",
       "A data.table: 0 × 11\n",
       "\n",
       "| year &lt;int&gt; | month &lt;int&gt; | day &lt;int&gt; | dep_delay &lt;int&gt; | arr_delay &lt;int&gt; | carrier &lt;chr&gt; | origin &lt;chr&gt; | dest &lt;chr&gt; | air_time &lt;int&gt; | distance &lt;int&gt; | hour &lt;int&gt; |\n",
       "|---|---|---|---|---|---|---|---|---|---|---|\n",
       "\n"
      ],
      "text/plain": [
       "     year month day dep_delay arr_delay carrier origin dest air_time distance\n",
       "     hour"
      ]
     },
     "metadata": {},
     "output_type": "display_data"
    }
   ],
   "source": [
    "flights[origin == \"XYZ\"] # 逻辑子集 执行标准子集操作，未找到任何匹配行，因此返回空data.table "
   ]
  },
  {
   "cell_type": "code",
   "execution_count": 16,
   "metadata": {
    "vscode": {
     "languageId": "r"
    }
   },
   "outputs": [
    {
     "data": {
      "text/html": [
       "<table class=\"dataframe\">\n",
       "<caption>A data.table: 0 × 11</caption>\n",
       "<thead>\n",
       "\t<tr><th scope=col>year</th><th scope=col>month</th><th scope=col>day</th><th scope=col>dep_delay</th><th scope=col>arr_delay</th><th scope=col>carrier</th><th scope=col>origin</th><th scope=col>dest</th><th scope=col>air_time</th><th scope=col>distance</th><th scope=col>hour</th></tr>\n",
       "\t<tr><th scope=col>&lt;int&gt;</th><th scope=col>&lt;int&gt;</th><th scope=col>&lt;int&gt;</th><th scope=col>&lt;int&gt;</th><th scope=col>&lt;int&gt;</th><th scope=col>&lt;chr&gt;</th><th scope=col>&lt;chr&gt;</th><th scope=col>&lt;chr&gt;</th><th scope=col>&lt;int&gt;</th><th scope=col>&lt;int&gt;</th><th scope=col>&lt;int&gt;</th></tr>\n",
       "</thead>\n",
       "<tbody>\n",
       "</tbody>\n",
       "</table>\n"
      ],
      "text/latex": [
       "A data.table: 0 × 11\n",
       "\\begin{tabular}{lllllllllll}\n",
       " year & month & day & dep\\_delay & arr\\_delay & carrier & origin & dest & air\\_time & distance & hour\\\\\n",
       " <int> & <int> & <int> & <int> & <int> & <chr> & <chr> & <chr> & <int> & <int> & <int>\\\\\n",
       "\\hline\n",
       "\\end{tabular}\n"
      ],
      "text/markdown": [
       "\n",
       "A data.table: 0 × 11\n",
       "\n",
       "| year &lt;int&gt; | month &lt;int&gt; | day &lt;int&gt; | dep_delay &lt;int&gt; | arr_delay &lt;int&gt; | carrier &lt;chr&gt; | origin &lt;chr&gt; | dest &lt;chr&gt; | air_time &lt;int&gt; | distance &lt;int&gt; | hour &lt;int&gt; |\n",
       "|---|---|---|---|---|---|---|---|---|---|---|\n",
       "\n"
      ],
      "text/plain": [
       "     year month day dep_delay arr_delay carrier origin dest air_time distance\n",
       "     hour"
      ]
     },
     "metadata": {},
     "output_type": "display_data"
    }
   ],
   "source": [
    "# 使用nomatch=NULL进行精确匹配\n",
    "flights[\"XYZ\", nomatch=NULL]"
   ]
  },
  {
   "cell_type": "code",
   "execution_count": 17,
   "metadata": {
    "vscode": {
     "languageId": "r"
    }
   },
   "outputs": [
    {
     "data": {
      "text/html": [
       "8422"
      ],
      "text/latex": [
       "8422"
      ],
      "text/markdown": [
       "8422"
      ],
      "text/plain": [
       "[1] 8422"
      ]
     },
     "metadata": {},
     "output_type": "display_data"
    }
   ],
   "source": [
    "# 效率地下的情况:\n",
    "# nrow(): 必须首先对与i中的行索引相对应的整个data.table进行子集化\n",
    "nrow(flights[origin == \"JFK\" & month == 6L])"
   ]
  },
  {
   "cell_type": "markdown",
   "metadata": {},
   "source": [
    "#### 通过j中的名称引用列"
   ]
  },
  {
   "cell_type": "code",
   "execution_count": 18,
   "metadata": {
    "vscode": {
     "languageId": "r"
    }
   },
   "outputs": [
    {
     "data": {
      "text/html": [
       "<table class=\"dataframe\">\n",
       "<caption>A data.table: 6 × 2</caption>\n",
       "<thead>\n",
       "\t<tr><th scope=col>arr_delay</th><th scope=col>dep_delay</th></tr>\n",
       "\t<tr><th scope=col>&lt;int&gt;</th><th scope=col>&lt;int&gt;</th></tr>\n",
       "</thead>\n",
       "<tbody>\n",
       "\t<tr><td>  0</td><td>  4</td></tr>\n",
       "\t<tr><td>-17</td><td> -5</td></tr>\n",
       "\t<tr><td>185</td><td>191</td></tr>\n",
       "\t<tr><td> -2</td><td> -1</td></tr>\n",
       "\t<tr><td>-10</td><td> -3</td></tr>\n",
       "\t<tr><td>-17</td><td>  4</td></tr>\n",
       "</tbody>\n",
       "</table>\n"
      ],
      "text/latex": [
       "A data.table: 6 × 2\n",
       "\\begin{tabular}{ll}\n",
       " arr\\_delay & dep\\_delay\\\\\n",
       " <int> & <int>\\\\\n",
       "\\hline\n",
       "\t   0 &   4\\\\\n",
       "\t -17 &  -5\\\\\n",
       "\t 185 & 191\\\\\n",
       "\t  -2 &  -1\\\\\n",
       "\t -10 &  -3\\\\\n",
       "\t -17 &   4\\\\\n",
       "\\end{tabular}\n"
      ],
      "text/markdown": [
       "\n",
       "A data.table: 6 × 2\n",
       "\n",
       "| arr_delay &lt;int&gt; | dep_delay &lt;int&gt; |\n",
       "|---|---|\n",
       "|   0 |   4 |\n",
       "| -17 |  -5 |\n",
       "| 185 | 191 |\n",
       "|  -2 |  -1 |\n",
       "| -10 |  -3 |\n",
       "| -17 |   4 |\n",
       "\n"
      ],
      "text/plain": [
       "  arr_delay dep_delay\n",
       "1   0         4      \n",
       "2 -17        -5      \n",
       "3 185       191      \n",
       "4  -2        -1      \n",
       "5 -10        -3      \n",
       "6 -17         4      "
      ]
     },
     "metadata": {},
     "output_type": "display_data"
    }
   ],
   "source": [
    "# 显式写出列名称，则与data.frame （自 v1.9.8 起）相比没有区别\n",
    "ans <- flights[, c(\"arr_delay\", \"dep_delay\")]\n",
    "head(ans)"
   ]
  },
  {
   "cell_type": "code",
   "execution_count": 19,
   "metadata": {
    "vscode": {
     "languageId": "r"
    }
   },
   "outputs": [
    {
     "data": {
      "text/html": [
       "<table class=\"dataframe\">\n",
       "<caption>A data.table: 253316 × 2</caption>\n",
       "<thead>\n",
       "\t<tr><th scope=col>arr_delay</th><th scope=col>dep_delay</th></tr>\n",
       "\t<tr><th scope=col>&lt;int&gt;</th><th scope=col>&lt;int&gt;</th></tr>\n",
       "</thead>\n",
       "<tbody>\n",
       "\t<tr><td>  0</td><td>  4</td></tr>\n",
       "\t<tr><td>-17</td><td> -5</td></tr>\n",
       "\t<tr><td>185</td><td>191</td></tr>\n",
       "\t<tr><td> -2</td><td> -1</td></tr>\n",
       "\t<tr><td>-10</td><td> -3</td></tr>\n",
       "\t<tr><td>-17</td><td>  4</td></tr>\n",
       "\t<tr><td> 27</td><td> -3</td></tr>\n",
       "\t<tr><td> -8</td><td> -5</td></tr>\n",
       "\t<tr><td>-16</td><td> -9</td></tr>\n",
       "\t<tr><td>-12</td><td>  4</td></tr>\n",
       "\t<tr><td> 15</td><td>  4</td></tr>\n",
       "\t<tr><td> 15</td><td> 20</td></tr>\n",
       "\t<tr><td>-11</td><td> -5</td></tr>\n",
       "\t<tr><td>-16</td><td> -3</td></tr>\n",
       "\t<tr><td> -5</td><td> -3</td></tr>\n",
       "\t<tr><td> 21</td><td> -4</td></tr>\n",
       "\t<tr><td> 21</td><td> 21</td></tr>\n",
       "\t<tr><td>  1</td><td>  3</td></tr>\n",
       "\t<tr><td>  3</td><td> -2</td></tr>\n",
       "\t<tr><td>  7</td><td>  9</td></tr>\n",
       "\t<tr><td> -3</td><td> -3</td></tr>\n",
       "\t<tr><td> 18</td><td> -7</td></tr>\n",
       "\t<tr><td> -8</td><td>-11</td></tr>\n",
       "\t<tr><td> 19</td><td> -6</td></tr>\n",
       "\t<tr><td> 50</td><td> 42</td></tr>\n",
       "\t<tr><td> 29</td><td> 23</td></tr>\n",
       "\t<tr><td>132</td><td>118</td></tr>\n",
       "\t<tr><td>-13</td><td> -3</td></tr>\n",
       "\t<tr><td> -3</td><td> -6</td></tr>\n",
       "\t<tr><td> 30</td><td> 17</td></tr>\n",
       "\t<tr><td>⋮</td><td>⋮</td></tr>\n",
       "\t<tr><td>-10</td><td> -5</td></tr>\n",
       "\t<tr><td>  2</td><td> -5</td></tr>\n",
       "\t<tr><td>-22</td><td> -5</td></tr>\n",
       "\t<tr><td>  7</td><td> 12</td></tr>\n",
       "\t<tr><td> -4</td><td>  5</td></tr>\n",
       "\t<tr><td>-22</td><td>  4</td></tr>\n",
       "\t<tr><td> 25</td><td> 72</td></tr>\n",
       "\t<tr><td>-30</td><td>  9</td></tr>\n",
       "\t<tr><td> 50</td><td> 70</td></tr>\n",
       "\t<tr><td>-44</td><td> -4</td></tr>\n",
       "\t<tr><td>110</td><td> 98</td></tr>\n",
       "\t<tr><td>  1</td><td> -8</td></tr>\n",
       "\t<tr><td>-28</td><td> -1</td></tr>\n",
       "\t<tr><td>220</td><td>244</td></tr>\n",
       "\t<tr><td>-28</td><td> -4</td></tr>\n",
       "\t<tr><td> 14</td><td>  4</td></tr>\n",
       "\t<tr><td>-43</td><td> -7</td></tr>\n",
       "\t<tr><td>365</td><td>366</td></tr>\n",
       "\t<tr><td>-16</td><td> -7</td></tr>\n",
       "\t<tr><td>138</td><td>167</td></tr>\n",
       "\t<tr><td>143</td><td> 54</td></tr>\n",
       "\t<tr><td> -5</td><td> -6</td></tr>\n",
       "\t<tr><td>-25</td><td>  1</td></tr>\n",
       "\t<tr><td>236</td><td>271</td></tr>\n",
       "\t<tr><td>-17</td><td> 14</td></tr>\n",
       "\t<tr><td> -5</td><td> 24</td></tr>\n",
       "\t<tr><td>-30</td><td>  1</td></tr>\n",
       "\t<tr><td> 16</td><td> -8</td></tr>\n",
       "\t<tr><td> 15</td><td> -4</td></tr>\n",
       "\t<tr><td>  1</td><td> -5</td></tr>\n",
       "</tbody>\n",
       "</table>\n"
      ],
      "text/latex": [
       "A data.table: 253316 × 2\n",
       "\\begin{tabular}{ll}\n",
       " arr\\_delay & dep\\_delay\\\\\n",
       " <int> & <int>\\\\\n",
       "\\hline\n",
       "\t   0 &   4\\\\\n",
       "\t -17 &  -5\\\\\n",
       "\t 185 & 191\\\\\n",
       "\t  -2 &  -1\\\\\n",
       "\t -10 &  -3\\\\\n",
       "\t -17 &   4\\\\\n",
       "\t  27 &  -3\\\\\n",
       "\t  -8 &  -5\\\\\n",
       "\t -16 &  -9\\\\\n",
       "\t -12 &   4\\\\\n",
       "\t  15 &   4\\\\\n",
       "\t  15 &  20\\\\\n",
       "\t -11 &  -5\\\\\n",
       "\t -16 &  -3\\\\\n",
       "\t  -5 &  -3\\\\\n",
       "\t  21 &  -4\\\\\n",
       "\t  21 &  21\\\\\n",
       "\t   1 &   3\\\\\n",
       "\t   3 &  -2\\\\\n",
       "\t   7 &   9\\\\\n",
       "\t  -3 &  -3\\\\\n",
       "\t  18 &  -7\\\\\n",
       "\t  -8 & -11\\\\\n",
       "\t  19 &  -6\\\\\n",
       "\t  50 &  42\\\\\n",
       "\t  29 &  23\\\\\n",
       "\t 132 & 118\\\\\n",
       "\t -13 &  -3\\\\\n",
       "\t  -3 &  -6\\\\\n",
       "\t  30 &  17\\\\\n",
       "\t ⋮ & ⋮\\\\\n",
       "\t -10 &  -5\\\\\n",
       "\t   2 &  -5\\\\\n",
       "\t -22 &  -5\\\\\n",
       "\t   7 &  12\\\\\n",
       "\t  -4 &   5\\\\\n",
       "\t -22 &   4\\\\\n",
       "\t  25 &  72\\\\\n",
       "\t -30 &   9\\\\\n",
       "\t  50 &  70\\\\\n",
       "\t -44 &  -4\\\\\n",
       "\t 110 &  98\\\\\n",
       "\t   1 &  -8\\\\\n",
       "\t -28 &  -1\\\\\n",
       "\t 220 & 244\\\\\n",
       "\t -28 &  -4\\\\\n",
       "\t  14 &   4\\\\\n",
       "\t -43 &  -7\\\\\n",
       "\t 365 & 366\\\\\n",
       "\t -16 &  -7\\\\\n",
       "\t 138 & 167\\\\\n",
       "\t 143 &  54\\\\\n",
       "\t  -5 &  -6\\\\\n",
       "\t -25 &   1\\\\\n",
       "\t 236 & 271\\\\\n",
       "\t -17 &  14\\\\\n",
       "\t  -5 &  24\\\\\n",
       "\t -30 &   1\\\\\n",
       "\t  16 &  -8\\\\\n",
       "\t  15 &  -4\\\\\n",
       "\t   1 &  -5\\\\\n",
       "\\end{tabular}\n"
      ],
      "text/markdown": [
       "\n",
       "A data.table: 253316 × 2\n",
       "\n",
       "| arr_delay &lt;int&gt; | dep_delay &lt;int&gt; |\n",
       "|---|---|\n",
       "|   0 |   4 |\n",
       "| -17 |  -5 |\n",
       "| 185 | 191 |\n",
       "|  -2 |  -1 |\n",
       "| -10 |  -3 |\n",
       "| -17 |   4 |\n",
       "|  27 |  -3 |\n",
       "|  -8 |  -5 |\n",
       "| -16 |  -9 |\n",
       "| -12 |   4 |\n",
       "|  15 |   4 |\n",
       "|  15 |  20 |\n",
       "| -11 |  -5 |\n",
       "| -16 |  -3 |\n",
       "|  -5 |  -3 |\n",
       "|  21 |  -4 |\n",
       "|  21 |  21 |\n",
       "|   1 |   3 |\n",
       "|   3 |  -2 |\n",
       "|   7 |   9 |\n",
       "|  -3 |  -3 |\n",
       "|  18 |  -7 |\n",
       "|  -8 | -11 |\n",
       "|  19 |  -6 |\n",
       "|  50 |  42 |\n",
       "|  29 |  23 |\n",
       "| 132 | 118 |\n",
       "| -13 |  -3 |\n",
       "|  -3 |  -6 |\n",
       "|  30 |  17 |\n",
       "| ⋮ | ⋮ |\n",
       "| -10 |  -5 |\n",
       "|   2 |  -5 |\n",
       "| -22 |  -5 |\n",
       "|   7 |  12 |\n",
       "|  -4 |   5 |\n",
       "| -22 |   4 |\n",
       "|  25 |  72 |\n",
       "| -30 |   9 |\n",
       "|  50 |  70 |\n",
       "| -44 |  -4 |\n",
       "| 110 |  98 |\n",
       "|   1 |  -8 |\n",
       "| -28 |  -1 |\n",
       "| 220 | 244 |\n",
       "| -28 |  -4 |\n",
       "|  14 |   4 |\n",
       "| -43 |  -7 |\n",
       "| 365 | 366 |\n",
       "| -16 |  -7 |\n",
       "| 138 | 167 |\n",
       "| 143 |  54 |\n",
       "|  -5 |  -6 |\n",
       "| -25 |   1 |\n",
       "| 236 | 271 |\n",
       "| -17 |  14 |\n",
       "|  -5 |  24 |\n",
       "| -30 |   1 |\n",
       "|  16 |  -8 |\n",
       "|  15 |  -4 |\n",
       "|   1 |  -5 |\n",
       "\n"
      ],
      "text/plain": [
       "       arr_delay dep_delay\n",
       "1        0         4      \n",
       "2      -17        -5      \n",
       "3      185       191      \n",
       "4       -2        -1      \n",
       "5      -10        -3      \n",
       "6      -17         4      \n",
       "7       27        -3      \n",
       "8       -8        -5      \n",
       "9      -16        -9      \n",
       "10     -12         4      \n",
       "11      15         4      \n",
       "12      15        20      \n",
       "13     -11        -5      \n",
       "14     -16        -3      \n",
       "15      -5        -3      \n",
       "16      21        -4      \n",
       "17      21        21      \n",
       "18       1         3      \n",
       "19       3        -2      \n",
       "20       7         9      \n",
       "21      -3        -3      \n",
       "22      18        -7      \n",
       "23      -8       -11      \n",
       "24      19        -6      \n",
       "25      50        42      \n",
       "26      29        23      \n",
       "27     132       118      \n",
       "28     -13        -3      \n",
       "29      -3        -6      \n",
       "30      30        17      \n",
       "⋮      ⋮         ⋮        \n",
       "253287 -10        -5      \n",
       "253288   2        -5      \n",
       "253289 -22        -5      \n",
       "253290   7        12      \n",
       "253291  -4         5      \n",
       "253292 -22         4      \n",
       "253293  25        72      \n",
       "253294 -30         9      \n",
       "253295  50        70      \n",
       "253296 -44        -4      \n",
       "253297 110        98      \n",
       "253298   1        -8      \n",
       "253299 -28        -1      \n",
       "253300 220       244      \n",
       "253301 -28        -4      \n",
       "253302  14         4      \n",
       "253303 -43        -7      \n",
       "253304 365       366      \n",
       "253305 -16        -7      \n",
       "253306 138       167      \n",
       "253307 143        54      \n",
       "253308  -5        -6      \n",
       "253309 -25         1      \n",
       "253310 236       271      \n",
       "253311 -17        14      \n",
       "253312  -5        24      \n",
       "253313 -30         1      \n",
       "253314  16        -8      \n",
       "253315  15        -4      \n",
       "253316   1        -5      "
      ]
     },
     "metadata": {},
     "output_type": "display_data"
    }
   ],
   "source": [
    "# 如果已经存储列名到向量中, 使用..前缀或使用with参数\n",
    "\n",
    "select_cols = c(\"arr_delay\", \"dep_delay\")\n",
    "flights[ , ..select_cols]"
   ]
  },
  {
   "cell_type": "markdown",
   "metadata": {},
   "source": [
    "#### `R with(data, expression)`:\n",
    "\n",
    "- data: 要在其中评估表达式的环境或数据框。\n",
    "- expression: 要评估的 R 表达式。此表达式可以包含 data 中的列名，并且不需要显式地写出数据框名\n",
    "\n",
    "- eg1:\n",
    "\n",
    "    ```R\n",
    "     with(df, height / weight) <-> df$height / df$weight\n",
    "    ```\n",
    "- eg2: 进行条件筛选\n",
    "\n",
    "```R\n",
    "subset_data <- with(df, df[height > 170, ])\n",
    "```\n",
    "\n",
    "#### data.table的with参数\n",
    "\n",
    "在 data.table 中，当你使用 flights[, select_cols] 语法时，它会默认理解为列名的**表达式**，并且会自动 查找这些列的值。如果 select_cols 是列名的字符向量，data.table 会尝试对这些列进行操作，比如进行求和、计算或其他操作，而`不是`简单地选取这些列"
   ]
  },
  {
   "cell_type": "code",
   "execution_count": 20,
   "metadata": {
    "vscode": {
     "languageId": "r"
    }
   },
   "outputs": [
    {
     "data": {
      "text/html": [
       "<table class=\"dataframe\">\n",
       "<caption>A data.table: 6 × 2</caption>\n",
       "<thead>\n",
       "\t<tr><th scope=col>arr_delay</th><th scope=col>dep_delay</th></tr>\n",
       "\t<tr><th scope=col>&lt;int&gt;</th><th scope=col>&lt;int&gt;</th></tr>\n",
       "</thead>\n",
       "<tbody>\n",
       "\t<tr><td>  0</td><td>  4</td></tr>\n",
       "\t<tr><td>-17</td><td> -5</td></tr>\n",
       "\t<tr><td>185</td><td>191</td></tr>\n",
       "\t<tr><td> -2</td><td> -1</td></tr>\n",
       "\t<tr><td>-10</td><td> -3</td></tr>\n",
       "\t<tr><td>-17</td><td>  4</td></tr>\n",
       "</tbody>\n",
       "</table>\n"
      ],
      "text/latex": [
       "A data.table: 6 × 2\n",
       "\\begin{tabular}{ll}\n",
       " arr\\_delay & dep\\_delay\\\\\n",
       " <int> & <int>\\\\\n",
       "\\hline\n",
       "\t   0 &   4\\\\\n",
       "\t -17 &  -5\\\\\n",
       "\t 185 & 191\\\\\n",
       "\t  -2 &  -1\\\\\n",
       "\t -10 &  -3\\\\\n",
       "\t -17 &   4\\\\\n",
       "\\end{tabular}\n"
      ],
      "text/markdown": [
       "\n",
       "A data.table: 6 × 2\n",
       "\n",
       "| arr_delay &lt;int&gt; | dep_delay &lt;int&gt; |\n",
       "|---|---|\n",
       "|   0 |   4 |\n",
       "| -17 |  -5 |\n",
       "| 185 | 191 |\n",
       "|  -2 |  -1 |\n",
       "| -10 |  -3 |\n",
       "| -17 |   4 |\n",
       "\n"
      ],
      "text/plain": [
       "  arr_delay dep_delay\n",
       "1   0         4      \n",
       "2 -17        -5      \n",
       "3 185       191      \n",
       "4  -2        -1      \n",
       "5 -10        -3      \n",
       "6 -17         4      "
      ]
     },
     "metadata": {},
     "output_type": "display_data"
    }
   ],
   "source": [
    "# 设置with = FALSE会禁用像变量一样引用列的能力，从而恢复“ data.frame模式”\n",
    "head(flights[ , select_cols, with = FALSE]) # 告诉它这是要提取列，而不是当作列操作的表达式"
   ]
  },
  {
   "cell_type": "code",
   "execution_count": 21,
   "metadata": {
    "vscode": {
     "languageId": "r"
    }
   },
   "outputs": [
    {
     "data": {
      "text/html": [
       "<table class=\"dataframe\">\n",
       "<caption>A data.table: 6 × 9</caption>\n",
       "<thead>\n",
       "\t<tr><th scope=col>year</th><th scope=col>month</th><th scope=col>day</th><th scope=col>carrier</th><th scope=col>origin</th><th scope=col>dest</th><th scope=col>air_time</th><th scope=col>distance</th><th scope=col>hour</th></tr>\n",
       "\t<tr><th scope=col>&lt;int&gt;</th><th scope=col>&lt;int&gt;</th><th scope=col>&lt;int&gt;</th><th scope=col>&lt;chr&gt;</th><th scope=col>&lt;chr&gt;</th><th scope=col>&lt;chr&gt;</th><th scope=col>&lt;int&gt;</th><th scope=col>&lt;int&gt;</th><th scope=col>&lt;int&gt;</th></tr>\n",
       "</thead>\n",
       "<tbody>\n",
       "\t<tr><td>2014</td><td>1</td><td>1</td><td>AA</td><td>EWR</td><td>LAX</td><td>339</td><td>2454</td><td>18</td></tr>\n",
       "\t<tr><td>2014</td><td>1</td><td>1</td><td>AA</td><td>EWR</td><td>MIA</td><td>161</td><td>1085</td><td>16</td></tr>\n",
       "\t<tr><td>2014</td><td>1</td><td>1</td><td>AA</td><td>EWR</td><td>DFW</td><td>214</td><td>1372</td><td>16</td></tr>\n",
       "\t<tr><td>2014</td><td>1</td><td>1</td><td>AA</td><td>EWR</td><td>DFW</td><td>214</td><td>1372</td><td>14</td></tr>\n",
       "\t<tr><td>2014</td><td>1</td><td>1</td><td>AA</td><td>EWR</td><td>MIA</td><td>154</td><td>1085</td><td> 6</td></tr>\n",
       "\t<tr><td>2014</td><td>1</td><td>1</td><td>AA</td><td>EWR</td><td>DFW</td><td>215</td><td>1372</td><td> 9</td></tr>\n",
       "</tbody>\n",
       "</table>\n"
      ],
      "text/latex": [
       "A data.table: 6 × 9\n",
       "\\begin{tabular}{lllllllll}\n",
       " year & month & day & carrier & origin & dest & air\\_time & distance & hour\\\\\n",
       " <int> & <int> & <int> & <chr> & <chr> & <chr> & <int> & <int> & <int>\\\\\n",
       "\\hline\n",
       "\t 2014 & 1 & 1 & AA & EWR & LAX & 339 & 2454 & 18\\\\\n",
       "\t 2014 & 1 & 1 & AA & EWR & MIA & 161 & 1085 & 16\\\\\n",
       "\t 2014 & 1 & 1 & AA & EWR & DFW & 214 & 1372 & 16\\\\\n",
       "\t 2014 & 1 & 1 & AA & EWR & DFW & 214 & 1372 & 14\\\\\n",
       "\t 2014 & 1 & 1 & AA & EWR & MIA & 154 & 1085 &  6\\\\\n",
       "\t 2014 & 1 & 1 & AA & EWR & DFW & 215 & 1372 &  9\\\\\n",
       "\\end{tabular}\n"
      ],
      "text/markdown": [
       "\n",
       "A data.table: 6 × 9\n",
       "\n",
       "| year &lt;int&gt; | month &lt;int&gt; | day &lt;int&gt; | carrier &lt;chr&gt; | origin &lt;chr&gt; | dest &lt;chr&gt; | air_time &lt;int&gt; | distance &lt;int&gt; | hour &lt;int&gt; |\n",
       "|---|---|---|---|---|---|---|---|---|\n",
       "| 2014 | 1 | 1 | AA | EWR | LAX | 339 | 2454 | 18 |\n",
       "| 2014 | 1 | 1 | AA | EWR | MIA | 161 | 1085 | 16 |\n",
       "| 2014 | 1 | 1 | AA | EWR | DFW | 214 | 1372 | 16 |\n",
       "| 2014 | 1 | 1 | AA | EWR | DFW | 214 | 1372 | 14 |\n",
       "| 2014 | 1 | 1 | AA | EWR | MIA | 154 | 1085 |  6 |\n",
       "| 2014 | 1 | 1 | AA | EWR | DFW | 215 | 1372 |  9 |\n",
       "\n"
      ],
      "text/plain": [
       "  year month day carrier origin dest air_time distance hour\n",
       "1 2014 1     1   AA      EWR    LAX  339      2454     18  \n",
       "2 2014 1     1   AA      EWR    MIA  161      1085     16  \n",
       "3 2014 1     1   AA      EWR    DFW  214      1372     16  \n",
       "4 2014 1     1   AA      EWR    DFW  214      1372     14  \n",
       "5 2014 1     1   AA      EWR    MIA  154      1085      6  \n",
       "6 2014 1     1   AA      EWR    DFW  215      1372      9  "
      ]
     },
     "metadata": {},
     "output_type": "display_data"
    }
   ],
   "source": [
    "# 还可以使用-或!取消选择列\n",
    "\n",
    "# returns all columns except arr_delay and dep_delay\n",
    "ans <- flights[, !c(\"arr_delay\", \"dep_delay\")]\n",
    "\n",
    "# or\n",
    "# ans <- flights[, -c(\"arr_delay\", \"dep_delay\")]\n",
    "head(ans)"
   ]
  },
  {
   "cell_type": "code",
   "execution_count": 22,
   "metadata": {
    "vscode": {
     "languageId": "r"
    }
   },
   "outputs": [
    {
     "name": "stdout",
     "output_type": "stream",
     "text": [
      "    year month   day\n",
      "   <int> <int> <int>\n",
      "1:  2014     1     1\n",
      "2:  2014     1     1\n",
      "3:  2014     1     1\n",
      "4:  2014     1     1\n",
      "5:  2014     1     1\n",
      "6:  2014     1     1\n",
      "     day month  year\n",
      "   <int> <int> <int>\n",
      "1:     1     1  2014\n",
      "2:     1     1  2014\n",
      "3:     1     1  2014\n",
      "4:     1     1  2014\n",
      "5:     1     1  2014\n",
      "6:     1     1  2014\n",
      "Key: <origin>\n",
      "   dep_delay arr_delay carrier origin   dest air_time distance  hour\n",
      "       <int>     <int>  <char> <char> <char>    <int>    <int> <int>\n",
      "1:         4         0      AA    EWR    LAX      339     2454    18\n",
      "2:        -5       -17      AA    EWR    MIA      161     1085    16\n",
      "3:       191       185      AA    EWR    DFW      214     1372    16\n",
      "4:        -1        -2      AA    EWR    DFW      214     1372    14\n",
      "5:        -3       -10      AA    EWR    MIA      154     1085     6\n",
      "6:         4       -17      AA    EWR    DFW      215     1372     9\n",
      "Key: <origin>\n",
      "   dep_delay arr_delay carrier origin   dest air_time distance  hour\n",
      "       <int>     <int>  <char> <char> <char>    <int>    <int> <int>\n",
      "1:         4         0      AA    EWR    LAX      339     2454    18\n",
      "2:        -5       -17      AA    EWR    MIA      161     1085    16\n",
      "3:       191       185      AA    EWR    DFW      214     1372    16\n",
      "4:        -1        -2      AA    EWR    DFW      214     1372    14\n",
      "5:        -3       -10      AA    EWR    MIA      154     1085     6\n",
      "6:         4       -17      AA    EWR    DFW      215     1372     9\n"
     ]
    }
   ],
   "source": [
    "# 还可以通过指定开始和结束列名称来选择\n",
    "\n",
    "# returns year,month and day\n",
    "ans1 <- flights[, year:day]\n",
    "# returns day, month and year\n",
    "ans2 <- flights[, day:year]\n",
    "# returns all columns except year, month and day\n",
    "ans3 <- flights[, -(year:day)]\n",
    "ans4 <- flights[, !(year:day)]\n",
    "\n",
    "print(head(ans1))\n",
    "print(head(ans2))\n",
    "print(head(ans3))\n",
    "print(head(ans4))"
   ]
  },
  {
   "cell_type": "markdown",
   "metadata": {},
   "source": [
    "### Aggregations"
   ]
  },
  {
   "cell_type": "markdown",
   "metadata": {},
   "source": [
    "#### 使用by\n",
    "注意: 分组列的输入顺序保留在结果中"
   ]
  },
  {
   "cell_type": "code",
   "execution_count": 23,
   "metadata": {
    "vscode": {
     "languageId": "r"
    }
   },
   "outputs": [
    {
     "data": {
      "text/html": [
       "<table class=\"dataframe\">\n",
       "<caption>A data.table: 3 × 2</caption>\n",
       "<thead>\n",
       "\t<tr><th scope=col>origin</th><th scope=col>N</th></tr>\n",
       "\t<tr><th scope=col>&lt;chr&gt;</th><th scope=col>&lt;int&gt;</th></tr>\n",
       "</thead>\n",
       "<tbody>\n",
       "\t<tr><td>EWR</td><td>87400</td></tr>\n",
       "\t<tr><td>JFK</td><td>81483</td></tr>\n",
       "\t<tr><td>LGA</td><td>84433</td></tr>\n",
       "</tbody>\n",
       "</table>\n"
      ],
      "text/latex": [
       "A data.table: 3 × 2\n",
       "\\begin{tabular}{ll}\n",
       " origin & N\\\\\n",
       " <chr> & <int>\\\\\n",
       "\\hline\n",
       "\t EWR & 87400\\\\\n",
       "\t JFK & 81483\\\\\n",
       "\t LGA & 84433\\\\\n",
       "\\end{tabular}\n"
      ],
      "text/markdown": [
       "\n",
       "A data.table: 3 × 2\n",
       "\n",
       "| origin &lt;chr&gt; | N &lt;int&gt; |\n",
       "|---|---|\n",
       "| EWR | 87400 |\n",
       "| JFK | 81483 |\n",
       "| LGA | 84433 |\n",
       "\n"
      ],
      "text/plain": [
       "  origin N    \n",
       "1 EWR    87400\n",
       "2 JFK    81483\n",
       "3 LGA    84433"
      ]
     },
     "metadata": {},
     "output_type": "display_data"
    }
   ],
   "source": [
    "# 如何获取每个始发机场对应的出行次数        # 当j和by中只有一列或表达式可供引用时，我们可以删除.()表示法\n",
    "ans <- flights[, .(.N), by = .(origin)]  # 或者: , by = \"origin\" 或 by = origin\n",
    "ans     # 由于我们没有为j中返回的列提供名称，因此通过识别特殊符号.N自动将其命名为N"
   ]
  },
  {
   "cell_type": "code",
   "execution_count": 24,
   "metadata": {
    "vscode": {
     "languageId": "r"
    }
   },
   "outputs": [
    {
     "data": {
      "text/html": [
       "<table class=\"dataframe\">\n",
       "<caption>A data.table: 6 × 3</caption>\n",
       "<thead>\n",
       "\t<tr><th scope=col>origin</th><th scope=col>dest</th><th scope=col>N</th></tr>\n",
       "\t<tr><th scope=col>&lt;chr&gt;</th><th scope=col>&lt;chr&gt;</th><th scope=col>&lt;int&gt;</th></tr>\n",
       "</thead>\n",
       "<tbody>\n",
       "\t<tr><td>EWR</td><td>LAX</td><td>  62</td></tr>\n",
       "\t<tr><td>EWR</td><td>MIA</td><td> 848</td></tr>\n",
       "\t<tr><td>EWR</td><td>DFW</td><td>1618</td></tr>\n",
       "\t<tr><td>EWR</td><td>PHX</td><td> 121</td></tr>\n",
       "\t<tr><td>JFK</td><td>LAX</td><td>3387</td></tr>\n",
       "\t<tr><td>JFK</td><td>MIA</td><td>1876</td></tr>\n",
       "</tbody>\n",
       "</table>\n"
      ],
      "text/latex": [
       "A data.table: 6 × 3\n",
       "\\begin{tabular}{lll}\n",
       " origin & dest & N\\\\\n",
       " <chr> & <chr> & <int>\\\\\n",
       "\\hline\n",
       "\t EWR & LAX &   62\\\\\n",
       "\t EWR & MIA &  848\\\\\n",
       "\t EWR & DFW & 1618\\\\\n",
       "\t EWR & PHX &  121\\\\\n",
       "\t JFK & LAX & 3387\\\\\n",
       "\t JFK & MIA & 1876\\\\\n",
       "\\end{tabular}\n"
      ],
      "text/markdown": [
       "\n",
       "A data.table: 6 × 3\n",
       "\n",
       "| origin &lt;chr&gt; | dest &lt;chr&gt; | N &lt;int&gt; |\n",
       "|---|---|---|\n",
       "| EWR | LAX |   62 |\n",
       "| EWR | MIA |  848 |\n",
       "| EWR | DFW | 1618 |\n",
       "| EWR | PHX |  121 |\n",
       "| JFK | LAX | 3387 |\n",
       "| JFK | MIA | 1876 |\n",
       "\n"
      ],
      "text/plain": [
       "  origin dest N   \n",
       "1 EWR    LAX    62\n",
       "2 EWR    MIA   848\n",
       "3 EWR    DFW  1618\n",
       "4 EWR    PHX   121\n",
       "5 JFK    LAX  3387\n",
       "6 JFK    MIA  1876"
      ]
     },
     "metadata": {},
     "output_type": "display_data"
    }
   ],
   "source": [
    "# group by multiple columns\n",
    "\n",
    "ans <- flights[carrier == \"AA\", .N, by = .(origin, dest)]\n",
    "head(ans)\n"
   ]
  },
  {
   "cell_type": "code",
   "execution_count": 25,
   "metadata": {
    "vscode": {
     "languageId": "r"
    }
   },
   "outputs": [
    {
     "data": {
      "text/html": [
       "<table class=\"dataframe\">\n",
       "<caption>A data.table: 6 × 5</caption>\n",
       "<thead>\n",
       "\t<tr><th scope=col>origin</th><th scope=col>dest</th><th scope=col>month</th><th scope=col>V1</th><th scope=col>V2</th></tr>\n",
       "\t<tr><th scope=col>&lt;chr&gt;</th><th scope=col>&lt;chr&gt;</th><th scope=col>&lt;int&gt;</th><th scope=col>&lt;dbl&gt;</th><th scope=col>&lt;dbl&gt;</th></tr>\n",
       "</thead>\n",
       "<tbody>\n",
       "\t<tr><td>EWR</td><td>LAX</td><td>1</td><td> 1.366667</td><td> 7.500000</td></tr>\n",
       "\t<tr><td>EWR</td><td>MIA</td><td>1</td><td>11.011236</td><td>12.123596</td></tr>\n",
       "\t<tr><td>EWR</td><td>DFW</td><td>1</td><td> 6.427673</td><td>10.012579</td></tr>\n",
       "\t<tr><td>EWR</td><td>MIA</td><td>2</td><td> 1.564103</td><td> 4.756410</td></tr>\n",
       "\t<tr><td>EWR</td><td>DFW</td><td>2</td><td>10.536765</td><td>11.345588</td></tr>\n",
       "\t<tr><td>EWR</td><td>LAX</td><td>2</td><td>10.333333</td><td> 4.111111</td></tr>\n",
       "</tbody>\n",
       "</table>\n"
      ],
      "text/latex": [
       "A data.table: 6 × 5\n",
       "\\begin{tabular}{lllll}\n",
       " origin & dest & month & V1 & V2\\\\\n",
       " <chr> & <chr> & <int> & <dbl> & <dbl>\\\\\n",
       "\\hline\n",
       "\t EWR & LAX & 1 &  1.366667 &  7.500000\\\\\n",
       "\t EWR & MIA & 1 & 11.011236 & 12.123596\\\\\n",
       "\t EWR & DFW & 1 &  6.427673 & 10.012579\\\\\n",
       "\t EWR & MIA & 2 &  1.564103 &  4.756410\\\\\n",
       "\t EWR & DFW & 2 & 10.536765 & 11.345588\\\\\n",
       "\t EWR & LAX & 2 & 10.333333 &  4.111111\\\\\n",
       "\\end{tabular}\n"
      ],
      "text/markdown": [
       "\n",
       "A data.table: 6 × 5\n",
       "\n",
       "| origin &lt;chr&gt; | dest &lt;chr&gt; | month &lt;int&gt; | V1 &lt;dbl&gt; | V2 &lt;dbl&gt; |\n",
       "|---|---|---|---|---|\n",
       "| EWR | LAX | 1 |  1.366667 |  7.500000 |\n",
       "| EWR | MIA | 1 | 11.011236 | 12.123596 |\n",
       "| EWR | DFW | 1 |  6.427673 | 10.012579 |\n",
       "| EWR | MIA | 2 |  1.564103 |  4.756410 |\n",
       "| EWR | DFW | 2 | 10.536765 | 11.345588 |\n",
       "| EWR | LAX | 2 | 10.333333 |  4.111111 |\n",
       "\n"
      ],
      "text/plain": [
       "  origin dest month V1        V2       \n",
       "1 EWR    LAX  1      1.366667  7.500000\n",
       "2 EWR    MIA  1     11.011236 12.123596\n",
       "3 EWR    DFW  1      6.427673 10.012579\n",
       "4 EWR    MIA  2      1.564103  4.756410\n",
       "5 EWR    DFW  2     10.536765 11.345588\n",
       "6 EWR    LAX  2     10.333333  4.111111"
      ]
     },
     "metadata": {},
     "output_type": "display_data"
    }
   ],
   "source": [
    "# 与运算结合\n",
    "ans <- flights[carrier == \"AA\",                     # 筛选\n",
    "        .(mean(arr_delay), mean(dep_delay)),        # 计算\n",
    "        by = .(origin, dest, month)]                # 分组\n",
    "head(ans)  # 由于我们没有为j中的表达式提供列名称，因此它们会自动生成为V1和V2 "
   ]
  },
  {
   "cell_type": "markdown",
   "metadata": {},
   "source": [
    "#### Sorted by: keyby\n",
    "\n",
    "希望根据分组中的变量自动排序,\n",
    "直接对分组的变量进行排序\n",
    "- 如果有多个列, 则按顺序排列"
   ]
  },
  {
   "cell_type": "code",
   "execution_count": 26,
   "metadata": {
    "vscode": {
     "languageId": "r"
    }
   },
   "outputs": [
    {
     "data": {
      "text/html": [
       "<table class=\"dataframe\">\n",
       "<caption>A data.table: 6 × 5</caption>\n",
       "<thead>\n",
       "\t<tr><th scope=col>origin</th><th scope=col>dest</th><th scope=col>month</th><th scope=col>V1</th><th scope=col>V2</th></tr>\n",
       "\t<tr><th scope=col>&lt;chr&gt;</th><th scope=col>&lt;chr&gt;</th><th scope=col>&lt;int&gt;</th><th scope=col>&lt;dbl&gt;</th><th scope=col>&lt;dbl&gt;</th></tr>\n",
       "</thead>\n",
       "<tbody>\n",
       "\t<tr><td>EWR</td><td>DFW</td><td>1</td><td> 6.427673</td><td>10.012579</td></tr>\n",
       "\t<tr><td>EWR</td><td>DFW</td><td>2</td><td>10.536765</td><td>11.345588</td></tr>\n",
       "\t<tr><td>EWR</td><td>DFW</td><td>3</td><td>12.865031</td><td> 8.079755</td></tr>\n",
       "\t<tr><td>EWR</td><td>DFW</td><td>4</td><td>17.792683</td><td>12.920732</td></tr>\n",
       "\t<tr><td>EWR</td><td>DFW</td><td>5</td><td>18.487805</td><td>18.682927</td></tr>\n",
       "\t<tr><td>EWR</td><td>DFW</td><td>6</td><td>37.005952</td><td>38.744048</td></tr>\n",
       "</tbody>\n",
       "</table>\n"
      ],
      "text/latex": [
       "A data.table: 6 × 5\n",
       "\\begin{tabular}{lllll}\n",
       " origin & dest & month & V1 & V2\\\\\n",
       " <chr> & <chr> & <int> & <dbl> & <dbl>\\\\\n",
       "\\hline\n",
       "\t EWR & DFW & 1 &  6.427673 & 10.012579\\\\\n",
       "\t EWR & DFW & 2 & 10.536765 & 11.345588\\\\\n",
       "\t EWR & DFW & 3 & 12.865031 &  8.079755\\\\\n",
       "\t EWR & DFW & 4 & 17.792683 & 12.920732\\\\\n",
       "\t EWR & DFW & 5 & 18.487805 & 18.682927\\\\\n",
       "\t EWR & DFW & 6 & 37.005952 & 38.744048\\\\\n",
       "\\end{tabular}\n"
      ],
      "text/markdown": [
       "\n",
       "A data.table: 6 × 5\n",
       "\n",
       "| origin &lt;chr&gt; | dest &lt;chr&gt; | month &lt;int&gt; | V1 &lt;dbl&gt; | V2 &lt;dbl&gt; |\n",
       "|---|---|---|---|---|\n",
       "| EWR | DFW | 1 |  6.427673 | 10.012579 |\n",
       "| EWR | DFW | 2 | 10.536765 | 11.345588 |\n",
       "| EWR | DFW | 3 | 12.865031 |  8.079755 |\n",
       "| EWR | DFW | 4 | 17.792683 | 12.920732 |\n",
       "| EWR | DFW | 5 | 18.487805 | 18.682927 |\n",
       "| EWR | DFW | 6 | 37.005952 | 38.744048 |\n",
       "\n"
      ],
      "text/plain": [
       "  origin dest month V1        V2       \n",
       "1 EWR    DFW  1      6.427673 10.012579\n",
       "2 EWR    DFW  2     10.536765 11.345588\n",
       "3 EWR    DFW  3     12.865031  8.079755\n",
       "4 EWR    DFW  4     17.792683 12.920732\n",
       "5 EWR    DFW  5     18.487805 18.682927\n",
       "6 EWR    DFW  6     37.005952 38.744048"
      ]
     },
     "metadata": {},
     "output_type": "display_data"
    }
   ],
   "source": [
    "ans <- flights[carrier == \"AA\",\n",
    "        .(mean(arr_delay), mean(dep_delay)),\n",
    "        keyby = .(origin, dest, month)]     # 使用keyby参数，将结果按照by中的列排序\n",
    "head(ans)           # 由于by的内部实现首先要求在恢复原始表的顺序之前进行排序，所以keyby通常比by更快，因为它不需要第二步"
   ]
  },
  {
   "cell_type": "markdown",
   "metadata": {},
   "source": [
    "#### Chaining（链接）\n",
    "\n",
    "通过链接表达式来完全避免对临时变量的中间赋值\n",
    "\n",
    "可以一个接一个地添加表达式，形成一个操作链，即`DT[ ... ][ ... ][ ... ] `"
   ]
  },
  {
   "cell_type": "code",
   "execution_count": 27,
   "metadata": {
    "vscode": {
     "languageId": "r"
    }
   },
   "outputs": [
    {
     "data": {
      "text/html": [
       "<table class=\"dataframe\">\n",
       "<caption>A data.table: 24 × 3</caption>\n",
       "<thead>\n",
       "\t<tr><th scope=col>origin</th><th scope=col>dest</th><th scope=col>N</th></tr>\n",
       "\t<tr><th scope=col>&lt;chr&gt;</th><th scope=col>&lt;chr&gt;</th><th scope=col>&lt;int&gt;</th></tr>\n",
       "</thead>\n",
       "<tbody>\n",
       "\t<tr><td>EWR</td><td>PHX</td><td> 121</td></tr>\n",
       "\t<tr><td>EWR</td><td>MIA</td><td> 848</td></tr>\n",
       "\t<tr><td>EWR</td><td>LAX</td><td>  62</td></tr>\n",
       "\t<tr><td>EWR</td><td>DFW</td><td>1618</td></tr>\n",
       "\t<tr><td>JFK</td><td>STT</td><td> 229</td></tr>\n",
       "\t<tr><td>JFK</td><td>SJU</td><td> 690</td></tr>\n",
       "\t<tr><td>JFK</td><td>SFO</td><td>1312</td></tr>\n",
       "\t<tr><td>JFK</td><td>SEA</td><td> 298</td></tr>\n",
       "\t<tr><td>JFK</td><td>SAN</td><td> 299</td></tr>\n",
       "\t<tr><td>JFK</td><td>ORD</td><td> 432</td></tr>\n",
       "\t<tr><td>JFK</td><td>MIA</td><td>1876</td></tr>\n",
       "\t<tr><td>JFK</td><td>MCO</td><td> 597</td></tr>\n",
       "\t<tr><td>JFK</td><td>LAX</td><td>3387</td></tr>\n",
       "\t<tr><td>JFK</td><td>LAS</td><td> 595</td></tr>\n",
       "\t<tr><td>JFK</td><td>IAH</td><td>   7</td></tr>\n",
       "\t<tr><td>JFK</td><td>EGE</td><td>  85</td></tr>\n",
       "\t<tr><td>JFK</td><td>DFW</td><td> 474</td></tr>\n",
       "\t<tr><td>JFK</td><td>DCA</td><td> 172</td></tr>\n",
       "\t<tr><td>JFK</td><td>BOS</td><td>1173</td></tr>\n",
       "\t<tr><td>JFK</td><td>AUS</td><td> 297</td></tr>\n",
       "\t<tr><td>LGA</td><td>PBI</td><td> 245</td></tr>\n",
       "\t<tr><td>LGA</td><td>ORD</td><td>4366</td></tr>\n",
       "\t<tr><td>LGA</td><td>MIA</td><td>3334</td></tr>\n",
       "\t<tr><td>LGA</td><td>DFW</td><td>3785</td></tr>\n",
       "</tbody>\n",
       "</table>\n"
      ],
      "text/latex": [
       "A data.table: 24 × 3\n",
       "\\begin{tabular}{lll}\n",
       " origin & dest & N\\\\\n",
       " <chr> & <chr> & <int>\\\\\n",
       "\\hline\n",
       "\t EWR & PHX &  121\\\\\n",
       "\t EWR & MIA &  848\\\\\n",
       "\t EWR & LAX &   62\\\\\n",
       "\t EWR & DFW & 1618\\\\\n",
       "\t JFK & STT &  229\\\\\n",
       "\t JFK & SJU &  690\\\\\n",
       "\t JFK & SFO & 1312\\\\\n",
       "\t JFK & SEA &  298\\\\\n",
       "\t JFK & SAN &  299\\\\\n",
       "\t JFK & ORD &  432\\\\\n",
       "\t JFK & MIA & 1876\\\\\n",
       "\t JFK & MCO &  597\\\\\n",
       "\t JFK & LAX & 3387\\\\\n",
       "\t JFK & LAS &  595\\\\\n",
       "\t JFK & IAH &    7\\\\\n",
       "\t JFK & EGE &   85\\\\\n",
       "\t JFK & DFW &  474\\\\\n",
       "\t JFK & DCA &  172\\\\\n",
       "\t JFK & BOS & 1173\\\\\n",
       "\t JFK & AUS &  297\\\\\n",
       "\t LGA & PBI &  245\\\\\n",
       "\t LGA & ORD & 4366\\\\\n",
       "\t LGA & MIA & 3334\\\\\n",
       "\t LGA & DFW & 3785\\\\\n",
       "\\end{tabular}\n"
      ],
      "text/markdown": [
       "\n",
       "A data.table: 24 × 3\n",
       "\n",
       "| origin &lt;chr&gt; | dest &lt;chr&gt; | N &lt;int&gt; |\n",
       "|---|---|---|\n",
       "| EWR | PHX |  121 |\n",
       "| EWR | MIA |  848 |\n",
       "| EWR | LAX |   62 |\n",
       "| EWR | DFW | 1618 |\n",
       "| JFK | STT |  229 |\n",
       "| JFK | SJU |  690 |\n",
       "| JFK | SFO | 1312 |\n",
       "| JFK | SEA |  298 |\n",
       "| JFK | SAN |  299 |\n",
       "| JFK | ORD |  432 |\n",
       "| JFK | MIA | 1876 |\n",
       "| JFK | MCO |  597 |\n",
       "| JFK | LAX | 3387 |\n",
       "| JFK | LAS |  595 |\n",
       "| JFK | IAH |    7 |\n",
       "| JFK | EGE |   85 |\n",
       "| JFK | DFW |  474 |\n",
       "| JFK | DCA |  172 |\n",
       "| JFK | BOS | 1173 |\n",
       "| JFK | AUS |  297 |\n",
       "| LGA | PBI |  245 |\n",
       "| LGA | ORD | 4366 |\n",
       "| LGA | MIA | 3334 |\n",
       "| LGA | DFW | 3785 |\n",
       "\n"
      ],
      "text/plain": [
       "   origin dest N   \n",
       "1  EWR    PHX   121\n",
       "2  EWR    MIA   848\n",
       "3  EWR    LAX    62\n",
       "4  EWR    DFW  1618\n",
       "5  JFK    STT   229\n",
       "6  JFK    SJU   690\n",
       "7  JFK    SFO  1312\n",
       "8  JFK    SEA   298\n",
       "9  JFK    SAN   299\n",
       "10 JFK    ORD   432\n",
       "11 JFK    MIA  1876\n",
       "12 JFK    MCO   597\n",
       "13 JFK    LAX  3387\n",
       "14 JFK    LAS   595\n",
       "15 JFK    IAH     7\n",
       "16 JFK    EGE    85\n",
       "17 JFK    DFW   474\n",
       "18 JFK    DCA   172\n",
       "19 JFK    BOS  1173\n",
       "20 JFK    AUS   297\n",
       "21 LGA    PBI   245\n",
       "22 LGA    ORD  4366\n",
       "23 LGA    MIA  3334\n",
       "24 LGA    DFW  3785"
      ]
     },
     "metadata": {},
     "output_type": "display_data"
    }
   ],
   "source": [
    "# eg: 使用origin列按升序排列ans和dest按降序排列\n",
    "\n",
    "ans <- flights[carrier == \"AA\", .N, by = .(origin, dest)][order(origin, -dest)]\n",
    "ans"
   ]
  },
  {
   "cell_type": "markdown",
   "metadata": {},
   "source": [
    "#### 特殊符号.SD \n",
    "\n",
    "Subset of Data，即 数据子集\n",
    "\n",
    ".SD 通常指代当前分组内的数据集，不包括分组列本身"
   ]
  },
  {
   "cell_type": "code",
   "execution_count": 28,
   "metadata": {
    "vscode": {
     "languageId": "r"
    }
   },
   "outputs": [
    {
     "name": "stdout",
     "output_type": "stream",
     "text": [
      "        year month   day dep_delay arr_delay carrier   dest air_time distance\n",
      "       <int> <int> <int>     <int>     <int>  <char> <char>    <int>    <int>\n",
      "    1:  2014     1     1         4         0      AA    LAX      339     2454\n",
      "    2:  2014     1     1        -5       -17      AA    MIA      161     1085\n",
      "    3:  2014     1     1       191       185      AA    DFW      214     1372\n",
      "    4:  2014     1     1        -1        -2      AA    DFW      214     1372\n",
      "    5:  2014     1     1        -3       -10      AA    MIA      154     1085\n",
      "   ---                                                                       \n",
      "87396:  2014    10    31        41        19      UA    SFO      344     2565\n",
      "87397:  2014    10    31       427       393      UA    ORD      100      719\n",
      "87398:  2014    10    31        10       -27      UA    LAX      326     2454\n",
      "87399:  2014    10    31        18       -14      UA    LAS      291     2227\n",
      "87400:  2014    10    31        -5       -14      UA    IAH      189     1400\n",
      "        hour\n",
      "       <int>\n",
      "    1:    18\n",
      "    2:    16\n",
      "    3:    16\n",
      "    4:    14\n",
      "    5:     6\n",
      "   ---      \n",
      "87396:    12\n",
      "87397:    21\n",
      "87398:    10\n",
      "87399:    16\n",
      "87400:     8\n",
      "        year month   day dep_delay arr_delay carrier   dest air_time distance\n",
      "       <int> <int> <int>     <int>     <int>  <char> <char>    <int>    <int>\n",
      "    1:  2014     1     1        14        13      AA    LAX      359     2475\n",
      "    2:  2014     1     1        -3        13      AA    LAX      363     2475\n",
      "    3:  2014     1     1         2         9      AA    LAX      351     2475\n",
      "    4:  2014     1     1         2         1      AA    LAX      350     2475\n",
      "    5:  2014     1     1        -2       -18      AA    LAX      338     2475\n",
      "   ---                                                                       \n",
      "81479:  2014    10    31        -4       -21      UA    SFO      337     2586\n",
      "81480:  2014    10    31        -2       -37      UA    SFO      344     2586\n",
      "81481:  2014    10    31         0       -33      UA    LAX      320     2475\n",
      "81482:  2014    10    31        -6       -38      UA    SFO      343     2586\n",
      "81483:  2014    10    31        -6       -38      UA    LAX      323     2475\n",
      "        hour\n",
      "       <int>\n",
      "    1:     9\n",
      "    2:    11\n",
      "    3:    19\n",
      "    4:    13\n",
      "    5:    21\n",
      "   ---      \n",
      "81479:    17\n",
      "81480:    18\n",
      "81481:    17\n",
      "81482:     9\n",
      "81483:    11\n",
      "        year month   day dep_delay arr_delay carrier   dest air_time distance\n",
      "       <int> <int> <int>     <int>     <int>  <char> <char>    <int>    <int>\n",
      "    1:  2014     1     1        -8       -26      AA    PBI      157     1035\n",
      "    2:  2014     1     1        -7        -6      AA    ORD      142      733\n",
      "    3:  2014     1     1        -7         0      AA    ORD      143      733\n",
      "    4:  2014     1     1        -8       -17      AA    ORD      139      733\n",
      "    5:  2014     1     1        -2        15      AA    ORD      145      733\n",
      "   ---                                                                       \n",
      "84429:  2014    10    31        24        -5      UA    IAH      198     1416\n",
      "84430:  2014    10    31         1       -30      UA    IAH      201     1416\n",
      "84431:  2014    10    31        -8        16      MQ    RDU       83      431\n",
      "84432:  2014    10    31        -4        15      MQ    DTW       75      502\n",
      "84433:  2014    10    31        -5         1      MQ    SDF      110      659\n",
      "        hour\n",
      "       <int>\n",
      "    1:     7\n",
      "    2:     5\n",
      "    3:     6\n",
      "    4:     6\n",
      "    5:     7\n",
      "   ---      \n",
      "84429:     6\n",
      "84430:    14\n",
      "84431:    11\n",
      "84432:    11\n",
      "84433:     8\n"
     ]
    }
   ],
   "source": [
    "ans <- flights[, print(.SD), by = origin]  # .SD: Subset of Data\n",
    "# 不包括分组列本身(origin列)"
   ]
  },
  {
   "cell_type": "code",
   "execution_count": 29,
   "metadata": {
    "vscode": {
     "languageId": "r"
    }
   },
   "outputs": [
    {
     "data": {
      "text/html": [
       "<table class=\"dataframe\">\n",
       "<caption>A data.table: 200 × 5</caption>\n",
       "<thead>\n",
       "\t<tr><th scope=col>origin</th><th scope=col>dest</th><th scope=col>month</th><th scope=col>arr_delay</th><th scope=col>dep_delay</th></tr>\n",
       "\t<tr><th scope=col>&lt;chr&gt;</th><th scope=col>&lt;chr&gt;</th><th scope=col>&lt;int&gt;</th><th scope=col>&lt;dbl&gt;</th><th scope=col>&lt;dbl&gt;</th></tr>\n",
       "</thead>\n",
       "<tbody>\n",
       "\t<tr><td>EWR</td><td>LAX</td><td> 1</td><td> 1.366667</td><td> 7.5000000</td></tr>\n",
       "\t<tr><td>EWR</td><td>MIA</td><td> 1</td><td>11.011236</td><td>12.1235955</td></tr>\n",
       "\t<tr><td>EWR</td><td>DFW</td><td> 1</td><td> 6.427673</td><td>10.0125786</td></tr>\n",
       "\t<tr><td>EWR</td><td>MIA</td><td> 2</td><td> 1.564103</td><td> 4.7564103</td></tr>\n",
       "\t<tr><td>EWR</td><td>DFW</td><td> 2</td><td>10.536765</td><td>11.3455882</td></tr>\n",
       "\t<tr><td>EWR</td><td>LAX</td><td> 2</td><td>10.333333</td><td> 4.1111111</td></tr>\n",
       "\t<tr><td>EWR</td><td>DFW</td><td> 3</td><td>12.865031</td><td> 8.0797546</td></tr>\n",
       "\t<tr><td>EWR</td><td>LAX</td><td> 3</td><td>-4.400000</td><td>-6.8000000</td></tr>\n",
       "\t<tr><td>EWR</td><td>MIA</td><td> 3</td><td>-4.111111</td><td> 0.4444444</td></tr>\n",
       "\t<tr><td>EWR</td><td>DFW</td><td> 4</td><td>17.792683</td><td>12.9207317</td></tr>\n",
       "\t<tr><td>EWR</td><td>MIA</td><td> 4</td><td> 3.188889</td><td> 6.4333333</td></tr>\n",
       "\t<tr><td>EWR</td><td>DFW</td><td> 5</td><td>18.487805</td><td>18.6829268</td></tr>\n",
       "\t<tr><td>EWR</td><td>MIA</td><td> 5</td><td>-2.537634</td><td> 6.3440860</td></tr>\n",
       "\t<tr><td>EWR</td><td>DFW</td><td> 6</td><td>37.005952</td><td>38.7440476</td></tr>\n",
       "\t<tr><td>EWR</td><td>MIA</td><td> 6</td><td> 7.306818</td><td>16.2045455</td></tr>\n",
       "\t<tr><td>EWR</td><td>DFW</td><td> 7</td><td>20.250000</td><td>21.1547619</td></tr>\n",
       "\t<tr><td>EWR</td><td>MIA</td><td> 7</td><td>25.219780</td><td>26.3516484</td></tr>\n",
       "\t<tr><td>EWR</td><td>PHX</td><td> 7</td><td>-5.103448</td><td> 0.2758621</td></tr>\n",
       "\t<tr><td>EWR</td><td>DFW</td><td> 8</td><td>16.936047</td><td>22.0697674</td></tr>\n",
       "\t<tr><td>EWR</td><td>MIA</td><td> 8</td><td>-6.125000</td><td> 0.8461538</td></tr>\n",
       "\t<tr><td>EWR</td><td>PHX</td><td> 8</td><td> 3.548387</td><td> 6.2258065</td></tr>\n",
       "\t<tr><td>EWR</td><td>DFW</td><td> 9</td><td> 5.865031</td><td>13.0552147</td></tr>\n",
       "\t<tr><td>EWR</td><td>MIA</td><td> 9</td><td>-0.906250</td><td> 0.3593750</td></tr>\n",
       "\t<tr><td>EWR</td><td>PHX</td><td> 9</td><td>-4.233333</td><td>-1.6666667</td></tr>\n",
       "\t<tr><td>EWR</td><td>DFW</td><td>10</td><td>18.813665</td><td>18.8944099</td></tr>\n",
       "\t<tr><td>EWR</td><td>MIA</td><td>10</td><td>-4.475410</td><td>-3.7868852</td></tr>\n",
       "\t<tr><td>EWR</td><td>PHX</td><td>10</td><td>-3.032258</td><td>-4.2903226</td></tr>\n",
       "\t<tr><td>JFK</td><td>LAX</td><td> 1</td><td> 6.590361</td><td>14.2289157</td></tr>\n",
       "\t<tr><td>JFK</td><td>MIA</td><td> 1</td><td>15.720670</td><td>18.7430168</td></tr>\n",
       "\t<tr><td>JFK</td><td>SEA</td><td> 1</td><td>14.357143</td><td>30.7500000</td></tr>\n",
       "\t<tr><td>⋮</td><td>⋮</td><td>⋮</td><td>⋮</td><td>⋮</td></tr>\n",
       "\t<tr><td>LGA</td><td>ORD</td><td> 2</td><td>  5.2852665</td><td> 8.7899687</td></tr>\n",
       "\t<tr><td>LGA</td><td>MIA</td><td> 2</td><td>  9.6250000</td><td>10.7000000</td></tr>\n",
       "\t<tr><td>LGA</td><td>DFW</td><td> 2</td><td>  5.3713355</td><td> 7.4788274</td></tr>\n",
       "\t<tr><td>LGA</td><td>PBI</td><td> 3</td><td> -5.7540984</td><td> 3.0327869</td></tr>\n",
       "\t<tr><td>LGA</td><td>ORD</td><td> 3</td><td>  2.2828283</td><td> 3.6464646</td></tr>\n",
       "\t<tr><td>LGA</td><td>MIA</td><td> 3</td><td> -1.7076923</td><td> 0.7641026</td></tr>\n",
       "\t<tr><td>LGA</td><td>DFW</td><td> 3</td><td> -0.2460733</td><td>-1.2853403</td></tr>\n",
       "\t<tr><td>LGA</td><td>PBI</td><td> 4</td><td>-13.9666667</td><td>-4.7333333</td></tr>\n",
       "\t<tr><td>LGA</td><td>ORD</td><td> 4</td><td>  1.3588110</td><td> 4.4182590</td></tr>\n",
       "\t<tr><td>LGA</td><td>MIA</td><td> 4</td><td> -3.8275862</td><td> 0.6551724</td></tr>\n",
       "\t<tr><td>LGA</td><td>DFW</td><td> 4</td><td> -1.7734375</td><td>-0.8020833</td></tr>\n",
       "\t<tr><td>LGA</td><td>ORD</td><td> 5</td><td> 12.8898488</td><td>12.3844492</td></tr>\n",
       "\t<tr><td>LGA</td><td>MIA</td><td> 5</td><td> -4.3606061</td><td> 7.6424242</td></tr>\n",
       "\t<tr><td>LGA</td><td>DFW</td><td> 5</td><td>  1.1266150</td><td> 7.7416021</td></tr>\n",
       "\t<tr><td>LGA</td><td>PBI</td><td> 5</td><td>-10.3571429</td><td>-6.8571429</td></tr>\n",
       "\t<tr><td>LGA</td><td>ORD</td><td> 6</td><td> 18.9145299</td><td>17.2991453</td></tr>\n",
       "\t<tr><td>LGA</td><td>MIA</td><td> 6</td><td> -2.4576803</td><td> 8.4670846</td></tr>\n",
       "\t<tr><td>LGA</td><td>DFW</td><td> 6</td><td>  5.2592593</td><td> 8.3068783</td></tr>\n",
       "\t<tr><td>LGA</td><td>MIA</td><td> 7</td><td>  4.8658537</td><td> 7.4878049</td></tr>\n",
       "\t<tr><td>LGA</td><td>ORD</td><td> 7</td><td>  7.4535865</td><td> 8.4367089</td></tr>\n",
       "\t<tr><td>LGA</td><td>DFW</td><td> 7</td><td>  4.2918782</td><td> 6.5710660</td></tr>\n",
       "\t<tr><td>LGA</td><td>MIA</td><td> 8</td><td> -4.4423077</td><td> 3.5416667</td></tr>\n",
       "\t<tr><td>LGA</td><td>ORD</td><td> 8</td><td> 15.1728395</td><td>14.3333333</td></tr>\n",
       "\t<tr><td>LGA</td><td>DFW</td><td> 8</td><td> -3.0765306</td><td> 5.4744898</td></tr>\n",
       "\t<tr><td>LGA</td><td>ORD</td><td> 9</td><td>  4.3311547</td><td> 3.7843137</td></tr>\n",
       "\t<tr><td>LGA</td><td>DFW</td><td> 9</td><td> -8.7877238</td><td>-0.2557545</td></tr>\n",
       "\t<tr><td>LGA</td><td>MIA</td><td> 9</td><td> -8.5799257</td><td>-4.0408922</td></tr>\n",
       "\t<tr><td>LGA</td><td>ORD</td><td>10</td><td> 15.4661191</td><td>12.9117043</td></tr>\n",
       "\t<tr><td>LGA</td><td>DFW</td><td>10</td><td>  3.5000000</td><td> 4.5527638</td></tr>\n",
       "\t<tr><td>LGA</td><td>MIA</td><td>10</td><td> -6.2517986</td><td>-1.4208633</td></tr>\n",
       "</tbody>\n",
       "</table>\n"
      ],
      "text/latex": [
       "A data.table: 200 × 5\n",
       "\\begin{tabular}{lllll}\n",
       " origin & dest & month & arr\\_delay & dep\\_delay\\\\\n",
       " <chr> & <chr> & <int> & <dbl> & <dbl>\\\\\n",
       "\\hline\n",
       "\t EWR & LAX &  1 &  1.366667 &  7.5000000\\\\\n",
       "\t EWR & MIA &  1 & 11.011236 & 12.1235955\\\\\n",
       "\t EWR & DFW &  1 &  6.427673 & 10.0125786\\\\\n",
       "\t EWR & MIA &  2 &  1.564103 &  4.7564103\\\\\n",
       "\t EWR & DFW &  2 & 10.536765 & 11.3455882\\\\\n",
       "\t EWR & LAX &  2 & 10.333333 &  4.1111111\\\\\n",
       "\t EWR & DFW &  3 & 12.865031 &  8.0797546\\\\\n",
       "\t EWR & LAX &  3 & -4.400000 & -6.8000000\\\\\n",
       "\t EWR & MIA &  3 & -4.111111 &  0.4444444\\\\\n",
       "\t EWR & DFW &  4 & 17.792683 & 12.9207317\\\\\n",
       "\t EWR & MIA &  4 &  3.188889 &  6.4333333\\\\\n",
       "\t EWR & DFW &  5 & 18.487805 & 18.6829268\\\\\n",
       "\t EWR & MIA &  5 & -2.537634 &  6.3440860\\\\\n",
       "\t EWR & DFW &  6 & 37.005952 & 38.7440476\\\\\n",
       "\t EWR & MIA &  6 &  7.306818 & 16.2045455\\\\\n",
       "\t EWR & DFW &  7 & 20.250000 & 21.1547619\\\\\n",
       "\t EWR & MIA &  7 & 25.219780 & 26.3516484\\\\\n",
       "\t EWR & PHX &  7 & -5.103448 &  0.2758621\\\\\n",
       "\t EWR & DFW &  8 & 16.936047 & 22.0697674\\\\\n",
       "\t EWR & MIA &  8 & -6.125000 &  0.8461538\\\\\n",
       "\t EWR & PHX &  8 &  3.548387 &  6.2258065\\\\\n",
       "\t EWR & DFW &  9 &  5.865031 & 13.0552147\\\\\n",
       "\t EWR & MIA &  9 & -0.906250 &  0.3593750\\\\\n",
       "\t EWR & PHX &  9 & -4.233333 & -1.6666667\\\\\n",
       "\t EWR & DFW & 10 & 18.813665 & 18.8944099\\\\\n",
       "\t EWR & MIA & 10 & -4.475410 & -3.7868852\\\\\n",
       "\t EWR & PHX & 10 & -3.032258 & -4.2903226\\\\\n",
       "\t JFK & LAX &  1 &  6.590361 & 14.2289157\\\\\n",
       "\t JFK & MIA &  1 & 15.720670 & 18.7430168\\\\\n",
       "\t JFK & SEA &  1 & 14.357143 & 30.7500000\\\\\n",
       "\t ⋮ & ⋮ & ⋮ & ⋮ & ⋮\\\\\n",
       "\t LGA & ORD &  2 &   5.2852665 &  8.7899687\\\\\n",
       "\t LGA & MIA &  2 &   9.6250000 & 10.7000000\\\\\n",
       "\t LGA & DFW &  2 &   5.3713355 &  7.4788274\\\\\n",
       "\t LGA & PBI &  3 &  -5.7540984 &  3.0327869\\\\\n",
       "\t LGA & ORD &  3 &   2.2828283 &  3.6464646\\\\\n",
       "\t LGA & MIA &  3 &  -1.7076923 &  0.7641026\\\\\n",
       "\t LGA & DFW &  3 &  -0.2460733 & -1.2853403\\\\\n",
       "\t LGA & PBI &  4 & -13.9666667 & -4.7333333\\\\\n",
       "\t LGA & ORD &  4 &   1.3588110 &  4.4182590\\\\\n",
       "\t LGA & MIA &  4 &  -3.8275862 &  0.6551724\\\\\n",
       "\t LGA & DFW &  4 &  -1.7734375 & -0.8020833\\\\\n",
       "\t LGA & ORD &  5 &  12.8898488 & 12.3844492\\\\\n",
       "\t LGA & MIA &  5 &  -4.3606061 &  7.6424242\\\\\n",
       "\t LGA & DFW &  5 &   1.1266150 &  7.7416021\\\\\n",
       "\t LGA & PBI &  5 & -10.3571429 & -6.8571429\\\\\n",
       "\t LGA & ORD &  6 &  18.9145299 & 17.2991453\\\\\n",
       "\t LGA & MIA &  6 &  -2.4576803 &  8.4670846\\\\\n",
       "\t LGA & DFW &  6 &   5.2592593 &  8.3068783\\\\\n",
       "\t LGA & MIA &  7 &   4.8658537 &  7.4878049\\\\\n",
       "\t LGA & ORD &  7 &   7.4535865 &  8.4367089\\\\\n",
       "\t LGA & DFW &  7 &   4.2918782 &  6.5710660\\\\\n",
       "\t LGA & MIA &  8 &  -4.4423077 &  3.5416667\\\\\n",
       "\t LGA & ORD &  8 &  15.1728395 & 14.3333333\\\\\n",
       "\t LGA & DFW &  8 &  -3.0765306 &  5.4744898\\\\\n",
       "\t LGA & ORD &  9 &   4.3311547 &  3.7843137\\\\\n",
       "\t LGA & DFW &  9 &  -8.7877238 & -0.2557545\\\\\n",
       "\t LGA & MIA &  9 &  -8.5799257 & -4.0408922\\\\\n",
       "\t LGA & ORD & 10 &  15.4661191 & 12.9117043\\\\\n",
       "\t LGA & DFW & 10 &   3.5000000 &  4.5527638\\\\\n",
       "\t LGA & MIA & 10 &  -6.2517986 & -1.4208633\\\\\n",
       "\\end{tabular}\n"
      ],
      "text/markdown": [
       "\n",
       "A data.table: 200 × 5\n",
       "\n",
       "| origin &lt;chr&gt; | dest &lt;chr&gt; | month &lt;int&gt; | arr_delay &lt;dbl&gt; | dep_delay &lt;dbl&gt; |\n",
       "|---|---|---|---|---|\n",
       "| EWR | LAX |  1 |  1.366667 |  7.5000000 |\n",
       "| EWR | MIA |  1 | 11.011236 | 12.1235955 |\n",
       "| EWR | DFW |  1 |  6.427673 | 10.0125786 |\n",
       "| EWR | MIA |  2 |  1.564103 |  4.7564103 |\n",
       "| EWR | DFW |  2 | 10.536765 | 11.3455882 |\n",
       "| EWR | LAX |  2 | 10.333333 |  4.1111111 |\n",
       "| EWR | DFW |  3 | 12.865031 |  8.0797546 |\n",
       "| EWR | LAX |  3 | -4.400000 | -6.8000000 |\n",
       "| EWR | MIA |  3 | -4.111111 |  0.4444444 |\n",
       "| EWR | DFW |  4 | 17.792683 | 12.9207317 |\n",
       "| EWR | MIA |  4 |  3.188889 |  6.4333333 |\n",
       "| EWR | DFW |  5 | 18.487805 | 18.6829268 |\n",
       "| EWR | MIA |  5 | -2.537634 |  6.3440860 |\n",
       "| EWR | DFW |  6 | 37.005952 | 38.7440476 |\n",
       "| EWR | MIA |  6 |  7.306818 | 16.2045455 |\n",
       "| EWR | DFW |  7 | 20.250000 | 21.1547619 |\n",
       "| EWR | MIA |  7 | 25.219780 | 26.3516484 |\n",
       "| EWR | PHX |  7 | -5.103448 |  0.2758621 |\n",
       "| EWR | DFW |  8 | 16.936047 | 22.0697674 |\n",
       "| EWR | MIA |  8 | -6.125000 |  0.8461538 |\n",
       "| EWR | PHX |  8 |  3.548387 |  6.2258065 |\n",
       "| EWR | DFW |  9 |  5.865031 | 13.0552147 |\n",
       "| EWR | MIA |  9 | -0.906250 |  0.3593750 |\n",
       "| EWR | PHX |  9 | -4.233333 | -1.6666667 |\n",
       "| EWR | DFW | 10 | 18.813665 | 18.8944099 |\n",
       "| EWR | MIA | 10 | -4.475410 | -3.7868852 |\n",
       "| EWR | PHX | 10 | -3.032258 | -4.2903226 |\n",
       "| JFK | LAX |  1 |  6.590361 | 14.2289157 |\n",
       "| JFK | MIA |  1 | 15.720670 | 18.7430168 |\n",
       "| JFK | SEA |  1 | 14.357143 | 30.7500000 |\n",
       "| ⋮ | ⋮ | ⋮ | ⋮ | ⋮ |\n",
       "| LGA | ORD |  2 |   5.2852665 |  8.7899687 |\n",
       "| LGA | MIA |  2 |   9.6250000 | 10.7000000 |\n",
       "| LGA | DFW |  2 |   5.3713355 |  7.4788274 |\n",
       "| LGA | PBI |  3 |  -5.7540984 |  3.0327869 |\n",
       "| LGA | ORD |  3 |   2.2828283 |  3.6464646 |\n",
       "| LGA | MIA |  3 |  -1.7076923 |  0.7641026 |\n",
       "| LGA | DFW |  3 |  -0.2460733 | -1.2853403 |\n",
       "| LGA | PBI |  4 | -13.9666667 | -4.7333333 |\n",
       "| LGA | ORD |  4 |   1.3588110 |  4.4182590 |\n",
       "| LGA | MIA |  4 |  -3.8275862 |  0.6551724 |\n",
       "| LGA | DFW |  4 |  -1.7734375 | -0.8020833 |\n",
       "| LGA | ORD |  5 |  12.8898488 | 12.3844492 |\n",
       "| LGA | MIA |  5 |  -4.3606061 |  7.6424242 |\n",
       "| LGA | DFW |  5 |   1.1266150 |  7.7416021 |\n",
       "| LGA | PBI |  5 | -10.3571429 | -6.8571429 |\n",
       "| LGA | ORD |  6 |  18.9145299 | 17.2991453 |\n",
       "| LGA | MIA |  6 |  -2.4576803 |  8.4670846 |\n",
       "| LGA | DFW |  6 |   5.2592593 |  8.3068783 |\n",
       "| LGA | MIA |  7 |   4.8658537 |  7.4878049 |\n",
       "| LGA | ORD |  7 |   7.4535865 |  8.4367089 |\n",
       "| LGA | DFW |  7 |   4.2918782 |  6.5710660 |\n",
       "| LGA | MIA |  8 |  -4.4423077 |  3.5416667 |\n",
       "| LGA | ORD |  8 |  15.1728395 | 14.3333333 |\n",
       "| LGA | DFW |  8 |  -3.0765306 |  5.4744898 |\n",
       "| LGA | ORD |  9 |   4.3311547 |  3.7843137 |\n",
       "| LGA | DFW |  9 |  -8.7877238 | -0.2557545 |\n",
       "| LGA | MIA |  9 |  -8.5799257 | -4.0408922 |\n",
       "| LGA | ORD | 10 |  15.4661191 | 12.9117043 |\n",
       "| LGA | DFW | 10 |   3.5000000 |  4.5527638 |\n",
       "| LGA | MIA | 10 |  -6.2517986 | -1.4208633 |\n",
       "\n"
      ],
      "text/plain": [
       "    origin dest month arr_delay   dep_delay \n",
       "1   EWR    LAX   1     1.366667    7.5000000\n",
       "2   EWR    MIA   1    11.011236   12.1235955\n",
       "3   EWR    DFW   1     6.427673   10.0125786\n",
       "4   EWR    MIA   2     1.564103    4.7564103\n",
       "5   EWR    DFW   2    10.536765   11.3455882\n",
       "6   EWR    LAX   2    10.333333    4.1111111\n",
       "7   EWR    DFW   3    12.865031    8.0797546\n",
       "8   EWR    LAX   3    -4.400000   -6.8000000\n",
       "9   EWR    MIA   3    -4.111111    0.4444444\n",
       "10  EWR    DFW   4    17.792683   12.9207317\n",
       "11  EWR    MIA   4     3.188889    6.4333333\n",
       "12  EWR    DFW   5    18.487805   18.6829268\n",
       "13  EWR    MIA   5    -2.537634    6.3440860\n",
       "14  EWR    DFW   6    37.005952   38.7440476\n",
       "15  EWR    MIA   6     7.306818   16.2045455\n",
       "16  EWR    DFW   7    20.250000   21.1547619\n",
       "17  EWR    MIA   7    25.219780   26.3516484\n",
       "18  EWR    PHX   7    -5.103448    0.2758621\n",
       "19  EWR    DFW   8    16.936047   22.0697674\n",
       "20  EWR    MIA   8    -6.125000    0.8461538\n",
       "21  EWR    PHX   8     3.548387    6.2258065\n",
       "22  EWR    DFW   9     5.865031   13.0552147\n",
       "23  EWR    MIA   9    -0.906250    0.3593750\n",
       "24  EWR    PHX   9    -4.233333   -1.6666667\n",
       "25  EWR    DFW  10    18.813665   18.8944099\n",
       "26  EWR    MIA  10    -4.475410   -3.7868852\n",
       "27  EWR    PHX  10    -3.032258   -4.2903226\n",
       "28  JFK    LAX   1     6.590361   14.2289157\n",
       "29  JFK    MIA   1    15.720670   18.7430168\n",
       "30  JFK    SEA   1    14.357143   30.7500000\n",
       "⋮   ⋮      ⋮    ⋮     ⋮           ⋮         \n",
       "171 LGA    ORD   2      5.2852665  8.7899687\n",
       "172 LGA    MIA   2      9.6250000 10.7000000\n",
       "173 LGA    DFW   2      5.3713355  7.4788274\n",
       "174 LGA    PBI   3     -5.7540984  3.0327869\n",
       "175 LGA    ORD   3      2.2828283  3.6464646\n",
       "176 LGA    MIA   3     -1.7076923  0.7641026\n",
       "177 LGA    DFW   3     -0.2460733 -1.2853403\n",
       "178 LGA    PBI   4    -13.9666667 -4.7333333\n",
       "179 LGA    ORD   4      1.3588110  4.4182590\n",
       "180 LGA    MIA   4     -3.8275862  0.6551724\n",
       "181 LGA    DFW   4     -1.7734375 -0.8020833\n",
       "182 LGA    ORD   5     12.8898488 12.3844492\n",
       "183 LGA    MIA   5     -4.3606061  7.6424242\n",
       "184 LGA    DFW   5      1.1266150  7.7416021\n",
       "185 LGA    PBI   5    -10.3571429 -6.8571429\n",
       "186 LGA    ORD   6     18.9145299 17.2991453\n",
       "187 LGA    MIA   6     -2.4576803  8.4670846\n",
       "188 LGA    DFW   6      5.2592593  8.3068783\n",
       "189 LGA    MIA   7      4.8658537  7.4878049\n",
       "190 LGA    ORD   7      7.4535865  8.4367089\n",
       "191 LGA    DFW   7      4.2918782  6.5710660\n",
       "192 LGA    MIA   8     -4.4423077  3.5416667\n",
       "193 LGA    ORD   8     15.1728395 14.3333333\n",
       "194 LGA    DFW   8     -3.0765306  5.4744898\n",
       "195 LGA    ORD   9      4.3311547  3.7843137\n",
       "196 LGA    DFW   9     -8.7877238 -0.2557545\n",
       "197 LGA    MIA   9     -8.5799257 -4.0408922\n",
       "198 LGA    ORD  10     15.4661191 12.9117043\n",
       "199 LGA    DFW  10      3.5000000  4.5527638\n",
       "200 LGA    MIA  10     -6.2517986 -1.4208633"
      ]
     },
     "metadata": {},
     "output_type": "display_data"
    }
   ],
   "source": [
    "# 为了计算（多个）列，我们可以简单地使用基本 R 函数lapply() \n",
    "# 使用 .SDcols 限定操作的列\n",
    "flights[carrier == \"AA\",                       ## Only on trips with carrier \"AA\"\n",
    "        lapply(.SD, mean),                     ## compute the mean\n",
    "        by = .(origin, dest, month),           ## for every 'origin,dest,month'\n",
    "        .SDcols = c(\"arr_delay\", \"dep_delay\")] ## for just those specified in .SDcols"
   ]
  },
  {
   "cell_type": "code",
   "execution_count": null,
   "metadata": {
    "vscode": {
     "languageId": "r"
    }
   },
   "outputs": [],
   "source": []
  }
 ],
 "metadata": {
  "kernelspec": {
   "display_name": "R",
   "language": "R",
   "name": "ir"
  },
  "language_info": {
   "codemirror_mode": "r",
   "file_extension": ".r",
   "mimetype": "text/x-r-source",
   "name": "R",
   "pygments_lexer": "r",
   "version": "4.4.2"
  }
 },
 "nbformat": 4,
 "nbformat_minor": 2
}
