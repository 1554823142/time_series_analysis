{
 "cells": [
  {
   "cell_type": "markdown",
   "id": "b776c86976e444a5",
   "metadata": {},
   "source": [
    "# influxdb python api使用\n",
    "\n",
    "- 参考:<https://www.cnblogs.com/yance-dev/p/10500209.html>"
   ]
  },
  {
   "cell_type": "code",
   "execution_count": 10,
   "id": "initial_id",
   "metadata": {
    "ExecuteTime": {
     "end_time": "2025-01-19T12:37:51.084135Z",
     "start_time": "2025-01-19T12:37:51.068513Z"
    },
    "collapsed": true
   },
   "outputs": [],
   "source": [
    "from influxdb import InfluxDBClient\n",
    "\n",
    "# 连接数据库\n",
    "client = InfluxDBClient(host='localhost', port=8086, database='mydb')\n"
   ]
  },
  {
   "cell_type": "code",
   "execution_count": 11,
   "id": "3497fb711414bac",
   "metadata": {},
   "outputs": [],
   "source": [
    "# 创建数据库\n",
    "client.create_database('example')"
   ]
  },
  {
   "cell_type": "code",
   "execution_count": 12,
   "id": "b7b22f78a0083bbd",
   "metadata": {
    "ExecuteTime": {
     "end_time": "2025-01-19T12:40:10.771839Z",
     "start_time": "2025-01-19T12:40:10.764790Z"
    }
   },
   "outputs": [
    {
     "name": "stdout",
     "output_type": "stream",
     "text": [
      "[{'name': '_internal'}, {'name': 'mydb'}, {'name': 'example'}]\n"
     ]
    }
   ],
   "source": [
    "print(client.get_list_database()) # 显示所有数据库名称"
   ]
  },
  {
   "cell_type": "code",
   "execution_count": 13,
   "id": "52b657ac89b3d5df",
   "metadata": {
    "ExecuteTime": {
     "end_time": "2025-01-19T12:38:54.169992Z",
     "start_time": "2025-01-19T12:38:54.163973Z"
    }
   },
   "outputs": [],
   "source": [
    "client.drop_database('example') # 删除数据库"
   ]
  },
  {
   "cell_type": "code",
   "execution_count": 14,
   "id": "2818b883de8feef",
   "metadata": {},
   "outputs": [
    {
     "name": "stdout",
     "output_type": "stream",
     "text": [
      "[{'name': '_internal'}, {'name': 'mydb'}]\n"
     ]
    }
   ],
   "source": [
    "print(client.get_list_database()) # 显示所有数据库名称"
   ]
  },
  {
   "cell_type": "code",
   "execution_count": 15,
   "id": "e9da5468a3f4145b",
   "metadata": {
    "ExecuteTime": {
     "end_time": "2025-01-19T12:39:03.669435Z",
     "start_time": "2025-01-19T12:39:03.666433Z"
    }
   },
   "outputs": [
    {
     "name": "stdout",
     "output_type": "stream",
     "text": [
      "Result: ResultSet({'('measurements', None)': [{'name': 'cpu'}, {'name': 'temperature'}]})\n"
     ]
    }
   ],
   "source": [
    "result = client.query('show measurements;') # 显示数据库中的表\n",
    "print(\"Result: {0}\".format(result))"
   ]
  },
  {
   "cell_type": "code",
   "execution_count": 16,
   "id": "53a915ffdd0d8b79",
   "metadata": {
    "ExecuteTime": {
     "end_time": "2025-01-19T12:39:08.522451Z",
     "start_time": "2025-01-19T12:39:08.484086Z"
    }
   },
   "outputs": [
    {
     "name": "stdout",
     "output_type": "stream",
     "text": [
      "ResultSet({'('cpu', None)': [{'time': '2025-01-19T12:07:02.666221Z', 'host': 'ServerA', 'region': 'us_west', 'value': 64.0}]})\n"
     ]
    }
   ],
   "source": [
    "# 查询数据\n",
    "result = client.query('SELECT * FROM cpu;', database='mydb')\n",
    "print(result)"
   ]
  },
  {
   "cell_type": "markdown",
   "id": "6bc578f6",
   "metadata": {},
   "source": [
    "### 创建表并增加数据 使用`write_points()`"
   ]
  },
  {
   "cell_type": "code",
   "execution_count": null,
   "id": "cbc726f928cf0a5f",
   "metadata": {},
   "outputs": [],
   "source": [
    "import datetime\n",
    "\n",
    "# 建表并添加数据\n",
    "current_time = datetime.datetime.now(datetime.timezone.utc).isoformat(\"T\")\n",
    "body = [\n",
    "    {\n",
    "        \"measurement\": \"students\",\n",
    "        \"time\": current_time,\n",
    "        \"tags\": {\n",
    "            \"class\": 1\n",
    "        },\n",
    "        \"fields\": {\n",
    "            \"name\": \"Hyc\",\n",
    "            \"age\": 3\n",
    "        },\n",
    "    }\n",
    "]\n",
    "\n",
    "res = client.write_points(body)"
   ]
  },
  {
   "cell_type": "code",
   "execution_count": 20,
   "id": "e12912ca",
   "metadata": {},
   "outputs": [
    {
     "data": {
      "text/plain": [
       "ResultSet({'('students', None)': [{'time': '2025-01-19T12:50:36.438006Z', 'age': 3, 'class': '1', 'name': 'Hyc'}]})"
      ]
     },
     "execution_count": 20,
     "metadata": {},
     "output_type": "execute_result"
    }
   ],
   "source": [
    "client.query(\"select * from students;\")"
   ]
  },
  {
   "cell_type": "markdown",
   "id": "90979dd6",
   "metadata": {},
   "source": [
    "### 删除表 使用influxQL语句"
   ]
  },
  {
   "cell_type": "code",
   "execution_count": 22,
   "id": "b05df6e8",
   "metadata": {},
   "outputs": [
    {
     "data": {
      "text/plain": [
       "ResultSet({})"
      ]
     },
     "execution_count": 22,
     "metadata": {},
     "output_type": "execute_result"
    }
   ],
   "source": [
    "client.query('drop measurement \"student\";')"
   ]
  },
  {
   "cell_type": "code",
   "execution_count": 24,
   "id": "7490fc8b",
   "metadata": {},
   "outputs": [
    {
     "name": "stdout",
     "output_type": "stream",
     "text": [
      "Result: ResultSet({'('measurements', None)': [{'name': 'cpu'}, {'name': 'students'}, {'name': 'temperature'}]})\n"
     ]
    }
   ],
   "source": [
    "result = client.query('show measurements;') # 显示数据库中的表\n",
    "print(\"Result: {0}\".format(result))"
   ]
  }
 ],
 "metadata": {
  "kernelspec": {
   "display_name": "Python 3",
   "language": "python",
   "name": "python3"
  },
  "language_info": {
   "codemirror_mode": {
    "name": "ipython",
    "version": 3
   },
   "file_extension": ".py",
   "mimetype": "text/x-python",
   "name": "python",
   "nbconvert_exporter": "python",
   "pygments_lexer": "ipython3",
   "version": "3.12.5"
  }
 },
 "nbformat": 4,
 "nbformat_minor": 5
}
