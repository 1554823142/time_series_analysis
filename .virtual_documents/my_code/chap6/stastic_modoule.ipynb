require(zoo)
require(data.table)



data <- fread('../../data/my_data/AirQualityUCI.csv')
data


# 计算一行中NA的数量, 并删除数量大于2的行(因为正常的只有最后两列为NA)
data_clean <- data[apply(data, 1, function(x) sum(is.na(x))) <= 2]


# 删除最后两列
env <- data_clean[, 1:(ncol(data_clean)-2)]


env


# 再检查是否有缺失值
colSums(is.na(env))


# 经检查, 没有缺失值, 可以继续

